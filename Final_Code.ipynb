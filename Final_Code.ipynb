{
 "cells": [
  {
   "cell_type": "code",
   "execution_count": 1,
   "id": "8f6a57e0",
   "metadata": {},
   "outputs": [],
   "source": [
    "import numpy as np\n",
    "import matplotlib.pyplot as plt\n",
    "import pandas as pd\n",
    "import seaborn as sns\n",
    "import scipy.stats as stats\n",
    "import tensorflow as tf\n",
    "from scipy.stats import skew\n",
    "from sklearn.decomposition import PCA\n",
    "from sklearn.preprocessing import MinMaxScaler, StandardScaler\n",
    "from sklearn.preprocessing import PowerTransformer\n",
    "from sklearn.model_selection import train_test_split\n",
    "from sklearn.preprocessing import PowerTransformer\n",
    "from keras.models import Sequential\n",
    "from keras.layers import Dense, Input, Dropout\n",
    "from keras.optimizers import Adam\n",
    "from keras.regularizers import l2\n",
    "from sklearn.preprocessing import PolynomialFeatures\n",
    "from sklearn.metrics import mean_squared_error, mean_absolute_error\n",
    "from keras import backend as K\n",
    "from keras.callbacks import EarlyStopping, LearningRateScheduler"
   ]
  },
  {
   "cell_type": "markdown",
   "id": "c0206e04",
   "metadata": {},
   "source": [
    "### Consumer Prices"
   ]
  },
  {
   "cell_type": "code",
   "execution_count": 2,
   "id": "4b87f4f5",
   "metadata": {},
   "outputs": [
    {
     "data": {
      "text/plain": [
       "(  Domain Code                  Domain  Area Code (M49)         Area  \\\n",
       " 0          CP  Consumer Price Indices                4  Afghanistan   \n",
       " 1          CP  Consumer Price Indices                4  Afghanistan   \n",
       " 2          CP  Consumer Price Indices                4  Afghanistan   \n",
       " 3          CP  Consumer Price Indices                4  Afghanistan   \n",
       " 4          CP  Consumer Price Indices                4  Afghanistan   \n",
       " \n",
       "    Year Code  Year  Item Code                                        Item  \\\n",
       " 0       2000  2000      23013  Consumer Prices, Food Indices (2015 = 100)   \n",
       " 1       2000  2000      23013  Consumer Prices, Food Indices (2015 = 100)   \n",
       " 2       2000  2000      23013  Consumer Prices, Food Indices (2015 = 100)   \n",
       " 3       2000  2000      23013  Consumer Prices, Food Indices (2015 = 100)   \n",
       " 4       2000  2000      23013  Consumer Prices, Food Indices (2015 = 100)   \n",
       " \n",
       "    Months Code    Months  Element Code Element Unit      Value Flag  \\\n",
       " 0         7001   January          6125   Value  NaN  24.356332    I   \n",
       " 1         7002  February          6125   Value  NaN  23.636242    I   \n",
       " 2         7003     March          6125   Value  NaN  23.485345    I   \n",
       " 3         7004     April          6125   Value  NaN  24.767194    I   \n",
       " 4         7005       May          6125   Value  NaN  25.956912    I   \n",
       " \n",
       "   Flag Description               Note  \n",
       " 0    Imputed value  base year is 2015  \n",
       " 1    Imputed value  base year is 2015  \n",
       " 2    Imputed value  base year is 2015  \n",
       " 3    Imputed value  base year is 2015  \n",
       " 4    Imputed value  base year is 2015  ,\n",
       " Index(['Domain Code', 'Domain', 'Area Code (M49)', 'Area', 'Year Code', 'Year',\n",
       "        'Item Code', 'Item', 'Months Code', 'Months', 'Element Code', 'Element',\n",
       "        'Unit', 'Value', 'Flag', 'Flag Description', 'Note'],\n",
       "       dtype='object'))"
      ]
     },
     "execution_count": 2,
     "metadata": {},
     "output_type": "execute_result"
    }
   ],
   "source": [
    "# Load the first dataset\n",
    "consumer_prices_path = r'C:\\Users\\odans\\Documents\\SUSSEX LAB WORKS\\MACHINE LEARNING\\Assignment\\OneDrive_1_22-03-2024_updated\\Consumer prices indicators - FAOSTAT_data_en_2-22-2024.csv'\n",
    "consumer_prices_data = pd.read_csv(consumer_prices_path)\n",
    "\n",
    "# Display the first few rows and the columns of the dataset\n",
    "consumer_prices_data.head(), consumer_prices_data.columns"
   ]
  },
  {
   "cell_type": "markdown",
   "id": "9380c6b3",
   "metadata": {},
   "source": [
    "### Crops production indicators"
   ]
  },
  {
   "cell_type": "code",
   "execution_count": 3,
   "id": "1ba838fc",
   "metadata": {},
   "outputs": [
    {
     "data": {
      "text/plain": [
       "(  Domain Code                        Domain  Area Code (M49)         Area  \\\n",
       " 0         QCL  Crops and livestock products                4  Afghanistan   \n",
       " 1         QCL  Crops and livestock products                4  Afghanistan   \n",
       " 2         QCL  Crops and livestock products                4  Afghanistan   \n",
       " 3         QCL  Crops and livestock products                4  Afghanistan   \n",
       " 4         QCL  Crops and livestock products                4  Afghanistan   \n",
       " \n",
       "    Element Code Element Item Code (CPC)              Item  Year Code  Year  \\\n",
       " 0          5419   Yield           F1717  Cereals, primary       2000  2000   \n",
       " 1          5419   Yield           F1717  Cereals, primary       2001  2001   \n",
       " 2          5419   Yield           F1717  Cereals, primary       2002  2002   \n",
       " 3          5419   Yield           F1717  Cereals, primary       2003  2003   \n",
       " 4          5419   Yield           F1717  Cereals, primary       2004  2004   \n",
       " \n",
       "        Unit  Value Flag Flag Description  Note  \n",
       " 0  100 g/ha   8063    A  Official figure   NaN  \n",
       " 1  100 g/ha  10067    A  Official figure   NaN  \n",
       " 2  100 g/ha  16698    A  Official figure   NaN  \n",
       " 3  100 g/ha  14580    A  Official figure   NaN  \n",
       " 4  100 g/ha  13348    A  Official figure   NaN  ,\n",
       " Index(['Domain Code', 'Domain', 'Area Code (M49)', 'Area', 'Element Code',\n",
       "        'Element', 'Item Code (CPC)', 'Item', 'Year Code', 'Year', 'Unit',\n",
       "        'Value', 'Flag', 'Flag Description', 'Note'],\n",
       "       dtype='object'))"
      ]
     },
     "execution_count": 3,
     "metadata": {},
     "output_type": "execute_result"
    }
   ],
   "source": [
    "# Load the second dataset\n",
    "crops_production_path = r'C:\\Users\\odans\\Documents\\SUSSEX LAB WORKS\\MACHINE LEARNING\\Assignment\\OneDrive_1_22-03-2024_updated\\Crops production indicators - FAOSTAT_data_en_2-22-2024.csv'\n",
    "crops_production_data = pd.read_csv(crops_production_path)\n",
    "\n",
    "# Display the first few rows and the columns of the dataset\n",
    "crops_production_data.head(), crops_production_data.columns"
   ]
  },
  {
   "cell_type": "markdown",
   "id": "00ef68b5",
   "metadata": {},
   "source": [
    "Since we are focusing on annual predictions, we will aggregate the \"Consumer Prices\" data to an annual level before merging.\n",
    "\n",
    "1. **Aggregate \"Consumer Prices\" Data**: Calculate the annual average for each country and item.\n",
    "2. **Merge with \"Crops Production\"**: Combine these datasets using 'Area' and 'Year' as keys.\n",
    "\n",
    "Let's start by aggregating the \"Consumer Prices\" data and then proceed to merge it with the \"Crops Production\" data."
   ]
  },
  {
   "cell_type": "code",
   "execution_count": 4,
   "id": "56950249",
   "metadata": {},
   "outputs": [
    {
     "data": {
      "text/plain": [
       "(          Area  Year    Value_x Domain Code                        Domain  \\\n",
       " 0  Afghanistan  2000  26.629848         QCL  Crops and livestock products   \n",
       " 1  Afghanistan  2000  26.629848         QCL  Crops and livestock products   \n",
       " 2  Afghanistan  2000  26.629848         QCL  Crops and livestock products   \n",
       " 3  Afghanistan  2000  26.629848         QCL  Crops and livestock products   \n",
       " 4  Afghanistan  2000  26.629848         QCL  Crops and livestock products   \n",
       " \n",
       "    Area Code (M49)  Element Code Element Item Code (CPC)  \\\n",
       " 0                4          5419   Yield           F1717   \n",
       " 1                4          5419   Yield           F1804   \n",
       " 2                4          5419   Yield          F17530   \n",
       " 3                4          5419   Yield           F1738   \n",
       " 4                4          5419   Yield           F1841   \n",
       " \n",
       "                             Item  Year Code      Unit  Value_y Flag  \\\n",
       " 0               Cereals, primary       2000  100 g/ha     8063    A   \n",
       " 1            Citrus Fruit, Total       2000  100 g/ha    71245    E   \n",
       " 2  Fibre Crops, Fibre Equivalent       2000  100 g/ha     3990    E   \n",
       " 3                  Fruit Primary       2000  100 g/ha    76730    E   \n",
       " 4      Oilcrops, Cake Equivalent       2000  100 g/ha     3833    E   \n",
       " \n",
       "   Flag Description  Note  \n",
       " 0  Official figure   NaN  \n",
       " 1  Estimated value   NaN  \n",
       " 2  Estimated value   NaN  \n",
       " 3  Estimated value   NaN  \n",
       " 4  Estimated value   NaN  ,\n",
       " Index(['Area', 'Year', 'Value_x', 'Domain Code', 'Domain', 'Area Code (M49)',\n",
       "        'Element Code', 'Element', 'Item Code (CPC)', 'Item', 'Year Code',\n",
       "        'Unit', 'Value_y', 'Flag', 'Flag Description', 'Note'],\n",
       "       dtype='object'))"
      ]
     },
     "execution_count": 4,
     "metadata": {},
     "output_type": "execute_result"
    }
   ],
   "source": [
    "# Aggregate 'Consumer Prices' data to annual level by calculating the mean value for each 'Area' and 'Year'\n",
    "consumer_prices_annual = consumer_prices_data.groupby(['Area', 'Year']).agg({'Value': 'mean'}).reset_index()\n",
    "\n",
    "# Merge 'Consumer Prices' annual data with 'Crops Production' data\n",
    "merged_data = pd.merge(consumer_prices_annual, crops_production_data, on=['Area', 'Year'], how='inner')\n",
    "\n",
    "# Display the first few rows and columns of the merged dataset to verify the merge\n",
    "merged_data.head(), merged_data.columns"
   ]
  },
  {
   "cell_type": "markdown",
   "id": "0fe98b23",
   "metadata": {},
   "source": [
    "### Emission Dataset\n",
    "\n",
    "Next, we'll merge the combined data with the \"Emissions\" dataset. "
   ]
  },
  {
   "cell_type": "code",
   "execution_count": 5,
   "id": "7d2e4658",
   "metadata": {},
   "outputs": [
    {
     "data": {
      "text/plain": [
       "(  Domain Code                Domain  Area Code (M49)         Area  \\\n",
       " 0         GCE  Emissions from Crops                4  Afghanistan   \n",
       " 1         GCE  Emissions from Crops                4  Afghanistan   \n",
       " 2         GCE  Emissions from Crops                4  Afghanistan   \n",
       " 3         GCE  Emissions from Crops                4  Afghanistan   \n",
       " 4         GCE  Emissions from Crops                4  Afghanistan   \n",
       " \n",
       "    Element Code                      Element Item Code (CPC)       Item  \\\n",
       " 0         72430  Crops total (Emissions N2O)           F1712  All Crops   \n",
       " 1         72440  Crops total (Emissions CH4)           F1712  All Crops   \n",
       " 2         72430  Crops total (Emissions N2O)           F1712  All Crops   \n",
       " 3         72440  Crops total (Emissions CH4)           F1712  All Crops   \n",
       " 4         72430  Crops total (Emissions N2O)           F1712  All Crops   \n",
       " \n",
       "    Year Code  Year  Source Code      Source Unit    Value Flag  \\\n",
       " 0       2000  2000         3050  FAO TIER 1   kt   0.7056    E   \n",
       " 1       2000  2000         3050  FAO TIER 1   kt  20.8471    E   \n",
       " 2       2001  2001         3050  FAO TIER 1   kt   0.7054    E   \n",
       " 3       2001  2001         3050  FAO TIER 1   kt  19.2605    E   \n",
       " 4       2002  2002         3050  FAO TIER 1   kt   1.0656    E   \n",
       " \n",
       "   Flag Description  Note  \n",
       " 0  Estimated value   NaN  \n",
       " 1  Estimated value   NaN  \n",
       " 2  Estimated value   NaN  \n",
       " 3  Estimated value   NaN  \n",
       " 4  Estimated value   NaN  ,\n",
       " Index(['Domain Code', 'Domain', 'Area Code (M49)', 'Area', 'Element Code',\n",
       "        'Element', 'Item Code (CPC)', 'Item', 'Year Code', 'Year',\n",
       "        'Source Code', 'Source', 'Unit', 'Value', 'Flag', 'Flag Description',\n",
       "        'Note'],\n",
       "       dtype='object'))"
      ]
     },
     "execution_count": 5,
     "metadata": {},
     "output_type": "execute_result"
    }
   ],
   "source": [
    "# Load the \"Emissions\" dataset\n",
    "emissions_path = r'C:\\Users\\odans\\Documents\\SUSSEX LAB WORKS\\MACHINE LEARNING\\Assignment\\OneDrive_1_22-03-2024_updated\\Emissions - FAOSTAT_data_en_2-27-2024.csv'\n",
    "emissions_data = pd.read_csv(emissions_path)\n",
    "\n",
    "# Display the first few rows and the columns of the dataset\n",
    "emissions_data.head(), emissions_data.columns"
   ]
  },
  {
   "cell_type": "markdown",
   "id": "c425b6bb",
   "metadata": {},
   "source": [
    "The \"Emissions\" dataset includes important fields like 'Area' and 'Year', which align with the keys used for previous merges. This dataset also provides emission data in terms of 'Value' which reflects the emission levels of crops.\n",
    "\n",
    "**Filter Relevant Fields:** We only need to keep specific fields such as 'Area', 'Year', and 'Value' in this dataset.\n",
    "as these are the features we will be needing."
   ]
  },
  {
   "cell_type": "code",
   "execution_count": 6,
   "id": "6f3ba3a7",
   "metadata": {},
   "outputs": [
    {
     "data": {
      "text/plain": [
       "(          Area  Year    Value_x Domain Code                        Domain  \\\n",
       " 0  Afghanistan  2000  26.629848         QCL  Crops and livestock products   \n",
       " 1  Afghanistan  2000  26.629848         QCL  Crops and livestock products   \n",
       " 2  Afghanistan  2000  26.629848         QCL  Crops and livestock products   \n",
       " 3  Afghanistan  2000  26.629848         QCL  Crops and livestock products   \n",
       " 4  Afghanistan  2000  26.629848         QCL  Crops and livestock products   \n",
       " \n",
       "    Area Code (M49)  Element Code Element Item Code (CPC)  \\\n",
       " 0                4          5419   Yield           F1717   \n",
       " 1                4          5419   Yield           F1804   \n",
       " 2                4          5419   Yield          F17530   \n",
       " 3                4          5419   Yield           F1738   \n",
       " 4                4          5419   Yield           F1841   \n",
       " \n",
       "                             Item  Year Code      Unit  Value_y Flag  \\\n",
       " 0               Cereals, primary       2000  100 g/ha     8063    A   \n",
       " 1            Citrus Fruit, Total       2000  100 g/ha    71245    E   \n",
       " 2  Fibre Crops, Fibre Equivalent       2000  100 g/ha     3990    E   \n",
       " 3                  Fruit Primary       2000  100 g/ha    76730    E   \n",
       " 4      Oilcrops, Cake Equivalent       2000  100 g/ha     3833    E   \n",
       " \n",
       "   Flag Description  Note    Value  \n",
       " 0  Official figure   NaN  21.5527  \n",
       " 1  Estimated value   NaN  21.5527  \n",
       " 2  Estimated value   NaN  21.5527  \n",
       " 3  Estimated value   NaN  21.5527  \n",
       " 4  Estimated value   NaN  21.5527  ,\n",
       " Index(['Area', 'Year', 'Value_x', 'Domain Code', 'Domain', 'Area Code (M49)',\n",
       "        'Element Code', 'Element', 'Item Code (CPC)', 'Item', 'Year Code',\n",
       "        'Unit', 'Value_y', 'Flag', 'Flag Description', 'Note', 'Value'],\n",
       "       dtype='object'))"
      ]
     },
     "execution_count": 6,
     "metadata": {},
     "output_type": "execute_result"
    }
   ],
   "source": [
    "# Filter relevant fields from the emissions dataset (assuming we're considering all types of emissions here)\n",
    "emissions_relevant = emissions_data[['Area', 'Year', 'Value']]\n",
    "\n",
    "# Group by 'Area' and 'Year' and sum up the emissions values to get a total emission per area per year\n",
    "emissions_grouped = emissions_relevant.groupby(['Area', 'Year']).agg({'Value': 'sum'}).reset_index()\n",
    "\n",
    "# Merge the emissions data with the previously merged data\n",
    "full_merged_data = pd.merge(merged_data, emissions_grouped, on=['Area', 'Year'], how='inner', suffixes=('_prev', '_emissions'))\n",
    "\n",
    "# Display the first few rows and columns of the new merged dataset to verify the merge\n",
    "full_merged_data.head(), full_merged_data.columns"
   ]
  },
  {
   "cell_type": "markdown",
   "id": "0d31908c",
   "metadata": {},
   "source": [
    "The `full_merged_data` dataset includes the emissions data along with the consumer prices and crops production information. The new column labelled 'Value' (renamed during the merge to avoid overlap) represents the total emissions for each area and year, alongside the other variables from previous datasets."
   ]
  },
  {
   "cell_type": "markdown",
   "id": "6a4a6a65",
   "metadata": {},
   "source": [
    "### Employment Dataset"
   ]
  },
  {
   "cell_type": "code",
   "execution_count": 7,
   "id": "54711d86",
   "metadata": {},
   "outputs": [
    {
     "data": {
      "text/plain": [
       "(  Domain Code                              Domain  Area Code (M49)  \\\n",
       " 0         OEA  Employment Indicators: Agriculture                4   \n",
       " 1         OEA  Employment Indicators: Agriculture                4   \n",
       " 2         OEA  Employment Indicators: Agriculture                4   \n",
       " 3         OEA  Employment Indicators: Agriculture                4   \n",
       " 4         OEA  Employment Indicators: Agriculture                4   \n",
       " \n",
       "           Area  Indicator Code  \\\n",
       " 0  Afghanistan           21150   \n",
       " 1  Afghanistan           21150   \n",
       " 2  Afghanistan           21144   \n",
       " 3  Afghanistan           21144   \n",
       " 4  Afghanistan           21144   \n",
       " \n",
       "                                            Indicator  Sex Code    Sex  \\\n",
       " 0  Mean weekly hours actually worked per employed...         1  Total   \n",
       " 1  Mean weekly hours actually worked per employed...         1  Total   \n",
       " 2  Employment in agriculture, forestry and fishin...         1  Total   \n",
       " 3  Employment in agriculture, forestry and fishin...         1  Total   \n",
       " 4  Employment in agriculture, forestry and fishin...         1  Total   \n",
       " \n",
       "    Year Code  Year  Element Code Element  Source Code  \\\n",
       " 0       2014  2014          6173   Value         3021   \n",
       " 1       2017  2017          6173   Value         3021   \n",
       " 2       2000  2000          6199   Value         3043   \n",
       " 3       2001  2001          6199   Value         3043   \n",
       " 4       2002  2002          6199   Value         3043   \n",
       " \n",
       "                                     Source     Unit    Value Flag  \\\n",
       " 0  Household income and expenditure survey       No    31.68    X   \n",
       " 1  Household income and expenditure survey       No    29.66    X   \n",
       " 2             ILO - ILO Modelled Estimates  1000 No  2765.95    X   \n",
       " 3             ILO - ILO Modelled Estimates  1000 No  2805.54    X   \n",
       " 4             ILO - ILO Modelled Estimates  1000 No  2897.51    X   \n",
       " \n",
       "                           Flag Description  \\\n",
       " 0  Figure from international organizations   \n",
       " 1  Figure from international organizations   \n",
       " 2  Figure from international organizations   \n",
       " 3  Figure from international organizations   \n",
       " 4  Figure from international organizations   \n",
       " \n",
       "                                                 Note  \n",
       " 0  Job coverage: Main job currently held Reposito...  \n",
       " 1  Job coverage: Main job currently held Reposito...  \n",
       " 2                                                NaN  \n",
       " 3                                                NaN  \n",
       " 4                                                NaN  ,\n",
       " Index(['Domain Code', 'Domain', 'Area Code (M49)', 'Area', 'Indicator Code',\n",
       "        'Indicator', 'Sex Code', 'Sex', 'Year Code', 'Year', 'Element Code',\n",
       "        'Element', 'Source Code', 'Source', 'Unit', 'Value', 'Flag',\n",
       "        'Flag Description', 'Note'],\n",
       "       dtype='object'))"
      ]
     },
     "execution_count": 7,
     "metadata": {},
     "output_type": "execute_result"
    }
   ],
   "source": [
    "# Load the \"Employment\" dataset\n",
    "employment_path = r'C:\\Users\\odans\\Documents\\SUSSEX LAB WORKS\\MACHINE LEARNING\\Assignment\\OneDrive_1_22-03-2024_updated\\Employment - FAOSTAT_data_en_2-27-2024.csv'\n",
    "employment_data = pd.read_csv(employment_path)\n",
    "\n",
    "# Display the first few rows and the columns of the dataset\n",
    "employment_data.head(), employment_data.columns"
   ]
  },
  {
   "cell_type": "markdown",
   "id": "7550c274",
   "metadata": {},
   "source": [
    "The \"Employment\" dataset includes the following key fields:\n",
    "- 'Area' and 'Year', which match the existing structure of our merged dataset.\n",
    "- 'Value', representing employment data, possibly in various forms (like hours worked or number employed).\n",
    "\n",
    "### Merge Strategy:\n",
    "1. **Filter and Prepare Employment Data**: Since the dataset contains multiple indicators for employment, we use the total number of people employed in agriculture as this has the most direct impact on agricultural export values.\n",
    "2. **Merge**: Combine this filtered employment data with our existing dataset using 'Area' and 'Year'."
   ]
  },
  {
   "cell_type": "code",
   "execution_count": 8,
   "id": "fde37481",
   "metadata": {},
   "outputs": [
    {
     "data": {
      "text/plain": [
       "(          Area  Year    Value_x Domain Code                        Domain  \\\n",
       " 0  Afghanistan  2000  26.629848         QCL  Crops and livestock products   \n",
       " 1  Afghanistan  2000  26.629848         QCL  Crops and livestock products   \n",
       " 2  Afghanistan  2000  26.629848         QCL  Crops and livestock products   \n",
       " 3  Afghanistan  2000  26.629848         QCL  Crops and livestock products   \n",
       " 4  Afghanistan  2000  26.629848         QCL  Crops and livestock products   \n",
       " \n",
       "    Area Code (M49)  Element Code Element Item Code (CPC)  \\\n",
       " 0                4          5419   Yield           F1717   \n",
       " 1                4          5419   Yield           F1804   \n",
       " 2                4          5419   Yield          F17530   \n",
       " 3                4          5419   Yield           F1738   \n",
       " 4                4          5419   Yield           F1841   \n",
       " \n",
       "                             Item  Year Code      Unit  Value_y Flag  \\\n",
       " 0               Cereals, primary       2000  100 g/ha     8063    A   \n",
       " 1            Citrus Fruit, Total       2000  100 g/ha    71245    E   \n",
       " 2  Fibre Crops, Fibre Equivalent       2000  100 g/ha     3990    E   \n",
       " 3                  Fruit Primary       2000  100 g/ha    76730    E   \n",
       " 4      Oilcrops, Cake Equivalent       2000  100 g/ha     3833    E   \n",
       " \n",
       "   Flag Description  Note    Value  Value_employment  \n",
       " 0  Official figure   NaN  21.5527           2765.95  \n",
       " 1  Estimated value   NaN  21.5527           2765.95  \n",
       " 2  Estimated value   NaN  21.5527           2765.95  \n",
       " 3  Estimated value   NaN  21.5527           2765.95  \n",
       " 4  Estimated value   NaN  21.5527           2765.95  ,\n",
       " Index(['Area', 'Year', 'Value_x', 'Domain Code', 'Domain', 'Area Code (M49)',\n",
       "        'Element Code', 'Element', 'Item Code (CPC)', 'Item', 'Year Code',\n",
       "        'Unit', 'Value_y', 'Flag', 'Flag Description', 'Note', 'Value',\n",
       "        'Value_employment'],\n",
       "       dtype='object'))"
      ]
     },
     "execution_count": 8,
     "metadata": {},
     "output_type": "execute_result"
    }
   ],
   "source": [
    "# Filter for total employment in agriculture (using Indicator Code '21144')\n",
    "employment_agriculture = employment_data[employment_data['Indicator Code'] == 21144]\n",
    "\n",
    "# Since the dataset might have multiple entries for each area and year, we'll aggregate it by taking the sum\n",
    "employment_agriculture_grouped = employment_agriculture.groupby(['Area', 'Year']).agg({'Value': 'sum'}).reset_index()\n",
    "\n",
    "# Merge the filtered and aggregated employment data with the existing merged data\n",
    "full_merged_data_with_employment = pd.merge(full_merged_data, employment_agriculture_grouped, on=['Area', 'Year'], how='inner', suffixes=('', '_employment'))\n",
    "\n",
    "# Display the first few rows and columns of the updated merged dataset to verify the merge\n",
    "full_merged_data_with_employment.head(), full_merged_data_with_employment.columns"
   ]
  },
  {
   "cell_type": "markdown",
   "id": "ce01b1b2",
   "metadata": {},
   "source": [
    "The `full_merged_data_with_employment` now includes employment data, specifically the total number of people employed in agriculture, merged with our existing dataset which contains consumer prices, crop production, and emissions data."
   ]
  },
  {
   "cell_type": "markdown",
   "id": "a695ef8b",
   "metadata": {},
   "source": [
    "### Exchange Rate"
   ]
  },
  {
   "cell_type": "code",
   "execution_count": 9,
   "id": "527521d7",
   "metadata": {},
   "outputs": [
    {
     "data": {
      "text/plain": [
       "(  Domain Code          Domain  Area Code (M49)         Area  \\\n",
       " 0          PE  Exchange rates                4  Afghanistan   \n",
       " 1          PE  Exchange rates                4  Afghanistan   \n",
       " 2          PE  Exchange rates                4  Afghanistan   \n",
       " 3          PE  Exchange rates                4  Afghanistan   \n",
       " 4          PE  Exchange rates                4  Afghanistan   \n",
       " \n",
       "   ISO Currency Code (FAO) Currency Element Code                       Element  \\\n",
       " 0                     AFA  Afghani          LCU  Local currency units per USD   \n",
       " 1                     AFA  Afghani          LCU  Local currency units per USD   \n",
       " 2                     AFA  Afghani          LCU  Local currency units per USD   \n",
       " 3                     AFA  Afghani          LCU  Local currency units per USD   \n",
       " 4                     AFA  Afghani          LCU  Local currency units per USD   \n",
       " \n",
       "    Year Code  Year  Months Code    Months  Unit      Value Flag  \\\n",
       " 0       1980  1980         7001   January   NaN  44.129167    X   \n",
       " 1       1980  1980         7002  February   NaN  44.129167    X   \n",
       " 2       1980  1980         7003     March   NaN  44.129167    X   \n",
       " 3       1980  1980         7004     April   NaN  44.129167    X   \n",
       " 4       1980  1980         7005       May   NaN  44.129167    X   \n",
       " \n",
       "                           Flag Description  \n",
       " 0  Figure from international organizations  \n",
       " 1  Figure from international organizations  \n",
       " 2  Figure from international organizations  \n",
       " 3  Figure from international organizations  \n",
       " 4  Figure from international organizations  ,\n",
       " Index(['Domain Code', 'Domain', 'Area Code (M49)', 'Area',\n",
       "        'ISO Currency Code (FAO)', 'Currency', 'Element Code', 'Element',\n",
       "        'Year Code', 'Year', 'Months Code', 'Months', 'Unit', 'Value', 'Flag',\n",
       "        'Flag Description'],\n",
       "       dtype='object'))"
      ]
     },
     "execution_count": 9,
     "metadata": {},
     "output_type": "execute_result"
    }
   ],
   "source": [
    "# Load the \"Exchange Rate\" dataset\n",
    "exchange_rate_path =     r'C:\\Users\\odans\\Documents\\SUSSEX LAB WORKS\\MACHINE LEARNING\\Assignment\\OneDrive_1_22-03-2024_updated\\Exchange rate - FAOSTAT_data_en_2-22-2024.csv'\n",
    "exchange_rate_data = pd.read_csv(exchange_rate_path)\n",
    "\n",
    "# Display the first few rows and the columns of the dataset\n",
    "exchange_rate_data.head(), exchange_rate_data.columns"
   ]
  },
  {
   "cell_type": "markdown",
   "id": "27488d1d",
   "metadata": {},
   "source": [
    "The `Exchange Rate` dataset includes monthly data with 'Area', 'Year', and 'Value' indicating the local currency units per USD. We aggregate this monthly data into annual averages to align with the rest of our annual data."
   ]
  },
  {
   "cell_type": "markdown",
   "id": "7372d373",
   "metadata": {},
   "source": [
    "#### Steps for Merging:\n",
    "1. **Aggregate Data**: Calculate the annual average exchange rate for each country.\n",
    "2. **Merge**: Combine this aggregated data with our existing dataset."
   ]
  },
  {
   "cell_type": "code",
   "execution_count": 10,
   "id": "55960538",
   "metadata": {},
   "outputs": [
    {
     "data": {
      "text/plain": [
       "(          Area  Year    Value_x Domain Code                        Domain  \\\n",
       " 0  Afghanistan  2000  26.629848         QCL  Crops and livestock products   \n",
       " 1  Afghanistan  2000  26.629848         QCL  Crops and livestock products   \n",
       " 2  Afghanistan  2000  26.629848         QCL  Crops and livestock products   \n",
       " 3  Afghanistan  2000  26.629848         QCL  Crops and livestock products   \n",
       " 4  Afghanistan  2000  26.629848         QCL  Crops and livestock products   \n",
       " \n",
       "    Area Code (M49)  Element Code Element Item Code (CPC)  \\\n",
       " 0                4          5419   Yield           F1717   \n",
       " 1                4          5419   Yield           F1804   \n",
       " 2                4          5419   Yield          F17530   \n",
       " 3                4          5419   Yield           F1738   \n",
       " 4                4          5419   Yield           F1841   \n",
       " \n",
       "                             Item  Year Code      Unit  Value_y Flag  \\\n",
       " 0               Cereals, primary       2000  100 g/ha     8063    A   \n",
       " 1            Citrus Fruit, Total       2000  100 g/ha    71245    E   \n",
       " 2  Fibre Crops, Fibre Equivalent       2000  100 g/ha     3990    E   \n",
       " 3                  Fruit Primary       2000  100 g/ha    76730    E   \n",
       " 4      Oilcrops, Cake Equivalent       2000  100 g/ha     3833    E   \n",
       " \n",
       "   Flag Description  Note    Value  Value_employment  Value_exchange_rate  \n",
       " 0  Official figure   NaN  21.5527           2765.95          47357.57473  \n",
       " 1  Estimated value   NaN  21.5527           2765.95          47357.57473  \n",
       " 2  Estimated value   NaN  21.5527           2765.95          47357.57473  \n",
       " 3  Estimated value   NaN  21.5527           2765.95          47357.57473  \n",
       " 4  Estimated value   NaN  21.5527           2765.95          47357.57473  ,\n",
       " Index(['Area', 'Year', 'Value_x', 'Domain Code', 'Domain', 'Area Code (M49)',\n",
       "        'Element Code', 'Element', 'Item Code (CPC)', 'Item', 'Year Code',\n",
       "        'Unit', 'Value_y', 'Flag', 'Flag Description', 'Note', 'Value',\n",
       "        'Value_employment', 'Value_exchange_rate'],\n",
       "       dtype='object'))"
      ]
     },
     "execution_count": 10,
     "metadata": {},
     "output_type": "execute_result"
    }
   ],
   "source": [
    "# Aggregate the exchange rate data to annual level by calculating the mean value for each 'Area' and 'Year'\n",
    "exchange_rate_annual = exchange_rate_data.groupby(['Area', 'Year']).agg({'Value': 'mean'}).reset_index()\n",
    "\n",
    "# Merge the aggregated exchange rate data with the existing merged data\n",
    "full_merged_data_with_exchange_rate = pd.merge(full_merged_data_with_employment, exchange_rate_annual, on=['Area', 'Year'], how='inner', suffixes=('', '_exchange_rate'))\n",
    "\n",
    "# Display the first few rows and columns of the updated merged dataset to verify the merge\n",
    "full_merged_data_with_exchange_rate.head(), full_merged_data_with_exchange_rate.columns"
   ]
  },
  {
   "cell_type": "markdown",
   "id": "bcdcac45",
   "metadata": {},
   "source": [
    "The `full_merged_data_with_exchange_rate` dataset includes the aggregated exchange rate data along with the previously merged information on consumer prices, crop production, emissions, and employment. Each entry now also has an annual average exchange rate for the respective area and year."
   ]
  },
  {
   "cell_type": "markdown",
   "id": "b43b80ea",
   "metadata": {},
   "source": [
    "### Fertilizers Use"
   ]
  },
  {
   "cell_type": "code",
   "execution_count": 11,
   "id": "52921b78",
   "metadata": {},
   "outputs": [
    {
     "data": {
      "text/plain": [
       "(  Domain Code                  Domain  Area Code (M49)         Area  \\\n",
       " 0         RFB  Fertilizers by Product                4  Afghanistan   \n",
       " 1         RFB  Fertilizers by Product                4  Afghanistan   \n",
       " 2         RFB  Fertilizers by Product                4  Afghanistan   \n",
       " 3         RFB  Fertilizers by Product                4  Afghanistan   \n",
       " 4         RFB  Fertilizers by Product                4  Afghanistan   \n",
       " \n",
       "    Element Code           Element  Item Code             Item  Year Code  \\\n",
       " 0          5157  Agricultural Use       4021  NPK fertilizers       2002   \n",
       " 1          5157  Agricultural Use       4021  NPK fertilizers       2003   \n",
       " 2          5157  Agricultural Use       4021  NPK fertilizers       2004   \n",
       " 3          5157  Agricultural Use       4001             Urea       2004   \n",
       " 4          5157  Agricultural Use       4001             Urea       2005   \n",
       " \n",
       "    Year Unit    Value Flag Flag Description  \n",
       " 0  2002    t  17900.0    I    Imputed value  \n",
       " 1  2003    t  33200.0    I    Imputed value  \n",
       " 2  2004    t  47700.0    I    Imputed value  \n",
       " 3  2004    t  42300.0    I    Imputed value  \n",
       " 4  2005    t  20577.0    I    Imputed value  ,\n",
       " Index(['Domain Code', 'Domain', 'Area Code (M49)', 'Area', 'Element Code',\n",
       "        'Element', 'Item Code', 'Item', 'Year Code', 'Year', 'Unit', 'Value',\n",
       "        'Flag', 'Flag Description'],\n",
       "       dtype='object'))"
      ]
     },
     "execution_count": 11,
     "metadata": {},
     "output_type": "execute_result"
    }
   ],
   "source": [
    "# Load the \"Fertilizers Use\" dataset\n",
    "fertilizers_use_path = r'C:\\Users\\odans\\Documents\\SUSSEX LAB WORKS\\MACHINE LEARNING\\Assignment\\OneDrive_1_22-03-2024_updated\\Fertilizers use - FAOSTAT_data_en_2-27-2024.csv'\n",
    "fertilizers_use_data = pd.read_csv(fertilizers_use_path)\n",
    "\n",
    "# Display the first few rows and the columns of the dataset\n",
    "fertilizers_use_data.head(), fertilizers_use_data.columns"
   ]
  },
  {
   "cell_type": "markdown",
   "id": "36c6b94b",
   "metadata": {},
   "source": [
    "The `Fertilizers Use` dataset contains annual data with fields such as 'Area', 'Year', and 'Value' showing the usage of different fertilizers.\n",
    "\n",
    "### Steps for Merging:\n",
    "1. **Aggregate Data**: Sum up the total usage of all types of fertilizers per area per year to get a single value representing total fertilizer use.\n",
    "2. **Merge**: Combine this aggregated data with our existing dataset."
   ]
  },
  {
   "cell_type": "code",
   "execution_count": 12,
   "id": "3eb3160f",
   "metadata": {},
   "outputs": [
    {
     "data": {
      "text/plain": [
       "(          Area  Year    Value_x Domain Code                        Domain  \\\n",
       " 0  Afghanistan  2002  26.799704         QCL  Crops and livestock products   \n",
       " 1  Afghanistan  2002  26.799704         QCL  Crops and livestock products   \n",
       " 2  Afghanistan  2002  26.799704         QCL  Crops and livestock products   \n",
       " 3  Afghanistan  2002  26.799704         QCL  Crops and livestock products   \n",
       " 4  Afghanistan  2002  26.799704         QCL  Crops and livestock products   \n",
       " \n",
       "    Area Code (M49)  Element Code Element Item Code (CPC)  \\\n",
       " 0                4          5419   Yield           F1717   \n",
       " 1                4          5419   Yield           F1804   \n",
       " 2                4          5419   Yield          F17530   \n",
       " 3                4          5419   Yield           F1738   \n",
       " 4                4          5419   Yield           F1841   \n",
       " \n",
       "                             Item  Year Code      Unit  Value_y Flag  \\\n",
       " 0               Cereals, primary       2002  100 g/ha    16698    A   \n",
       " 1            Citrus Fruit, Total       2002  100 g/ha    71477    E   \n",
       " 2  Fibre Crops, Fibre Equivalent       2002  100 g/ha     3990    E   \n",
       " 3                  Fruit Primary       2002  100 g/ha    80174    E   \n",
       " 4      Oilcrops, Cake Equivalent       2002  100 g/ha     3818    E   \n",
       " \n",
       "   Flag Description  Note    Value  Value_employment  Value_exchange_rate  \\\n",
       " 0  Official figure   NaN  22.3209           2897.51           3981.90775   \n",
       " 1  Estimated value   NaN  22.3209           2897.51           3981.90775   \n",
       " 2  Estimated value   NaN  22.3209           2897.51           3981.90775   \n",
       " 3  Estimated value   NaN  22.3209           2897.51           3981.90775   \n",
       " 4  Estimated value   NaN  22.3209           2897.51           3981.90775   \n",
       " \n",
       "    Value_fertilizers  \n",
       " 0            17900.0  \n",
       " 1            17900.0  \n",
       " 2            17900.0  \n",
       " 3            17900.0  \n",
       " 4            17900.0  ,\n",
       " Index(['Area', 'Year', 'Value_x', 'Domain Code', 'Domain', 'Area Code (M49)',\n",
       "        'Element Code', 'Element', 'Item Code (CPC)', 'Item', 'Year Code',\n",
       "        'Unit', 'Value_y', 'Flag', 'Flag Description', 'Note', 'Value',\n",
       "        'Value_employment', 'Value_exchange_rate', 'Value_fertilizers'],\n",
       "       dtype='object'))"
      ]
     },
     "execution_count": 12,
     "metadata": {},
     "output_type": "execute_result"
    }
   ],
   "source": [
    "# Aggregate the fertilizers use data to sum the total usage for each 'Area' and 'Year'\n",
    "fertilizers_use_aggregated = fertilizers_use_data.groupby(['Area', 'Year']).agg({'Value': 'sum'}).reset_index()\n",
    "\n",
    "# Merge the aggregated fertilizers use data with the existing merged data\n",
    "full_merged_data_with_fertilizers = pd.merge(full_merged_data_with_exchange_rate, fertilizers_use_aggregated, on=['Area', 'Year'], how='inner', suffixes=('', '_fertilizers'))\n",
    "\n",
    "# Display the first few rows and columns of the updated merged dataset to verify the merge\n",
    "full_merged_data_with_fertilizers.head(), full_merged_data_with_fertilizers.columns"
   ]
  },
  {
   "cell_type": "markdown",
   "id": "c0e0d4aa",
   "metadata": {},
   "source": [
    "The `full_merged_data_with_fertilizers` dataset includes the aggregated fertilizer use data, alongside the previous data on consumer prices, crop production, emissions, employment, and exchange rates. The added column `Value_fertilizers` represents the total amount of fertilizers used annually per area."
   ]
  },
  {
   "cell_type": "markdown",
   "id": "9c9531e8",
   "metadata": {},
   "source": [
    "### Food Balances"
   ]
  },
  {
   "cell_type": "code",
   "execution_count": 13,
   "id": "fdf27c77",
   "metadata": {},
   "outputs": [
    {
     "data": {
      "text/plain": [
       "(  Domain Code                 Domain  Area Code (M49)         Area  \\\n",
       " 0         FBS  Food Balances (2010-)                4  Afghanistan   \n",
       " 1         FBS  Food Balances (2010-)                4  Afghanistan   \n",
       " 2         FBS  Food Balances (2010-)                4  Afghanistan   \n",
       " 3         FBS  Food Balances (2010-)                4  Afghanistan   \n",
       " 4         FBS  Food Balances (2010-)                4  Afghanistan   \n",
       " \n",
       "    Element Code          Element Item Code (FBS)                      Item  \\\n",
       " 0          5611  Import Quantity           S2905  Cereals - Excluding Beer   \n",
       " 1          5611  Import Quantity           S2905  Cereals - Excluding Beer   \n",
       " 2          5611  Import Quantity           S2905  Cereals - Excluding Beer   \n",
       " 3          5611  Import Quantity           S2905  Cereals - Excluding Beer   \n",
       " 4          5611  Import Quantity           S2905  Cereals - Excluding Beer   \n",
       " \n",
       "    Year Code  Year    Unit   Value Flag Flag Description  \n",
       " 0       2010  2010  1000 t  2000.0    E  Estimated value  \n",
       " 1       2011  2011  1000 t  2448.0    E  Estimated value  \n",
       " 2       2012  2012  1000 t  2001.0    E  Estimated value  \n",
       " 3       2013  2013  1000 t  2155.0    E  Estimated value  \n",
       " 4       2014  2014  1000 t  1840.0    E  Estimated value  ,\n",
       " Index(['Domain Code', 'Domain', 'Area Code (M49)', 'Area', 'Element Code',\n",
       "        'Element', 'Item Code (FBS)', 'Item', 'Year Code', 'Year', 'Unit',\n",
       "        'Value', 'Flag', 'Flag Description'],\n",
       "       dtype='object'))"
      ]
     },
     "execution_count": 13,
     "metadata": {},
     "output_type": "execute_result"
    }
   ],
   "source": [
    "# Load the \"Food Balances\" dataset\n",
    "food_balances_path = r'C:\\Users\\odans\\Documents\\SUSSEX LAB WORKS\\MACHINE LEARNING\\Assignment\\OneDrive_1_22-03-2024_updated\\Food balances indicators - FAOSTAT_data_en_2-22-2024.csv'\n",
    "food_balances_data = pd.read_csv(food_balances_path)\n",
    "\n",
    "# Display the first few rows and the columns of the dataset\n",
    "food_balances_data.head(), food_balances_data.columns"
   ]
  },
  {
   "cell_type": "markdown",
   "id": "c646821c",
   "metadata": {},
   "source": [
    "The `Food Balances` dataset includes fields such as 'Area', 'Year', and 'Value', along with specifics about different food items and elements like import and export quantities. This data provides a detailed perspective on the supply side, particularly imports and exports, which are critical for understanding crop export values.\n",
    "\n",
    "### Steps for Merging:\n",
    "1. **Filter and Aggregate Data**: To keep our focus on export-related aspects, we will filter and aggregate the data to include the total export quantities of all items per area per year.\n",
    "2. **Merge**: Integrate this data with our existing dataset."
   ]
  },
  {
   "cell_type": "code",
   "execution_count": 14,
   "id": "b6544244",
   "metadata": {},
   "outputs": [
    {
     "data": {
      "text/plain": [
       "(          Area  Year    Value_x Domain Code                        Domain  \\\n",
       " 0  Afghanistan  2010  37.589202         QCL  Crops and livestock products   \n",
       " 1  Afghanistan  2010  37.589202         QCL  Crops and livestock products   \n",
       " 2  Afghanistan  2010  37.589202         QCL  Crops and livestock products   \n",
       " 3  Afghanistan  2010  37.589202         QCL  Crops and livestock products   \n",
       " 4  Afghanistan  2010  37.589202         QCL  Crops and livestock products   \n",
       " \n",
       "    Area Code (M49)  Element Code Element Item Code (CPC)  \\\n",
       " 0                4          5419   Yield           F1717   \n",
       " 1                4          5419   Yield           F1804   \n",
       " 2                4          5419   Yield          F17530   \n",
       " 3                4          5419   Yield           F1738   \n",
       " 4                4          5419   Yield           F1841   \n",
       " \n",
       "                             Item  ...      Unit Value_y  Flag  \\\n",
       " 0               Cereals, primary  ...  100 g/ha   20111     A   \n",
       " 1            Citrus Fruit, Total  ...  100 g/ha   33333     E   \n",
       " 2  Fibre Crops, Fibre Equivalent  ...  100 g/ha    3500     E   \n",
       " 3                  Fruit Primary  ...  100 g/ha   82091     E   \n",
       " 4      Oilcrops, Cake Equivalent  ...  100 g/ha    3391     E   \n",
       " \n",
       "   Flag Description Note    Value  Value_employment  Value_exchange_rate  \\\n",
       " 0  Official figure  NaN  34.1185           3334.41            46.452461   \n",
       " 1  Estimated value  NaN  34.1185           3334.41            46.452461   \n",
       " 2  Estimated value  NaN  34.1185           3334.41            46.452461   \n",
       " 3  Estimated value  NaN  34.1185           3334.41            46.452461   \n",
       " 4  Estimated value  NaN  34.1185           3334.41            46.452461   \n",
       " \n",
       "    Value_fertilizers  Value_food_balances  \n",
       " 0            72084.0                360.0  \n",
       " 1            72084.0                360.0  \n",
       " 2            72084.0                360.0  \n",
       " 3            72084.0                360.0  \n",
       " 4            72084.0                360.0  \n",
       " \n",
       " [5 rows x 21 columns],\n",
       " Index(['Area', 'Year', 'Value_x', 'Domain Code', 'Domain', 'Area Code (M49)',\n",
       "        'Element Code', 'Element', 'Item Code (CPC)', 'Item', 'Year Code',\n",
       "        'Unit', 'Value_y', 'Flag', 'Flag Description', 'Note', 'Value',\n",
       "        'Value_employment', 'Value_exchange_rate', 'Value_fertilizers',\n",
       "        'Value_food_balances'],\n",
       "       dtype='object'))"
      ]
     },
     "execution_count": 14,
     "metadata": {},
     "output_type": "execute_result"
    }
   ],
   "source": [
    "# Filter for export quantities (assuming Element Code for export quantities, here taking a general approach)\n",
    "food_balances_exports = food_balances_data[food_balances_data['Element'] == 'Export Quantity']\n",
    "\n",
    "# Aggregate the data to sum the total exports for each 'Area' and 'Year'\n",
    "food_balances_exports_aggregated = food_balances_exports.groupby(['Area', 'Year']).agg({'Value': 'sum'}).reset_index()\n",
    "\n",
    "# Merge the aggregated food balances export data with the existing merged data\n",
    "full_merged_data_with_food_balances = pd.merge(full_merged_data_with_fertilizers, food_balances_exports_aggregated, on=['Area', 'Year'], how='inner', suffixes=('', '_food_balances'))\n",
    "\n",
    "# Display the first few rows and columns of the updated merged dataset to verify the merge\n",
    "full_merged_data_with_food_balances.head(), full_merged_data_with_food_balances.columns"
   ]
  },
  {
   "cell_type": "markdown",
   "id": "7e8cabdd",
   "metadata": {},
   "source": [
    "The `full_merged_data_with_food_balances` dataset includes aggregated food balances data, specifically the total export quantities, along with the previously merged information. The new column `Value_food_balances` represents the total export quantities of food products annually per area."
   ]
  },
  {
   "cell_type": "markdown",
   "id": "142fee6e",
   "metadata": {},
   "source": [
    "### Food Security"
   ]
  },
  {
   "cell_type": "code",
   "execution_count": 15,
   "id": "bbbc7ef3",
   "metadata": {},
   "outputs": [
    {
     "data": {
      "text/html": [
       "<div>\n",
       "<style scoped>\n",
       "    .dataframe tbody tr th:only-of-type {\n",
       "        vertical-align: middle;\n",
       "    }\n",
       "\n",
       "    .dataframe tbody tr th {\n",
       "        vertical-align: top;\n",
       "    }\n",
       "\n",
       "    .dataframe thead th {\n",
       "        text-align: right;\n",
       "    }\n",
       "</style>\n",
       "<table border=\"1\" class=\"dataframe\">\n",
       "  <thead>\n",
       "    <tr style=\"text-align: right;\">\n",
       "      <th></th>\n",
       "      <th>Domain Code</th>\n",
       "      <th>Domain</th>\n",
       "      <th>Area Code (M49)</th>\n",
       "      <th>Area</th>\n",
       "      <th>Element Code</th>\n",
       "      <th>Element</th>\n",
       "      <th>Item Code</th>\n",
       "      <th>Item</th>\n",
       "      <th>Year Code</th>\n",
       "      <th>Year</th>\n",
       "      <th>Unit</th>\n",
       "      <th>Value</th>\n",
       "      <th>Flag</th>\n",
       "      <th>Flag Description</th>\n",
       "      <th>Note</th>\n",
       "    </tr>\n",
       "  </thead>\n",
       "  <tbody>\n",
       "    <tr>\n",
       "      <th>0</th>\n",
       "      <td>FS</td>\n",
       "      <td>Suite of Food Security Indicators</td>\n",
       "      <td>4</td>\n",
       "      <td>Afghanistan</td>\n",
       "      <td>6121</td>\n",
       "      <td>Value</td>\n",
       "      <td>21010</td>\n",
       "      <td>Average dietary energy supply adequacy (percen...</td>\n",
       "      <td>20002002</td>\n",
       "      <td>2000-2002</td>\n",
       "      <td>%</td>\n",
       "      <td>88.0</td>\n",
       "      <td>E</td>\n",
       "      <td>Estimated value</td>\n",
       "      <td>NaN</td>\n",
       "    </tr>\n",
       "    <tr>\n",
       "      <th>1</th>\n",
       "      <td>FS</td>\n",
       "      <td>Suite of Food Security Indicators</td>\n",
       "      <td>4</td>\n",
       "      <td>Afghanistan</td>\n",
       "      <td>6121</td>\n",
       "      <td>Value</td>\n",
       "      <td>21010</td>\n",
       "      <td>Average dietary energy supply adequacy (percen...</td>\n",
       "      <td>20012003</td>\n",
       "      <td>2001-2003</td>\n",
       "      <td>%</td>\n",
       "      <td>89.0</td>\n",
       "      <td>E</td>\n",
       "      <td>Estimated value</td>\n",
       "      <td>NaN</td>\n",
       "    </tr>\n",
       "    <tr>\n",
       "      <th>2</th>\n",
       "      <td>FS</td>\n",
       "      <td>Suite of Food Security Indicators</td>\n",
       "      <td>4</td>\n",
       "      <td>Afghanistan</td>\n",
       "      <td>6121</td>\n",
       "      <td>Value</td>\n",
       "      <td>21010</td>\n",
       "      <td>Average dietary energy supply adequacy (percen...</td>\n",
       "      <td>20022004</td>\n",
       "      <td>2002-2004</td>\n",
       "      <td>%</td>\n",
       "      <td>92.0</td>\n",
       "      <td>E</td>\n",
       "      <td>Estimated value</td>\n",
       "      <td>NaN</td>\n",
       "    </tr>\n",
       "    <tr>\n",
       "      <th>3</th>\n",
       "      <td>FS</td>\n",
       "      <td>Suite of Food Security Indicators</td>\n",
       "      <td>4</td>\n",
       "      <td>Afghanistan</td>\n",
       "      <td>6121</td>\n",
       "      <td>Value</td>\n",
       "      <td>21010</td>\n",
       "      <td>Average dietary energy supply adequacy (percen...</td>\n",
       "      <td>20032005</td>\n",
       "      <td>2003-2005</td>\n",
       "      <td>%</td>\n",
       "      <td>93.0</td>\n",
       "      <td>E</td>\n",
       "      <td>Estimated value</td>\n",
       "      <td>NaN</td>\n",
       "    </tr>\n",
       "    <tr>\n",
       "      <th>4</th>\n",
       "      <td>FS</td>\n",
       "      <td>Suite of Food Security Indicators</td>\n",
       "      <td>4</td>\n",
       "      <td>Afghanistan</td>\n",
       "      <td>6121</td>\n",
       "      <td>Value</td>\n",
       "      <td>21010</td>\n",
       "      <td>Average dietary energy supply adequacy (percen...</td>\n",
       "      <td>20042006</td>\n",
       "      <td>2004-2006</td>\n",
       "      <td>%</td>\n",
       "      <td>94.0</td>\n",
       "      <td>E</td>\n",
       "      <td>Estimated value</td>\n",
       "      <td>NaN</td>\n",
       "    </tr>\n",
       "  </tbody>\n",
       "</table>\n",
       "</div>"
      ],
      "text/plain": [
       "  Domain Code                             Domain  Area Code (M49)  \\\n",
       "0          FS  Suite of Food Security Indicators                4   \n",
       "1          FS  Suite of Food Security Indicators                4   \n",
       "2          FS  Suite of Food Security Indicators                4   \n",
       "3          FS  Suite of Food Security Indicators                4   \n",
       "4          FS  Suite of Food Security Indicators                4   \n",
       "\n",
       "          Area  Element Code Element  Item Code  \\\n",
       "0  Afghanistan          6121   Value      21010   \n",
       "1  Afghanistan          6121   Value      21010   \n",
       "2  Afghanistan          6121   Value      21010   \n",
       "3  Afghanistan          6121   Value      21010   \n",
       "4  Afghanistan          6121   Value      21010   \n",
       "\n",
       "                                                Item  Year Code       Year  \\\n",
       "0  Average dietary energy supply adequacy (percen...   20002002  2000-2002   \n",
       "1  Average dietary energy supply adequacy (percen...   20012003  2001-2003   \n",
       "2  Average dietary energy supply adequacy (percen...   20022004  2002-2004   \n",
       "3  Average dietary energy supply adequacy (percen...   20032005  2003-2005   \n",
       "4  Average dietary energy supply adequacy (percen...   20042006  2004-2006   \n",
       "\n",
       "  Unit  Value Flag Flag Description Note  \n",
       "0    %   88.0    E  Estimated value  NaN  \n",
       "1    %   89.0    E  Estimated value  NaN  \n",
       "2    %   92.0    E  Estimated value  NaN  \n",
       "3    %   93.0    E  Estimated value  NaN  \n",
       "4    %   94.0    E  Estimated value  NaN  "
      ]
     },
     "execution_count": 15,
     "metadata": {},
     "output_type": "execute_result"
    }
   ],
   "source": [
    "# Load the \"Food Security\" dataset\n",
    "food_security_data = pd.read_csv(r\"C:\\Users\\odans\\Documents\\SUSSEX LAB WORKS\\MACHINE LEARNING\\Assignment\\OneDrive_1_22-03-2024\\Food security indicators  - FAOSTAT_data_en_2-22-2024.csv\")\n",
    "food_security_data.head()"
   ]
  },
  {
   "cell_type": "markdown",
   "id": "5c8206c3",
   "metadata": {},
   "source": [
    "The `Food Security` dataset includes data that is period-specific and summarised over multiple years (e.g., 2000-2002).  The dataset includes:\n",
    "- `Area` \n",
    "- `Year` (in a range format)\n",
    "- `Value` (various metrics of food security, such as dietary energy supply adequacy).\n",
    "\n",
    "\n",
    "### Steps for Merging \"Food Security\" Data:\n",
    "1. **Preprocess Data**: To accommodate the year range data in the \"Food Security\" dataset, we process the 'Year' column by associating each metric with the ending year of the range. For example, data from \"2000-2002\" is treated as applicable to 2002. This aligns the multi-year data with the annual format of our existing dataset.\n",
    "\n",
    "2. **Select Relevant Metrics**: We identify and select the food security metrics that are most relevant to forecasting crop export values. This involves focusing on specific indicators that directly relate to the availability or stability of food supplies, which are critical factors influencing export potential.\n",
    "\n",
    "3. **Aggregate Data**: Given that the food security data covers various metrics over different periods, we aggregate these metrics by calculating the relevant statistical measure for each area and processed year. This ensures that each year's data represents a comprehensive view of the food security status pertinent to that year.\n",
    "\n",
    "4. **Merge**: The aggregated food security data is then merged with the existing dataset (`full_merged_data_with_food_balances`)."
   ]
  },
  {
   "cell_type": "code",
   "execution_count": 16,
   "id": "30a33564",
   "metadata": {},
   "outputs": [],
   "source": [
    "# Function to extract the ending year from the range in the 'Year' column\n",
    "def extract_year(year_range):\n",
    "    return int(year_range.split('-')[-1])\n",
    "\n",
    "# Apply the function to create a new column for the single year\n",
    "food_security_data['Year'] = food_security_data['Year'].apply(extract_year)\n",
    "\n",
    "# Assuming we're aggregating all metrics for simplicity (you can choose specific metrics as needed)\n",
    "food_security_aggregated = food_security_data.groupby(['Area', 'Year']).agg({'Value': 'mean'}).reset_index()"
   ]
  },
  {
   "cell_type": "code",
   "execution_count": 17,
   "id": "66e0af39",
   "metadata": {},
   "outputs": [
    {
     "name": "stdout",
     "output_type": "stream",
     "text": [
      "          Area  Year    Value_x Domain Code                        Domain  \\\n",
      "0  Afghanistan  2010  37.589202         QCL  Crops and livestock products   \n",
      "1  Afghanistan  2010  37.589202         QCL  Crops and livestock products   \n",
      "2  Afghanistan  2010  37.589202         QCL  Crops and livestock products   \n",
      "3  Afghanistan  2010  37.589202         QCL  Crops and livestock products   \n",
      "4  Afghanistan  2010  37.589202         QCL  Crops and livestock products   \n",
      "\n",
      "   Area Code (M49)  Element Code Element Item Code (CPC)  \\\n",
      "0                4          5419   Yield           F1717   \n",
      "1                4          5419   Yield           F1804   \n",
      "2                4          5419   Yield          F17530   \n",
      "3                4          5419   Yield           F1738   \n",
      "4                4          5419   Yield           F1841   \n",
      "\n",
      "                            Item  ...  Value_y Flag  Flag Description Note  \\\n",
      "0               Cereals, primary  ...    20111    A   Official figure  NaN   \n",
      "1            Citrus Fruit, Total  ...    33333    E   Estimated value  NaN   \n",
      "2  Fibre Crops, Fibre Equivalent  ...     3500    E   Estimated value  NaN   \n",
      "3                  Fruit Primary  ...    82091    E   Estimated value  NaN   \n",
      "4      Oilcrops, Cake Equivalent  ...     3391    E   Estimated value  NaN   \n",
      "\n",
      "     Value  Value_employment  Value_exchange_rate  Value_fertilizers  \\\n",
      "0  34.1185           3334.41            46.452461            72084.0   \n",
      "1  34.1185           3334.41            46.452461            72084.0   \n",
      "2  34.1185           3334.41            46.452461            72084.0   \n",
      "3  34.1185           3334.41            46.452461            72084.0   \n",
      "4  34.1185           3334.41            46.452461            72084.0   \n",
      "\n",
      "   Value_food_balances  Value_food_security  \n",
      "0                360.0            56.957778  \n",
      "1                360.0            56.957778  \n",
      "2                360.0            56.957778  \n",
      "3                360.0            56.957778  \n",
      "4                360.0            56.957778  \n",
      "\n",
      "[5 rows x 22 columns]\n"
     ]
    }
   ],
   "source": [
    "# Merge the food security data with the existing data\n",
    "full_merged_data_with_food_security = pd.merge(full_merged_data_with_food_balances, food_security_aggregated, on=['Area', 'Year'], how='inner', suffixes=('', '_food_security'))\n",
    "\n",
    "# View the first few rows to confirm\n",
    "print(full_merged_data_with_food_security.head())"
   ]
  },
  {
   "cell_type": "markdown",
   "id": "aa153962",
   "metadata": {},
   "source": [
    "### Foreign Direct Investment (FDI)"
   ]
  },
  {
   "cell_type": "code",
   "execution_count": 18,
   "id": "f6280f7a",
   "metadata": {},
   "outputs": [
    {
     "data": {
      "text/plain": [
       "(  Domain Code                           Domain  Area Code (M49)         Area  \\\n",
       " 0         FDI  Foreign Direct Investment (FDI)                4  Afghanistan   \n",
       " 1         FDI  Foreign Direct Investment (FDI)                4  Afghanistan   \n",
       " 2         FDI  Foreign Direct Investment (FDI)                4  Afghanistan   \n",
       " 3         FDI  Foreign Direct Investment (FDI)                4  Afghanistan   \n",
       " 4         FDI  Foreign Direct Investment (FDI)                4  Afghanistan   \n",
       " \n",
       "    Element Code    Element  Item Code               Item  Year Code  Year  \\\n",
       " 0          6110  Value US$      23082  Total FDI inflows       2000  2000   \n",
       " 1          6110  Value US$      23082  Total FDI inflows       2001  2001   \n",
       " 2          6110  Value US$      23082  Total FDI inflows       2002  2002   \n",
       " 3          6110  Value US$      23082  Total FDI inflows       2003  2003   \n",
       " 4          6110  Value US$      23082  Total FDI inflows       2004  2004   \n",
       " \n",
       "           Unit   Value Flag                         Flag Description    Note  \n",
       " 0  million USD    0.17    X  Figure from international organizations  UNCTAD  \n",
       " 1  million USD    0.68    X  Figure from international organizations  UNCTAD  \n",
       " 2  million USD   50.00    X  Figure from international organizations  UNCTAD  \n",
       " 3  million USD   57.80    X  Figure from international organizations  UNCTAD  \n",
       " 4  million USD  186.90    X  Figure from international organizations  UNCTAD  ,\n",
       " Index(['Domain Code', 'Domain', 'Area Code (M49)', 'Area', 'Element Code',\n",
       "        'Element', 'Item Code', 'Item', 'Year Code', 'Year', 'Unit', 'Value',\n",
       "        'Flag', 'Flag Description', 'Note'],\n",
       "       dtype='object'))"
      ]
     },
     "execution_count": 18,
     "metadata": {},
     "output_type": "execute_result"
    }
   ],
   "source": [
    "# Load the \"Foreign Direct Investment\" dataset\n",
    "fdi_path = r'C:\\Users\\odans\\Documents\\SUSSEX LAB WORKS\\MACHINE LEARNING\\Assignment\\OneDrive_1_22-03-2024_updated\\Foreign direct investment - FAOSTAT_data_en_2-27-2024.csv'\n",
    "fdi_data = pd.read_csv(fdi_path)\n",
    "\n",
    "# Display the first few rows and the columns of the dataset\n",
    "fdi_data.head(), fdi_data.columns"
   ]
  },
  {
   "cell_type": "markdown",
   "id": "8464713b",
   "metadata": {},
   "source": [
    "The `Foreign Direct Investment (FDI)` dataset includes annual data on investment flows, specifically 'Area', 'Year', and 'Value', which represents the total FDI inflows in millions of USD. This data provides insights into economic conditions that might influence agricultural productivity and export capabilities.\n",
    "\n",
    "### Steps for Merging:\n",
    "1. **Filter and Aggregate Data**: Aggregate FDI data per area and year to ensure it aligns with our existing data format.\n",
    "2. **Merge**: Combine this data with our existing dataset."
   ]
  },
  {
   "cell_type": "code",
   "execution_count": 19,
   "id": "74f00de1",
   "metadata": {},
   "outputs": [
    {
     "data": {
      "text/plain": [
       "(          Area  Year    Value_x Domain Code                        Domain  \\\n",
       " 0  Afghanistan  2010  37.589202         QCL  Crops and livestock products   \n",
       " 1  Afghanistan  2010  37.589202         QCL  Crops and livestock products   \n",
       " 2  Afghanistan  2010  37.589202         QCL  Crops and livestock products   \n",
       " 3  Afghanistan  2010  37.589202         QCL  Crops and livestock products   \n",
       " 4  Afghanistan  2010  37.589202         QCL  Crops and livestock products   \n",
       " \n",
       "    Area Code (M49)  Element Code Element Item Code (CPC)  \\\n",
       " 0                4          5419   Yield           F1717   \n",
       " 1                4          5419   Yield           F1717   \n",
       " 2                4          5419   Yield           F1804   \n",
       " 3                4          5419   Yield           F1804   \n",
       " 4                4          5419   Yield          F17530   \n",
       " \n",
       "                             Item  ...  Flag Flag Description  Note    Value  \\\n",
       " 0               Cereals, primary  ...     A  Official figure   NaN  34.1185   \n",
       " 1               Cereals, primary  ...     A  Official figure   NaN  34.1185   \n",
       " 2            Citrus Fruit, Total  ...     E  Estimated value   NaN  34.1185   \n",
       " 3            Citrus Fruit, Total  ...     E  Estimated value   NaN  34.1185   \n",
       " 4  Fibre Crops, Fibre Equivalent  ...     E  Estimated value   NaN  34.1185   \n",
       " \n",
       "   Value_employment  Value_exchange_rate  Value_fertilizers  \\\n",
       " 0          3334.41            46.452461            72084.0   \n",
       " 1          3334.41            46.452461            72084.0   \n",
       " 2          3334.41            46.452461            72084.0   \n",
       " 3          3334.41            46.452461            72084.0   \n",
       " 4          3334.41            46.452461            72084.0   \n",
       " \n",
       "    Value_food_balances  Value_food_security  Value_fdi  \n",
       " 0                360.0            56.957778  54.200551  \n",
       " 1                360.0            56.957778  -0.715034  \n",
       " 2                360.0            56.957778  54.200551  \n",
       " 3                360.0            56.957778  -0.715034  \n",
       " 4                360.0            56.957778  54.200551  \n",
       " \n",
       " [5 rows x 23 columns],\n",
       " Index(['Area', 'Year', 'Value_x', 'Domain Code', 'Domain', 'Area Code (M49)',\n",
       "        'Element Code', 'Element', 'Item Code (CPC)', 'Item', 'Year Code',\n",
       "        'Unit', 'Value_y', 'Flag', 'Flag Description', 'Note', 'Value',\n",
       "        'Value_employment', 'Value_exchange_rate', 'Value_fertilizers',\n",
       "        'Value_food_balances', 'Value_food_security', 'Value_fdi'],\n",
       "       dtype='object'))"
      ]
     },
     "execution_count": 19,
     "metadata": {},
     "output_type": "execute_result"
    }
   ],
   "source": [
    "# Merge the FDI data with the existing merged data\n",
    "full_merged_data_with_fdi = pd.merge(full_merged_data_with_food_security, fdi_data[['Area', 'Year', 'Value']], on=['Area', 'Year'], how='inner', suffixes=('', '_fdi'))\n",
    "\n",
    "# Display the first few rows and columns of the updated merged dataset to verify the merge\n",
    "full_merged_data_with_fdi.head(), full_merged_data_with_fdi.columns"
   ]
  },
  {
   "cell_type": "markdown",
   "id": "258fb3e3",
   "metadata": {},
   "source": [
    "The `full_merged_data_with_fdi` dataset includes the Foreign Direct Investment (FDI) data, which provides insights into economic investments that could affect agricultural productivity and export potential. The new column `Value_fdi` represents the total FDI inflows in millions of USD per area per year."
   ]
  },
  {
   "cell_type": "markdown",
   "id": "b68d5421",
   "metadata": {},
   "source": [
    "### Land Temperature Change"
   ]
  },
  {
   "cell_type": "code",
   "execution_count": 20,
   "id": "c776d3d6",
   "metadata": {},
   "outputs": [
    {
     "data": {
      "text/plain": [
       "(  Domain Code                      Domain  Area Code (M49)         Area  \\\n",
       " 0          ET  Temperature change on land                4  Afghanistan   \n",
       " 1          ET  Temperature change on land                4  Afghanistan   \n",
       " 2          ET  Temperature change on land                4  Afghanistan   \n",
       " 3          ET  Temperature change on land                4  Afghanistan   \n",
       " 4          ET  Temperature change on land                4  Afghanistan   \n",
       " \n",
       "    Element Code             Element  Months Code       Months  Year Code  \\\n",
       " 0          7271  Temperature change         7016  Dec–Jan–Feb       2000   \n",
       " 1          7271  Temperature change         7016  Dec–Jan–Feb       2001   \n",
       " 2          7271  Temperature change         7016  Dec–Jan–Feb       2002   \n",
       " 3          7271  Temperature change         7016  Dec–Jan–Feb       2003   \n",
       " 4          7271  Temperature change         7016  Dec–Jan–Feb       2004   \n",
       " \n",
       "    Year Unit  Value Flag Flag Description  \n",
       " 0  2000   °c  0.618    E  Estimated value  \n",
       " 1  2001   °c  0.365    E  Estimated value  \n",
       " 2  2002   °c  1.655    E  Estimated value  \n",
       " 3  2003   °c  0.997    E  Estimated value  \n",
       " 4  2004   °c  1.883    E  Estimated value  ,\n",
       " Index(['Domain Code', 'Domain', 'Area Code (M49)', 'Area', 'Element Code',\n",
       "        'Element', 'Months Code', 'Months', 'Year Code', 'Year', 'Unit',\n",
       "        'Value', 'Flag', 'Flag Description'],\n",
       "       dtype='object'))"
      ]
     },
     "execution_count": 20,
     "metadata": {},
     "output_type": "execute_result"
    }
   ],
   "source": [
    "# Load the \"Land Temperature Change\" dataset\n",
    "land_temperature_path = r'C:\\Users\\odans\\Documents\\SUSSEX LAB WORKS\\MACHINE LEARNING\\Assignment\\OneDrive_1_22-03-2024_updated\\Land temperature change - FAOSTAT_data_en_2-27-2024.csv'\n",
    "land_temperature_data = pd.read_csv(land_temperature_path)\n",
    "\n",
    "# Display the first few rows and the columns of the dataset\n",
    "land_temperature_data.head(), land_temperature_data.columns"
   ]
  },
  {
   "cell_type": "markdown",
   "id": "e685cc76",
   "metadata": {},
   "source": [
    "The `Land Temperature Change` dataset includes temperature change data, which is given in degrees Celsius ('°c') for various months and years. The dataset includes fields like 'Area', 'Year', and 'Value' showing the temperature change for each area and year.\n",
    "\n",
    "### Steps for Merging:\n",
    "1. **Aggregate Data**: Calculate the annual average temperature change for each 'Area' and 'Year'. Given that the temperature data is seasonal (noted by 'Months'), we first aggregate this to an annual level for each area and year, then proceed with the merge.\n",
    "2. **Merge**: Combine this aggregated temperature data with our existing dataset."
   ]
  },
  {
   "cell_type": "code",
   "execution_count": 21,
   "id": "5f37ad0b",
   "metadata": {},
   "outputs": [
    {
     "data": {
      "text/plain": [
       "(          Area  Year    Value_x Domain Code                        Domain  \\\n",
       " 0  Afghanistan  2010  37.589202         QCL  Crops and livestock products   \n",
       " 1  Afghanistan  2010  37.589202         QCL  Crops and livestock products   \n",
       " 2  Afghanistan  2010  37.589202         QCL  Crops and livestock products   \n",
       " 3  Afghanistan  2010  37.589202         QCL  Crops and livestock products   \n",
       " 4  Afghanistan  2010  37.589202         QCL  Crops and livestock products   \n",
       " \n",
       "    Area Code (M49)  Element Code Element Item Code (CPC)  \\\n",
       " 0                4          5419   Yield           F1717   \n",
       " 1                4          5419   Yield           F1717   \n",
       " 2                4          5419   Yield           F1804   \n",
       " 3                4          5419   Yield           F1804   \n",
       " 4                4          5419   Yield          F17530   \n",
       " \n",
       "                             Item  ...  Flag Description Note    Value  \\\n",
       " 0               Cereals, primary  ...   Official figure  NaN  34.1185   \n",
       " 1               Cereals, primary  ...   Official figure  NaN  34.1185   \n",
       " 2            Citrus Fruit, Total  ...   Estimated value  NaN  34.1185   \n",
       " 3            Citrus Fruit, Total  ...   Estimated value  NaN  34.1185   \n",
       " 4  Fibre Crops, Fibre Equivalent  ...   Estimated value  NaN  34.1185   \n",
       " \n",
       "   Value_employment Value_exchange_rate  Value_fertilizers  \\\n",
       " 0          3334.41           46.452461            72084.0   \n",
       " 1          3334.41           46.452461            72084.0   \n",
       " 2          3334.41           46.452461            72084.0   \n",
       " 3          3334.41           46.452461            72084.0   \n",
       " 4          3334.41           46.452461            72084.0   \n",
       " \n",
       "    Value_food_balances  Value_food_security  Value_fdi  Value_temp_change  \n",
       " 0                360.0            56.957778  54.200551             1.2229  \n",
       " 1                360.0            56.957778  -0.715034             1.2229  \n",
       " 2                360.0            56.957778  54.200551             1.2229  \n",
       " 3                360.0            56.957778  -0.715034             1.2229  \n",
       " 4                360.0            56.957778  54.200551             1.2229  \n",
       " \n",
       " [5 rows x 24 columns],\n",
       " Index(['Area', 'Year', 'Value_x', 'Domain Code', 'Domain', 'Area Code (M49)',\n",
       "        'Element Code', 'Element', 'Item Code (CPC)', 'Item', 'Year Code',\n",
       "        'Unit', 'Value_y', 'Flag', 'Flag Description', 'Note', 'Value',\n",
       "        'Value_employment', 'Value_exchange_rate', 'Value_fertilizers',\n",
       "        'Value_food_balances', 'Value_food_security', 'Value_fdi',\n",
       "        'Value_temp_change'],\n",
       "       dtype='object'))"
      ]
     },
     "execution_count": 21,
     "metadata": {},
     "output_type": "execute_result"
    }
   ],
   "source": [
    "# Aggregate the land temperature data to annual level by calculating the mean value for each 'Area' and 'Year'\n",
    "land_temperature_annual = land_temperature_data.groupby(['Area', 'Year']).agg({'Value': 'mean'}).reset_index()\n",
    "\n",
    "# Merge the aggregated land temperature data with the existing merged data\n",
    "full_merged_data_with_temperature = pd.merge(full_merged_data_with_fdi, land_temperature_annual, on=['Area', 'Year'], how='inner', suffixes=('', '_temp_change'))\n",
    "\n",
    "# Display the first few rows and columns of the updated merged dataset to verify the merge\n",
    "full_merged_data_with_temperature.head(), full_merged_data_with_temperature.columns"
   ]
  },
  {
   "cell_type": "markdown",
   "id": "58fd8161",
   "metadata": {},
   "source": [
    "The `full_merged_data_with_temperature` dataset includes annual average temperature changes, enhancing our analysis with climate-related data that could affect agricultural productivity. The new column `Value_temp_change` represents the mean annual temperature change for each area and year."
   ]
  },
  {
   "cell_type": "markdown",
   "id": "11bf06b2",
   "metadata": {},
   "source": [
    "### Land Use"
   ]
  },
  {
   "cell_type": "code",
   "execution_count": 22,
   "id": "7ac67198",
   "metadata": {},
   "outputs": [
    {
     "data": {
      "text/plain": [
       "(  Domain Code    Domain  Area Code (M49)         Area  Element Code Element  \\\n",
       " 0          RL  Land Use                4  Afghanistan          5110    Area   \n",
       " 1          RL  Land Use                4  Afghanistan          5110    Area   \n",
       " 2          RL  Land Use                4  Afghanistan          5110    Area   \n",
       " 3          RL  Land Use                4  Afghanistan          5110    Area   \n",
       " 4          RL  Land Use                4  Afghanistan          5110    Area   \n",
       " \n",
       "    Item Code          Item  Year Code  Year     Unit    Value Flag  \\\n",
       " 0       6600  Country area       1980  1980  1000 ha  65286.0    A   \n",
       " 1       6600  Country area       1981  1981  1000 ha  65286.0    A   \n",
       " 2       6600  Country area       1982  1982  1000 ha  65286.0    A   \n",
       " 3       6600  Country area       1983  1983  1000 ha  65286.0    A   \n",
       " 4       6600  Country area       1984  1984  1000 ha  65286.0    A   \n",
       " \n",
       "   Flag Description Note  \n",
       " 0  Official figure  NaN  \n",
       " 1  Official figure  NaN  \n",
       " 2  Official figure  NaN  \n",
       " 3  Official figure  NaN  \n",
       " 4  Official figure  NaN  ,\n",
       " Index(['Domain Code', 'Domain', 'Area Code (M49)', 'Area', 'Element Code',\n",
       "        'Element', 'Item Code', 'Item', 'Year Code', 'Year', 'Unit', 'Value',\n",
       "        'Flag', 'Flag Description', 'Note'],\n",
       "       dtype='object'))"
      ]
     },
     "execution_count": 22,
     "metadata": {},
     "output_type": "execute_result"
    }
   ],
   "source": [
    "# Load the \"Land Use\" dataset\n",
    "land_use_path = r'C:\\Users\\odans\\Documents\\SUSSEX LAB WORKS\\MACHINE LEARNING\\Assignment\\OneDrive_1_22-03-2024_updated\\Land use - FAOSTAT_data_en_2-22-2024.csv'\n",
    "data_types = {14: str} # Specify dtype option on import and also set low_memory=False\n",
    "land_use_data = pd.read_csv(land_use_path, dtype=data_types, low_memory=False)\n",
    "\n",
    "# Display the first few rows and the columns of the dataset\n",
    "land_use_data.head(), land_use_data.columns"
   ]
  },
  {
   "cell_type": "markdown",
   "id": "9dcddf63",
   "metadata": {},
   "source": [
    "### Steps for Merging:\n",
    "1. **Aggregate Data**: Average the land use data per area and year. The dataset appears to be in an appropriate format with 'Area' and 'Year' fields clearly defined, and 'Value' representing the land area in thousands of hectares, needing no further preprocessing.\n",
    "2. **Merge**: Combine this data with our existing dataset."
   ]
  },
  {
   "cell_type": "code",
   "execution_count": 23,
   "id": "7dc3cdee",
   "metadata": {},
   "outputs": [
    {
     "name": "stdout",
     "output_type": "stream",
     "text": [
      "          Area  Year    Value_x Domain Code                        Domain  \\\n",
      "0  Afghanistan  2010  37.589202         QCL  Crops and livestock products   \n",
      "1  Afghanistan  2010  37.589202         QCL  Crops and livestock products   \n",
      "2  Afghanistan  2010  37.589202         QCL  Crops and livestock products   \n",
      "3  Afghanistan  2010  37.589202         QCL  Crops and livestock products   \n",
      "4  Afghanistan  2010  37.589202         QCL  Crops and livestock products   \n",
      "\n",
      "   Area Code (M49)  Element Code Element Item Code (CPC)              Item  \\\n",
      "0                4          5419   Yield           F1717  Cereals, primary   \n",
      "1                4          5419   Yield           F1717  Cereals, primary   \n",
      "2                4          5419   Yield           F1717  Cereals, primary   \n",
      "3                4          5419   Yield           F1717  Cereals, primary   \n",
      "4                4          5419   Yield           F1717  Cereals, primary   \n",
      "\n",
      "   ...  Note    Value  Value_employment Value_exchange_rate Value_fertilizers  \\\n",
      "0  ...   NaN  34.1185           3334.41           46.452461           72084.0   \n",
      "1  ...   NaN  34.1185           3334.41           46.452461           72084.0   \n",
      "2  ...   NaN  34.1185           3334.41           46.452461           72084.0   \n",
      "3  ...   NaN  34.1185           3334.41           46.452461           72084.0   \n",
      "4  ...   NaN  34.1185           3334.41           46.452461           72084.0   \n",
      "\n",
      "   Value_food_balances  Value_food_security  Value_fdi  Value_temp_change  \\\n",
      "0                360.0            56.957778  54.200551             1.2229   \n",
      "1                360.0            56.957778  54.200551             1.2229   \n",
      "2                360.0            56.957778  54.200551             1.2229   \n",
      "3                360.0            56.957778  54.200551             1.2229   \n",
      "4                360.0            56.957778  54.200551             1.2229   \n",
      "\n",
      "   Value_land_use  \n",
      "0         65286.0  \n",
      "1         65223.0  \n",
      "2         37917.0  \n",
      "3         37917.0  \n",
      "4          7917.0  \n",
      "\n",
      "[5 rows x 25 columns]\n",
      "Index(['Area', 'Year', 'Value_x', 'Domain Code', 'Domain', 'Area Code (M49)',\n",
      "       'Element Code', 'Element', 'Item Code (CPC)', 'Item', 'Year Code',\n",
      "       'Unit', 'Value_y', 'Flag', 'Flag Description', 'Note', 'Value',\n",
      "       'Value_employment', 'Value_exchange_rate', 'Value_fertilizers',\n",
      "       'Value_food_balances', 'Value_food_security', 'Value_fdi',\n",
      "       'Value_temp_change', 'Value_land_use'],\n",
      "      dtype='object')\n"
     ]
    }
   ],
   "source": [
    "full_merged_data_with_land_use = pd.merge(full_merged_data_with_temperature, land_use_data[['Area', 'Year', 'Value']], on=['Area', 'Year'], how='inner', suffixes=('', '_land_use'))\n",
    "\n",
    "# To check the first few rows to ensure the merge went as expected\n",
    "print(full_merged_data_with_land_use.head())\n",
    "print(full_merged_data_with_land_use.columns)"
   ]
  },
  {
   "cell_type": "markdown",
   "id": "4bf82733",
   "metadata": {},
   "source": [
    "### Pesticides use"
   ]
  },
  {
   "cell_type": "code",
   "execution_count": 24,
   "id": "62c9ca0c",
   "metadata": {},
   "outputs": [
    {
     "data": {
      "text/plain": [
       "(  Domain Code          Domain  Area Code (M49)     Area  Element Code  \\\n",
       " 0          RP  Pesticides Use                8  Albania          5157   \n",
       " 1          RP  Pesticides Use                8  Albania          5159   \n",
       " 2          RP  Pesticides Use                8  Albania          5173   \n",
       " 3          RP  Pesticides Use                8  Albania          5157   \n",
       " 4          RP  Pesticides Use                8  Albania          5159   \n",
       " \n",
       "                                     Element  Item Code                Item  \\\n",
       " 0                          Agricultural Use       1357  Pesticides (total)   \n",
       " 1                  Use per area of cropland       1357  Pesticides (total)   \n",
       " 2  Use per value of agricultural production       1357  Pesticides (total)   \n",
       " 3                          Agricultural Use       1357  Pesticides (total)   \n",
       " 4                  Use per area of cropland       1357  Pesticides (total)   \n",
       " \n",
       "    Year Code  Year    Unit   Value Flag Flag Description Note  \n",
       " 0       2000  2000       t  307.98    E  Estimated value  NaN  \n",
       " 1       2000  2000   kg/ha    0.44    E  Estimated value  NaN  \n",
       " 2       2000  2000  g/Int$    0.23    E  Estimated value  NaN  \n",
       " 3       2001  2001       t  319.38    E  Estimated value  NaN  \n",
       " 4       2001  2001   kg/ha    0.46    E  Estimated value  NaN  ,\n",
       " Index(['Domain Code', 'Domain', 'Area Code (M49)', 'Area', 'Element Code',\n",
       "        'Element', 'Item Code', 'Item', 'Year Code', 'Year', 'Unit', 'Value',\n",
       "        'Flag', 'Flag Description', 'Note'],\n",
       "       dtype='object'))"
      ]
     },
     "execution_count": 24,
     "metadata": {},
     "output_type": "execute_result"
    }
   ],
   "source": [
    "# Load the \"Pesticides use\" dataset\n",
    "pesticides_use_path =     r'C:\\Users\\odans\\Documents\\SUSSEX LAB WORKS\\MACHINE LEARNING\\Assignment\\OneDrive_1_22-03-2024_updated\\Pesticides use - FAOSTAT_data_en_2-27-2024.csv'\n",
    "#data_types = {14: str} # Specify dtype option on import and also set low_memory=False\n",
    "pesticides_use_data = pd.read_csv(pesticides_use_path)\n",
    "\n",
    "# Display the first few rows and the columns of the dataset\n",
    "pesticides_use_data.head(), pesticides_use_data.columns"
   ]
  },
  {
   "cell_type": "markdown",
   "id": "2248cd35",
   "metadata": {},
   "source": [
    "The `Pesticides Use` dataset includes multiple metrics related to pesticide use in agriculture, which can provide insights into the intensity of agricultural practices and their potential environmental impacts.\n",
    "\n",
    "### Steps for Merging:\n",
    "1. **Aggregate Data**: Given that the dataset includes different units and types of usage metrics (e.g., total quantity, usage per area, per value of production), we focus on \"Agricultural Use\" in terms of total quantity (in tons), as this provides a direct measure of pesticide use. This ensures the data's relevance to crop production.\n",
    "2. **Merge**: Combine the aggregated pesticide data with the existing dataset."
   ]
  },
  {
   "cell_type": "code",
   "execution_count": 25,
   "id": "7808f4b1",
   "metadata": {},
   "outputs": [
    {
     "name": "stdout",
     "output_type": "stream",
     "text": [
      "      Area  Year    Value_x Domain Code                        Domain  \\\n",
      "0  Albania  2010  44.727208         QCL  Crops and livestock products   \n",
      "1  Albania  2010  44.727208         QCL  Crops and livestock products   \n",
      "2  Albania  2010  44.727208         QCL  Crops and livestock products   \n",
      "3  Albania  2010  44.727208         QCL  Crops and livestock products   \n",
      "4  Albania  2010  44.727208         QCL  Crops and livestock products   \n",
      "\n",
      "   Area Code (M49)  Element Code Element Item Code (CPC)              Item  \\\n",
      "0                8          5419   Yield           F1717  Cereals, primary   \n",
      "1                8          5419   Yield           F1717  Cereals, primary   \n",
      "2                8          5419   Yield           F1717  Cereals, primary   \n",
      "3                8          5419   Yield           F1717  Cereals, primary   \n",
      "4                8          5419   Yield           F1717  Cereals, primary   \n",
      "\n",
      "   ...     Value Value_employment  Value_exchange_rate Value_fertilizers  \\\n",
      "0  ...  110.2303           459.46           103.936667          114737.0   \n",
      "1  ...  110.2303           459.46           103.936667          114737.0   \n",
      "2  ...  110.2303           459.46           103.936667          114737.0   \n",
      "3  ...  110.2303           459.46           103.936667          114737.0   \n",
      "4  ...  110.2303           459.46           103.936667          114737.0   \n",
      "\n",
      "  Value_food_balances  Value_food_security  Value_fdi  Value_temp_change  \\\n",
      "0               52.41               41.481  -0.613208             0.9632   \n",
      "1               52.41               41.481  -0.613208             0.9632   \n",
      "2               52.41               41.481  -0.613208             0.9632   \n",
      "3               52.41               41.481  -0.613208             0.9632   \n",
      "4               52.41               41.481  -0.613208             0.9632   \n",
      "\n",
      "   Value_land_use  Value_pesticides  \n",
      "0          2875.0           1173.25  \n",
      "1          2740.0           1173.25  \n",
      "2          1201.3           1173.25  \n",
      "3          1201.3           1173.25  \n",
      "4           696.0           1173.25  \n",
      "\n",
      "[5 rows x 26 columns]\n",
      "Index(['Area', 'Year', 'Value_x', 'Domain Code', 'Domain', 'Area Code (M49)',\n",
      "       'Element Code', 'Element', 'Item Code (CPC)', 'Item', 'Year Code',\n",
      "       'Unit', 'Value_y', 'Flag', 'Flag Description', 'Note', 'Value',\n",
      "       'Value_employment', 'Value_exchange_rate', 'Value_fertilizers',\n",
      "       'Value_food_balances', 'Value_food_security', 'Value_fdi',\n",
      "       'Value_temp_change', 'Value_land_use', 'Value_pesticides'],\n",
      "      dtype='object')\n"
     ]
    }
   ],
   "source": [
    "# Perform the filter and aggregate operations\n",
    "pesticides_agricultural_use = pesticides_use_data[\n",
    "    (pesticides_use_data['Element'] == 'Agricultural Use') &\n",
    "    (pesticides_use_data['Unit'] == 't')\n",
    "]\n",
    "pesticides_use_aggregated = pesticides_agricultural_use.groupby(['Area', 'Year']).agg({'Value': 'sum'}).reset_index()\n",
    "\n",
    "# Merge operation\n",
    "full_merged_data_with_pesticides = pd.merge(\n",
    "    full_merged_data_with_land_use, \n",
    "    pesticides_use_aggregated, \n",
    "    on=['Area', 'Year'], \n",
    "    how='inner', \n",
    "    suffixes=('', '_pesticides')\n",
    ")\n",
    "\n",
    "print(full_merged_data_with_pesticides.head())\n",
    "print(full_merged_data_with_pesticides.columns)"
   ]
  },
  {
   "cell_type": "markdown",
   "id": "465234d1",
   "metadata": {},
   "source": [
    "### Food Trade"
   ]
  },
  {
   "cell_type": "code",
   "execution_count": 26,
   "id": "b7df09ec",
   "metadata": {},
   "outputs": [
    {
     "data": {
      "text/plain": [
       "(  Domain Code                        Domain  Area Code (M49)         Area  \\\n",
       " 0         TCL  Crops and livestock products                4  Afghanistan   \n",
       " 1         TCL  Crops and livestock products                4  Afghanistan   \n",
       " 2         TCL  Crops and livestock products                4  Afghanistan   \n",
       " 3         TCL  Crops and livestock products                4  Afghanistan   \n",
       " 4         TCL  Crops and livestock products                4  Afghanistan   \n",
       " \n",
       "    Element Code       Element Item Code (CPC)                      Item  \\\n",
       " 0          5622  Import Value           F1888  Cereals and Preparations   \n",
       " 1          5622  Import Value           F1888  Cereals and Preparations   \n",
       " 2          5622  Import Value           F1888  Cereals and Preparations   \n",
       " 3          5622  Import Value           F1888  Cereals and Preparations   \n",
       " 4          5622  Import Value           F1888  Cereals and Preparations   \n",
       " \n",
       "    Year Code  Year      Unit    Value Flag Flag Description  Note  \n",
       " 0       1991  1991  1000 USD  41600.0    A  Official figure   NaN  \n",
       " 1       1992  1992  1000 USD  25600.0    E  Estimated value   NaN  \n",
       " 2       1993  1993  1000 USD  40000.0    E  Estimated value   NaN  \n",
       " 3       1994  1994  1000 USD  25700.0    E  Estimated value   NaN  \n",
       " 4       1995  1995  1000 USD  37720.0    E  Estimated value   NaN  ,\n",
       " Index(['Domain Code', 'Domain', 'Area Code (M49)', 'Area', 'Element Code',\n",
       "        'Element', 'Item Code (CPC)', 'Item', 'Year Code', 'Year', 'Unit',\n",
       "        'Value', 'Flag', 'Flag Description', 'Note'],\n",
       "       dtype='object'))"
      ]
     },
     "execution_count": 26,
     "metadata": {},
     "output_type": "execute_result"
    }
   ],
   "source": [
    "# Load the \"Food Trade\" dataset\n",
    "food_trade_path = r'C:\\Users\\odans\\Documents\\SUSSEX LAB WORKS\\MACHINE LEARNING\\Assignment\\OneDrive_1_22-03-2024_updated\\Food trade indicators - FAOSTAT_data_en_2-22-2024.csv'\n",
    "\n",
    "food_trade_data = pd.read_csv(food_trade_path)\n",
    "\n",
    "# Display the first few rows and the columns of the dataset\n",
    "food_trade_data.head(), food_trade_data.columns"
   ]
  },
  {
   "cell_type": "markdown",
   "id": "fe52a861",
   "metadata": {},
   "source": [
    "The `Food Trade` dataset contains detailed information about trade values of various agricultural products, categorised under imports and exports, which are key indicators for our analysis. The dataset includes fields like 'Area', 'Year', and 'Value' that indicate the financial aspect of trade in terms of USD.\n",
    "\n",
    "### Steps for Merging:\n",
    "1. **Aggregate Data**: For simplicity, we sum up the total export values for each 'Area' and 'Year'.\n",
    "2. **Merge**: Combine this aggregated trade data with our existing dataset."
   ]
  },
  {
   "cell_type": "code",
   "execution_count": 27,
   "id": "fef305c0",
   "metadata": {},
   "outputs": [
    {
     "name": "stdout",
     "output_type": "stream",
     "text": [
      "      Area  Year    Value_x Domain Code                        Domain  \\\n",
      "0  Albania  2010  44.727208         QCL  Crops and livestock products   \n",
      "1  Albania  2010  44.727208         QCL  Crops and livestock products   \n",
      "2  Albania  2010  44.727208         QCL  Crops and livestock products   \n",
      "3  Albania  2010  44.727208         QCL  Crops and livestock products   \n",
      "4  Albania  2010  44.727208         QCL  Crops and livestock products   \n",
      "\n",
      "   Area Code (M49)  Element Code Element Item Code (CPC)              Item  \\\n",
      "0                8          5419   Yield           F1717  Cereals, primary   \n",
      "1                8          5419   Yield           F1717  Cereals, primary   \n",
      "2                8          5419   Yield           F1717  Cereals, primary   \n",
      "3                8          5419   Yield           F1717  Cereals, primary   \n",
      "4                8          5419   Yield           F1717  Cereals, primary   \n",
      "\n",
      "   ...  Value_employment Value_exchange_rate  Value_fertilizers  \\\n",
      "0  ...            459.46          103.936667           114737.0   \n",
      "1  ...            459.46          103.936667           114737.0   \n",
      "2  ...            459.46          103.936667           114737.0   \n",
      "3  ...            459.46          103.936667           114737.0   \n",
      "4  ...            459.46          103.936667           114737.0   \n",
      "\n",
      "  Value_food_balances Value_food_security  Value_fdi  Value_temp_change  \\\n",
      "0               52.41              41.481  -0.613208             0.9632   \n",
      "1               52.41              41.481  -0.613208             0.9632   \n",
      "2               52.41              41.481  -0.613208             0.9632   \n",
      "3               52.41              41.481  -0.613208             0.9632   \n",
      "4               52.41              41.481  -0.613208             0.9632   \n",
      "\n",
      "   Value_land_use  Value_pesticides  Total_Export_Value  \n",
      "0          2875.0           1173.25             60447.0  \n",
      "1          2740.0           1173.25             60447.0  \n",
      "2          1201.3           1173.25             60447.0  \n",
      "3          1201.3           1173.25             60447.0  \n",
      "4           696.0           1173.25             60447.0  \n",
      "\n",
      "[5 rows x 27 columns]\n",
      "Index(['Area', 'Year', 'Value_x', 'Domain Code', 'Domain', 'Area Code (M49)',\n",
      "       'Element Code', 'Element', 'Item Code (CPC)', 'Item', 'Year Code',\n",
      "       'Unit', 'Value_y', 'Flag', 'Flag Description', 'Note', 'Value',\n",
      "       'Value_employment', 'Value_exchange_rate', 'Value_fertilizers',\n",
      "       'Value_food_balances', 'Value_food_security', 'Value_fdi',\n",
      "       'Value_temp_change', 'Value_land_use', 'Value_pesticides',\n",
      "       'Total_Export_Value'],\n",
      "      dtype='object')\n"
     ]
    }
   ],
   "source": [
    "# Filter for export values (assuming Element Code for export values)\n",
    "food_trade_exports = food_trade_data[food_trade_data['Element'] == 'Export Value']\n",
    "\n",
    "# Aggregate the data to sum the total exports for each 'Area' and 'Year'\n",
    "food_trade_exports_aggregated = food_trade_exports.groupby(['Area', 'Year']).agg({'Value': 'sum'}).reset_index()\n",
    "\n",
    "# Renaming the 'Value' column to 'Total_Export_Value' to clearly identify it as the target variable\n",
    "food_trade_exports_aggregated.rename(columns={'Value': 'Total_Export_Value'}, inplace=True)\n",
    "\n",
    "# Merge the aggregated food trade export data with the existing merged data\n",
    "full_merged_data_with_food_trade = pd.merge(full_merged_data_with_pesticides, food_trade_exports_aggregated, on=['Area', 'Year'], how='inner', suffixes=('', '_food_trade'))\n",
    "\n",
    "# Save merge data\n",
    "#path_to_save = r'C:\\Users\\odans\\Documents\\SUSSEX LAB WORKS\\MACHINE LEARNING\\Assignment\\Merged_data.csv'\n",
    "#full_merged_data_with_food_trade.to_csv(path_to_save, index=False)\n",
    "\n",
    "# Display the first few rows and columns of the updated merged dataset to verify the merge\n",
    "print(full_merged_data_with_food_trade.head())\n",
    "print(full_merged_data_with_food_trade.columns)"
   ]
  },
  {
   "cell_type": "code",
   "execution_count": 28,
   "id": "32539870",
   "metadata": {},
   "outputs": [
    {
     "data": {
      "text/html": [
       "<div>\n",
       "<style scoped>\n",
       "    .dataframe tbody tr th:only-of-type {\n",
       "        vertical-align: middle;\n",
       "    }\n",
       "\n",
       "    .dataframe tbody tr th {\n",
       "        vertical-align: top;\n",
       "    }\n",
       "\n",
       "    .dataframe thead th {\n",
       "        text-align: right;\n",
       "    }\n",
       "</style>\n",
       "<table border=\"1\" class=\"dataframe\">\n",
       "  <thead>\n",
       "    <tr style=\"text-align: right;\">\n",
       "      <th></th>\n",
       "      <th>Area</th>\n",
       "      <th>Year</th>\n",
       "      <th>Value_x</th>\n",
       "      <th>Domain Code</th>\n",
       "      <th>Domain</th>\n",
       "      <th>Area Code (M49)</th>\n",
       "      <th>Element Code</th>\n",
       "      <th>Element</th>\n",
       "      <th>Item Code (CPC)</th>\n",
       "      <th>Item</th>\n",
       "      <th>...</th>\n",
       "      <th>Value_employment</th>\n",
       "      <th>Value_exchange_rate</th>\n",
       "      <th>Value_fertilizers</th>\n",
       "      <th>Value_food_balances</th>\n",
       "      <th>Value_food_security</th>\n",
       "      <th>Value_fdi</th>\n",
       "      <th>Value_temp_change</th>\n",
       "      <th>Value_land_use</th>\n",
       "      <th>Value_pesticides</th>\n",
       "      <th>Total_Export_Value</th>\n",
       "    </tr>\n",
       "  </thead>\n",
       "  <tbody>\n",
       "    <tr>\n",
       "      <th>0</th>\n",
       "      <td>Albania</td>\n",
       "      <td>2010</td>\n",
       "      <td>44.727208</td>\n",
       "      <td>QCL</td>\n",
       "      <td>Crops and livestock products</td>\n",
       "      <td>8</td>\n",
       "      <td>5419</td>\n",
       "      <td>Yield</td>\n",
       "      <td>F1717</td>\n",
       "      <td>Cereals, primary</td>\n",
       "      <td>...</td>\n",
       "      <td>459.46</td>\n",
       "      <td>103.936667</td>\n",
       "      <td>114737.0</td>\n",
       "      <td>52.41</td>\n",
       "      <td>41.481</td>\n",
       "      <td>-0.613208</td>\n",
       "      <td>0.9632</td>\n",
       "      <td>2875.0</td>\n",
       "      <td>1173.25</td>\n",
       "      <td>60447.0</td>\n",
       "    </tr>\n",
       "    <tr>\n",
       "      <th>1</th>\n",
       "      <td>Albania</td>\n",
       "      <td>2010</td>\n",
       "      <td>44.727208</td>\n",
       "      <td>QCL</td>\n",
       "      <td>Crops and livestock products</td>\n",
       "      <td>8</td>\n",
       "      <td>5419</td>\n",
       "      <td>Yield</td>\n",
       "      <td>F1717</td>\n",
       "      <td>Cereals, primary</td>\n",
       "      <td>...</td>\n",
       "      <td>459.46</td>\n",
       "      <td>103.936667</td>\n",
       "      <td>114737.0</td>\n",
       "      <td>52.41</td>\n",
       "      <td>41.481</td>\n",
       "      <td>-0.613208</td>\n",
       "      <td>0.9632</td>\n",
       "      <td>2740.0</td>\n",
       "      <td>1173.25</td>\n",
       "      <td>60447.0</td>\n",
       "    </tr>\n",
       "    <tr>\n",
       "      <th>2</th>\n",
       "      <td>Albania</td>\n",
       "      <td>2010</td>\n",
       "      <td>44.727208</td>\n",
       "      <td>QCL</td>\n",
       "      <td>Crops and livestock products</td>\n",
       "      <td>8</td>\n",
       "      <td>5419</td>\n",
       "      <td>Yield</td>\n",
       "      <td>F1717</td>\n",
       "      <td>Cereals, primary</td>\n",
       "      <td>...</td>\n",
       "      <td>459.46</td>\n",
       "      <td>103.936667</td>\n",
       "      <td>114737.0</td>\n",
       "      <td>52.41</td>\n",
       "      <td>41.481</td>\n",
       "      <td>-0.613208</td>\n",
       "      <td>0.9632</td>\n",
       "      <td>1201.3</td>\n",
       "      <td>1173.25</td>\n",
       "      <td>60447.0</td>\n",
       "    </tr>\n",
       "    <tr>\n",
       "      <th>3</th>\n",
       "      <td>Albania</td>\n",
       "      <td>2010</td>\n",
       "      <td>44.727208</td>\n",
       "      <td>QCL</td>\n",
       "      <td>Crops and livestock products</td>\n",
       "      <td>8</td>\n",
       "      <td>5419</td>\n",
       "      <td>Yield</td>\n",
       "      <td>F1717</td>\n",
       "      <td>Cereals, primary</td>\n",
       "      <td>...</td>\n",
       "      <td>459.46</td>\n",
       "      <td>103.936667</td>\n",
       "      <td>114737.0</td>\n",
       "      <td>52.41</td>\n",
       "      <td>41.481</td>\n",
       "      <td>-0.613208</td>\n",
       "      <td>0.9632</td>\n",
       "      <td>1201.3</td>\n",
       "      <td>1173.25</td>\n",
       "      <td>60447.0</td>\n",
       "    </tr>\n",
       "    <tr>\n",
       "      <th>4</th>\n",
       "      <td>Albania</td>\n",
       "      <td>2010</td>\n",
       "      <td>44.727208</td>\n",
       "      <td>QCL</td>\n",
       "      <td>Crops and livestock products</td>\n",
       "      <td>8</td>\n",
       "      <td>5419</td>\n",
       "      <td>Yield</td>\n",
       "      <td>F1717</td>\n",
       "      <td>Cereals, primary</td>\n",
       "      <td>...</td>\n",
       "      <td>459.46</td>\n",
       "      <td>103.936667</td>\n",
       "      <td>114737.0</td>\n",
       "      <td>52.41</td>\n",
       "      <td>41.481</td>\n",
       "      <td>-0.613208</td>\n",
       "      <td>0.9632</td>\n",
       "      <td>696.0</td>\n",
       "      <td>1173.25</td>\n",
       "      <td>60447.0</td>\n",
       "    </tr>\n",
       "  </tbody>\n",
       "</table>\n",
       "<p>5 rows × 27 columns</p>\n",
       "</div>"
      ],
      "text/plain": [
       "      Area  Year    Value_x Domain Code                        Domain  \\\n",
       "0  Albania  2010  44.727208         QCL  Crops and livestock products   \n",
       "1  Albania  2010  44.727208         QCL  Crops and livestock products   \n",
       "2  Albania  2010  44.727208         QCL  Crops and livestock products   \n",
       "3  Albania  2010  44.727208         QCL  Crops and livestock products   \n",
       "4  Albania  2010  44.727208         QCL  Crops and livestock products   \n",
       "\n",
       "   Area Code (M49)  Element Code Element Item Code (CPC)              Item  \\\n",
       "0                8          5419   Yield           F1717  Cereals, primary   \n",
       "1                8          5419   Yield           F1717  Cereals, primary   \n",
       "2                8          5419   Yield           F1717  Cereals, primary   \n",
       "3                8          5419   Yield           F1717  Cereals, primary   \n",
       "4                8          5419   Yield           F1717  Cereals, primary   \n",
       "\n",
       "   ...  Value_employment Value_exchange_rate  Value_fertilizers  \\\n",
       "0  ...            459.46          103.936667           114737.0   \n",
       "1  ...            459.46          103.936667           114737.0   \n",
       "2  ...            459.46          103.936667           114737.0   \n",
       "3  ...            459.46          103.936667           114737.0   \n",
       "4  ...            459.46          103.936667           114737.0   \n",
       "\n",
       "  Value_food_balances Value_food_security  Value_fdi  Value_temp_change  \\\n",
       "0               52.41              41.481  -0.613208             0.9632   \n",
       "1               52.41              41.481  -0.613208             0.9632   \n",
       "2               52.41              41.481  -0.613208             0.9632   \n",
       "3               52.41              41.481  -0.613208             0.9632   \n",
       "4               52.41              41.481  -0.613208             0.9632   \n",
       "\n",
       "   Value_land_use  Value_pesticides  Total_Export_Value  \n",
       "0          2875.0           1173.25             60447.0  \n",
       "1          2740.0           1173.25             60447.0  \n",
       "2          1201.3           1173.25             60447.0  \n",
       "3          1201.3           1173.25             60447.0  \n",
       "4           696.0           1173.25             60447.0  \n",
       "\n",
       "[5 rows x 27 columns]"
      ]
     },
     "execution_count": 28,
     "metadata": {},
     "output_type": "execute_result"
    }
   ],
   "source": [
    "full_merged_data_with_food_trade.head()"
   ]
  },
  {
   "cell_type": "markdown",
   "id": "59262fd9",
   "metadata": {},
   "source": [
    "The `full_merged_data_with_food_trade` dataset includes the aggregated food trade data, specifically the total export values, alongside previously merged information such as crop production, emissions, employment, exchange rates, fertilizer use, food balances, etc. The new column `Total_Export_Value` represents the total export values of food products annually per area."
   ]
  },
  {
   "cell_type": "markdown",
   "id": "ebca0b5b",
   "metadata": {},
   "source": [
    "### Isolate the Target for Model Training:"
   ]
  },
  {
   "cell_type": "code",
   "execution_count": 29,
   "id": "a81c9290",
   "metadata": {},
   "outputs": [],
   "source": [
    "X = full_merged_data_with_food_trade.drop(['Total_Export_Value'], axis=1)  # This is the feature set\n",
    "y = full_merged_data_with_food_trade['Total_Export_Value']  # This is the target(label) variable\n",
    "\n",
    "# Create a deep copy of the merged data before any preprocessing for future use\n",
    "original_X = X.copy(deep=True)"
   ]
  },
  {
   "cell_type": "code",
   "execution_count": 30,
   "id": "d6b0a410",
   "metadata": {},
   "outputs": [
    {
     "data": {
      "text/plain": [
       "Index(['Area', 'Year', 'Value_x', 'Domain Code', 'Domain', 'Area Code (M49)',\n",
       "       'Element Code', 'Element', 'Item Code (CPC)', 'Item', 'Year Code',\n",
       "       'Unit', 'Value_y', 'Flag', 'Flag Description', 'Note', 'Value',\n",
       "       'Value_employment', 'Value_exchange_rate', 'Value_fertilizers',\n",
       "       'Value_food_balances', 'Value_food_security', 'Value_fdi',\n",
       "       'Value_temp_change', 'Value_land_use', 'Value_pesticides'],\n",
       "      dtype='object')"
      ]
     },
     "execution_count": 30,
     "metadata": {},
     "output_type": "execute_result"
    }
   ],
   "source": [
    "X.columns"
   ]
  },
  {
   "cell_type": "markdown",
   "id": "826f765a",
   "metadata": {},
   "source": [
    "## Initial Data Inspection:"
   ]
  },
  {
   "cell_type": "markdown",
   "id": "25016e32",
   "metadata": {},
   "source": [
    "To effectively inspect the fully merged dataset, we will examine several aspects of the data to understand its structure, check for inconsistencies, and identify potential areas that require cleaning or transformation. "
   ]
  },
  {
   "cell_type": "code",
   "execution_count": 31,
   "id": "4b6556d6",
   "metadata": {},
   "outputs": [
    {
     "name": "stdout",
     "output_type": "stream",
     "text": [
      "Dataset shape: (380647, 26)\n",
      "\n",
      "Data Types:\n",
      " Area                    object\n",
      "Year                     int64\n",
      "Value_x                float64\n",
      "Domain Code             object\n",
      "Domain                  object\n",
      "Area Code (M49)          int64\n",
      "Element Code             int64\n",
      "Element                 object\n",
      "Item Code (CPC)         object\n",
      "Item                    object\n",
      "Year Code                int64\n",
      "Unit                    object\n",
      "Value_y                  int64\n",
      "Flag                    object\n",
      "Flag Description        object\n",
      "Note                   float64\n",
      "Value                  float64\n",
      "Value_employment       float64\n",
      "Value_exchange_rate    float64\n",
      "Value_fertilizers      float64\n",
      "Value_food_balances    float64\n",
      "Value_food_security    float64\n",
      "Value_fdi              float64\n",
      "Value_temp_change      float64\n",
      "Value_land_use         float64\n",
      "Value_pesticides       float64\n",
      "dtype: object\n",
      "\n",
      "First few rows:\n",
      "       Area  Year    Value_x Domain Code                        Domain  \\\n",
      "0  Albania  2010  44.727208         QCL  Crops and livestock products   \n",
      "1  Albania  2010  44.727208         QCL  Crops and livestock products   \n",
      "2  Albania  2010  44.727208         QCL  Crops and livestock products   \n",
      "3  Albania  2010  44.727208         QCL  Crops and livestock products   \n",
      "4  Albania  2010  44.727208         QCL  Crops and livestock products   \n",
      "\n",
      "   Area Code (M49)  Element Code Element Item Code (CPC)              Item  \\\n",
      "0                8          5419   Yield           F1717  Cereals, primary   \n",
      "1                8          5419   Yield           F1717  Cereals, primary   \n",
      "2                8          5419   Yield           F1717  Cereals, primary   \n",
      "3                8          5419   Yield           F1717  Cereals, primary   \n",
      "4                8          5419   Yield           F1717  Cereals, primary   \n",
      "\n",
      "   ...     Value Value_employment  Value_exchange_rate Value_fertilizers  \\\n",
      "0  ...  110.2303           459.46           103.936667          114737.0   \n",
      "1  ...  110.2303           459.46           103.936667          114737.0   \n",
      "2  ...  110.2303           459.46           103.936667          114737.0   \n",
      "3  ...  110.2303           459.46           103.936667          114737.0   \n",
      "4  ...  110.2303           459.46           103.936667          114737.0   \n",
      "\n",
      "  Value_food_balances  Value_food_security  Value_fdi  Value_temp_change  \\\n",
      "0               52.41               41.481  -0.613208             0.9632   \n",
      "1               52.41               41.481  -0.613208             0.9632   \n",
      "2               52.41               41.481  -0.613208             0.9632   \n",
      "3               52.41               41.481  -0.613208             0.9632   \n",
      "4               52.41               41.481  -0.613208             0.9632   \n",
      "\n",
      "   Value_land_use  Value_pesticides  \n",
      "0          2875.0           1173.25  \n",
      "1          2740.0           1173.25  \n",
      "2          1201.3           1173.25  \n",
      "3          1201.3           1173.25  \n",
      "4           696.0           1173.25  \n",
      "\n",
      "[5 rows x 26 columns]\n",
      "\n",
      "Summary Statistics:\n",
      "                 Year        Value_x  Area Code (M49)  Element Code  \\\n",
      "count  380647.000000  380647.000000    380647.000000      380647.0   \n",
      "mean     2014.727698      52.261822       422.238596        5419.0   \n",
      "std         3.509466      13.284817       251.344898           0.0   \n",
      "min      2010.000000      14.370703         8.000000        5419.0   \n",
      "25%      2011.000000      47.660669       208.000000        5419.0   \n",
      "50%      2015.000000      50.695417       392.000000        5419.0   \n",
      "75%      2018.000000      53.753435       608.000000        5419.0   \n",
      "max      2021.000000     229.439545       894.000000        5419.0   \n",
      "\n",
      "           Year Code       Value_y  Note          Value  Value_employment  \\\n",
      "count  380647.000000  3.806470e+05   0.0  380647.000000     380647.000000   \n",
      "mean     2014.727698  1.365130e+05   NaN    7288.950796       7216.824877   \n",
      "std         3.509466  1.954335e+05   NaN   27486.741758      28978.841061   \n",
      "min      2010.000000  0.000000e+00   NaN       0.000000          2.000000   \n",
      "25%      2011.000000  1.199500e+04   NaN      35.493300        140.010000   \n",
      "50%      2015.000000  4.888800e+04   NaN     289.615900        645.100000   \n",
      "75%      2018.000000  1.910990e+05   NaN    5325.595100       3620.450000   \n",
      "max      2021.000000  1.337170e+06   NaN  243361.535900     221340.270000   \n",
      "\n",
      "       Value_exchange_rate  Value_fertilizers  Value_food_balances  \\\n",
      "count        380647.000000       3.806470e+05        380647.000000   \n",
      "mean            754.388482       4.143880e+06         16273.670170   \n",
      "std            3634.670986       1.107499e+07         33718.022036   \n",
      "min               0.275979       0.000000e+00             0.430000   \n",
      "25%               1.000000       1.642370e+05          1065.000000   \n",
      "50%               7.935639       6.151610e+05          3945.840000   \n",
      "75%              85.823388       2.174643e+06         11975.310000   \n",
      "max           42000.000000       9.665856e+07        216916.600000   \n",
      "\n",
      "       Value_food_security      Value_fdi  Value_temp_change  Value_land_use  \\\n",
      "count        380647.000000  380647.000000      379519.000000    3.806470e+05   \n",
      "mean             33.889552    5806.363061           1.031942    2.530011e+04   \n",
      "std               9.536329   29864.582791           0.510767    9.391365e+04   \n",
      "min             -17.459000 -189473.798100          -0.024000    0.000000e+00   \n",
      "25%              29.498000       4.999172           0.679700    2.160000e+02   \n",
      "50%              33.526667     146.495495           0.892200    1.857000e+03   \n",
      "75%              39.316000    1722.697084           1.287000    1.003800e+04   \n",
      "max              89.633333  467625.000000           3.550400    1.563441e+06   \n",
      "\n",
      "       Value_pesticides  \n",
      "count     380647.000000  \n",
      "mean       66814.782658  \n",
      "std       164478.141004  \n",
      "min            1.380000  \n",
      "25%         2931.340000  \n",
      "50%         9655.330000  \n",
      "75%        38359.000000  \n",
      "max       937197.550000  \n",
      "\n",
      "Missing Values:\n",
      " Area                        0\n",
      "Year                        0\n",
      "Value_x                     0\n",
      "Domain Code                 0\n",
      "Domain                      0\n",
      "Area Code (M49)             0\n",
      "Element Code                0\n",
      "Element                     0\n",
      "Item Code (CPC)             0\n",
      "Item                        0\n",
      "Year Code                   0\n",
      "Unit                        0\n",
      "Value_y                     0\n",
      "Flag                        0\n",
      "Flag Description            0\n",
      "Note                   380647\n",
      "Value                       0\n",
      "Value_employment            0\n",
      "Value_exchange_rate         0\n",
      "Value_fertilizers           0\n",
      "Value_food_balances         0\n",
      "Value_food_security         0\n",
      "Value_fdi                   0\n",
      "Value_temp_change        1128\n",
      "Value_land_use              0\n",
      "Value_pesticides            0\n",
      "dtype: int64\n",
      "\n",
      "Unique Areas: 139\n",
      "Unique Years: 12\n",
      "\n",
      "Correlation Matrix:\n",
      "                          Year   Value_x  Area Code (M49)  Element Code  \\\n",
      "Year                 1.000000  0.541709         0.024463           NaN   \n",
      "Value_x              0.541709  1.000000         0.070343           NaN   \n",
      "Area Code (M49)      0.024463  0.070343         1.000000           NaN   \n",
      "Element Code              NaN       NaN              NaN           NaN   \n",
      "Year Code            1.000000  0.541709         0.024463           NaN   \n",
      "Value_y              0.077162  0.019620         0.004128           NaN   \n",
      "Note                      NaN       NaN              NaN           NaN   \n",
      "Value                0.039517  0.002822         0.031805           NaN   \n",
      "Value_employment     0.000766 -0.002735        -0.038439           NaN   \n",
      "Value_exchange_rate  0.019598  0.202137        -0.031339           NaN   \n",
      "Value_fertilizers    0.052454  0.004715         0.108231           NaN   \n",
      "Value_food_balances  0.088631  0.043541         0.129334           NaN   \n",
      "Value_food_security  0.058319 -0.008805        -0.052402           NaN   \n",
      "Value_fdi            0.008017 -0.022626         0.072255           NaN   \n",
      "Value_temp_change    0.348455  0.130824         0.048438           NaN   \n",
      "Value_land_use      -0.004181 -0.008587         0.036882           NaN   \n",
      "Value_pesticides     0.008667  0.006630         0.053816           NaN   \n",
      "\n",
      "                     Year Code   Value_y  Note     Value  Value_employment  \\\n",
      "Year                  1.000000  0.077162   NaN  0.039517          0.000766   \n",
      "Value_x               0.541709  0.019620   NaN  0.002822         -0.002735   \n",
      "Area Code (M49)       0.024463  0.004128   NaN  0.031805         -0.038439   \n",
      "Element Code               NaN       NaN   NaN       NaN               NaN   \n",
      "Year Code             1.000000  0.077162   NaN  0.039517          0.000766   \n",
      "Value_y               0.077162  1.000000   NaN  0.018926         -0.014353   \n",
      "Note                       NaN       NaN   NaN       NaN               NaN   \n",
      "Value                 0.039517  0.018926   NaN  1.000000          0.152054   \n",
      "Value_employment      0.000766 -0.014353   NaN  0.152054          1.000000   \n",
      "Value_exchange_rate   0.019598  0.002110   NaN  0.314238          0.040283   \n",
      "Value_fertilizers     0.052454  0.038925   NaN  0.247267          0.687405   \n",
      "Value_food_balances   0.088631  0.086512   NaN  0.322935          0.101195   \n",
      "Value_food_security   0.058319  0.006703   NaN -0.118540         -0.085246   \n",
      "Value_fdi             0.008017  0.035435   NaN  0.135522         -0.030019   \n",
      "Value_temp_change     0.348455  0.025454   NaN -0.116012         -0.191626   \n",
      "Value_land_use       -0.004181  0.027393   NaN  0.168186          0.163806   \n",
      "Value_pesticides      0.008667  0.053239   NaN  0.515367          0.100676   \n",
      "\n",
      "                     Value_exchange_rate  Value_fertilizers  \\\n",
      "Year                            0.019598           0.052454   \n",
      "Value_x                         0.202137           0.004715   \n",
      "Area Code (M49)                -0.031339           0.108231   \n",
      "Element Code                         NaN                NaN   \n",
      "Year Code                       0.019598           0.052454   \n",
      "Value_y                         0.002110           0.038925   \n",
      "Note                                 NaN                NaN   \n",
      "Value                           0.314238           0.247267   \n",
      "Value_employment                0.040283           0.687405   \n",
      "Value_exchange_rate             1.000000          -0.011060   \n",
      "Value_fertilizers              -0.011060           1.000000   \n",
      "Value_food_balances            -0.023570           0.693339   \n",
      "Value_food_security             0.035545          -0.118684   \n",
      "Value_fdi                      -0.020267           0.250092   \n",
      "Value_temp_change              -0.053171          -0.176524   \n",
      "Value_land_use                  0.013151           0.440361   \n",
      "Value_pesticides                0.075456           0.640881   \n",
      "\n",
      "                     Value_food_balances  Value_food_security  Value_fdi  \\\n",
      "Year                            0.088631             0.058319   0.008017   \n",
      "Value_x                         0.043541            -0.008805  -0.022626   \n",
      "Area Code (M49)                 0.129334            -0.052402   0.072255   \n",
      "Element Code                         NaN                  NaN        NaN   \n",
      "Year Code                       0.088631             0.058319   0.008017   \n",
      "Value_y                         0.086512             0.006703   0.035435   \n",
      "Note                                 NaN                  NaN        NaN   \n",
      "Value                           0.322935            -0.118540   0.135522   \n",
      "Value_employment                0.101195            -0.085246  -0.030019   \n",
      "Value_exchange_rate            -0.023570             0.035545  -0.020267   \n",
      "Value_fertilizers               0.693339            -0.118684   0.250092   \n",
      "Value_food_balances             1.000000            -0.216553   0.387953   \n",
      "Value_food_security            -0.216553             1.000000  -0.014063   \n",
      "Value_fdi                       0.387953            -0.014063   1.000000   \n",
      "Value_temp_change              -0.076824            -0.098873  -0.041639   \n",
      "Value_land_use                  0.490230            -0.101044   0.207234   \n",
      "Value_pesticides                0.876633            -0.184619   0.328917   \n",
      "\n",
      "                     Value_temp_change  Value_land_use  Value_pesticides  \n",
      "Year                          0.348455       -0.004181          0.008667  \n",
      "Value_x                       0.130824       -0.008587          0.006630  \n",
      "Area Code (M49)               0.048438        0.036882          0.053816  \n",
      "Element Code                       NaN             NaN               NaN  \n",
      "Year Code                     0.348455       -0.004181          0.008667  \n",
      "Value_y                       0.025454        0.027393          0.053239  \n",
      "Note                               NaN             NaN               NaN  \n",
      "Value                        -0.116012        0.168186          0.515367  \n",
      "Value_employment             -0.191626        0.163806          0.100676  \n",
      "Value_exchange_rate          -0.053171        0.013151          0.075456  \n",
      "Value_fertilizers            -0.176524        0.440361          0.640881  \n",
      "Value_food_balances          -0.076824        0.490230          0.876633  \n",
      "Value_food_security          -0.098873       -0.101044         -0.184619  \n",
      "Value_fdi                    -0.041639        0.207234          0.328917  \n",
      "Value_temp_change             1.000000       -0.117794         -0.185505  \n",
      "Value_land_use               -0.117794        1.000000          0.472923  \n",
      "Value_pesticides             -0.185505        0.472923          1.000000  \n"
     ]
    }
   ],
   "source": [
    "# Display basic information about the dataset\n",
    "print(\"Dataset shape:\", X.shape)\n",
    "print(\"\\nData Types:\\n\", X.dtypes)\n",
    "\n",
    "# Display the first few rows of the dataset\n",
    "print(\"\\nFirst few rows:\\n\", X.head())\n",
    "\n",
    "# Display summary statistics for numerical features\n",
    "print(\"\\nSummary Statistics:\\n\", X.describe())\n",
    "\n",
    "# Check for missing values\n",
    "print(\"\\nMissing Values:\\n\", X.isnull().sum())\n",
    "\n",
    "# Check for unique values in 'Area' and 'Year'\n",
    "print(\"\\nUnique Areas:\", X['Area'].nunique())\n",
    "print(\"Unique Years:\", X['Year'].nunique())\n",
    "\n",
    "# Display correlation matrix\n",
    "# Calculate correlation matrix for numeric columns only\n",
    "numeric_cols = X.select_dtypes(include=[np.number])\n",
    "correlation_matrix = numeric_cols.corr()\n",
    "print(\"\\nCorrelation Matrix:\\n\", correlation_matrix)"
   ]
  },
  {
   "cell_type": "code",
   "execution_count": 32,
   "id": "01602055",
   "metadata": {},
   "outputs": [
    {
     "data": {
      "text/plain": [
       "0        NaN\n",
       "1        NaN\n",
       "2        NaN\n",
       "3        NaN\n",
       "4        NaN\n",
       "          ..\n",
       "380642   NaN\n",
       "380643   NaN\n",
       "380644   NaN\n",
       "380645   NaN\n",
       "380646   NaN\n",
       "Name: Note, Length: 380647, dtype: float64"
      ]
     },
     "execution_count": 32,
     "metadata": {},
     "output_type": "execute_result"
    }
   ],
   "source": [
    "X['Note']"
   ]
  },
  {
   "cell_type": "markdown",
   "id": "fc682ec9",
   "metadata": {},
   "source": [
    "## Comprehensive Data Summary Before Preprocessing\n",
    "\n",
    "Let's have a quick overview of the merged data to understand the approach to take in preprocessing"
   ]
  },
  {
   "cell_type": "markdown",
   "id": "a65d60d7",
   "metadata": {},
   "source": [
    "### 1. **Descriptive Statistics and Quick Overview**"
   ]
  },
  {
   "cell_type": "code",
   "execution_count": 33,
   "id": "7340a836",
   "metadata": {},
   "outputs": [
    {
     "name": "stdout",
     "output_type": "stream",
     "text": [
      "                Year        Value_x  Area Code (M49)  Element Code  \\\n",
      "count  380647.000000  380647.000000    380647.000000      380647.0   \n",
      "mean     2014.727698      52.261822       422.238596        5419.0   \n",
      "std         3.509466      13.284817       251.344898           0.0   \n",
      "min      2010.000000      14.370703         8.000000        5419.0   \n",
      "25%      2011.000000      47.660669       208.000000        5419.0   \n",
      "50%      2015.000000      50.695417       392.000000        5419.0   \n",
      "75%      2018.000000      53.753435       608.000000        5419.0   \n",
      "max      2021.000000     229.439545       894.000000        5419.0   \n",
      "\n",
      "           Year Code       Value_y  Note          Value  Value_employment  \\\n",
      "count  380647.000000  3.806470e+05   0.0  380647.000000     380647.000000   \n",
      "mean     2014.727698  1.365130e+05   NaN    7288.950796       7216.824877   \n",
      "std         3.509466  1.954335e+05   NaN   27486.741758      28978.841061   \n",
      "min      2010.000000  0.000000e+00   NaN       0.000000          2.000000   \n",
      "25%      2011.000000  1.199500e+04   NaN      35.493300        140.010000   \n",
      "50%      2015.000000  4.888800e+04   NaN     289.615900        645.100000   \n",
      "75%      2018.000000  1.910990e+05   NaN    5325.595100       3620.450000   \n",
      "max      2021.000000  1.337170e+06   NaN  243361.535900     221340.270000   \n",
      "\n",
      "       Value_exchange_rate  Value_fertilizers  Value_food_balances  \\\n",
      "count        380647.000000       3.806470e+05        380647.000000   \n",
      "mean            754.388482       4.143880e+06         16273.670170   \n",
      "std            3634.670986       1.107499e+07         33718.022036   \n",
      "min               0.275979       0.000000e+00             0.430000   \n",
      "25%               1.000000       1.642370e+05          1065.000000   \n",
      "50%               7.935639       6.151610e+05          3945.840000   \n",
      "75%              85.823388       2.174643e+06         11975.310000   \n",
      "max           42000.000000       9.665856e+07        216916.600000   \n",
      "\n",
      "       Value_food_security      Value_fdi  Value_temp_change  Value_land_use  \\\n",
      "count        380647.000000  380647.000000      379519.000000    3.806470e+05   \n",
      "mean             33.889552    5806.363061           1.031942    2.530011e+04   \n",
      "std               9.536329   29864.582791           0.510767    9.391365e+04   \n",
      "min             -17.459000 -189473.798100          -0.024000    0.000000e+00   \n",
      "25%              29.498000       4.999172           0.679700    2.160000e+02   \n",
      "50%              33.526667     146.495495           0.892200    1.857000e+03   \n",
      "75%              39.316000    1722.697084           1.287000    1.003800e+04   \n",
      "max              89.633333  467625.000000           3.550400    1.563441e+06   \n",
      "\n",
      "       Value_pesticides  \n",
      "count     380647.000000  \n",
      "mean       66814.782658  \n",
      "std       164478.141004  \n",
      "min            1.380000  \n",
      "25%         2931.340000  \n",
      "50%         9655.330000  \n",
      "75%        38359.000000  \n",
      "max       937197.550000  \n"
     ]
    }
   ],
   "source": [
    "# Display summary statistics for all numerical columns\n",
    "print(X.describe())"
   ]
  },
  {
   "cell_type": "markdown",
   "id": "584d3f3f",
   "metadata": {},
   "source": [
    "### 2. **Visulisation for All Numeric Fields**\n",
    "Let's plot boxplots across multiple variables to gain a quick visual summary of the central values, spreads, ranges, and outliers."
   ]
  },
  {
   "cell_type": "code",
   "execution_count": 34,
   "id": "2d2aca65",
   "metadata": {},
   "outputs": [
    {
     "data": {
      "image/png": "[encoded data removed]",
      "text/plain": [
       "<Figure size 2000x2000 with 25 Axes>"
      ]
     },
     "metadata": {},
     "output_type": "display_data"
    }
   ],
   "source": [
    "# Boxplots for all numeric columns\n",
    "numeric_cols = X.select_dtypes(include=['float64', 'int64'])\n",
    "numeric_cols.plot(kind='box', subplots=True, layout=(5,5), figsize=(20, 20), patch_artist=True)\n",
    "plt.suptitle('Boxplots of All Numeric Columns')\n",
    "plt.show()"
   ]
  },
  {
   "cell_type": "markdown",
   "id": "2cb1b5b3",
   "metadata": {},
   "source": [
    "## Preprocessing"
   ]
  },
  {
   "cell_type": "markdown",
   "id": "925f5f20",
   "metadata": {},
   "source": [
    "### Handling Missing Values\n",
    "\n",
    "From the descriptive statistics above and the visualisation,\n",
    "- The column `Note` has all missing values (380647 entries). We will drop this column.\n",
    "- `Value_temp_change` has 1128 missing entries which need handling."
   ]
  },
  {
   "cell_type": "code",
   "execution_count": 35,
   "id": "ad704992",
   "metadata": {},
   "outputs": [],
   "source": [
    "# Drop the 'Note' column\n",
    "X.drop('Note', axis=1, inplace=True)\n",
    "# full_merged_data_with_pesticides['Note']"
   ]
  },
  {
   "cell_type": "code",
   "execution_count": 36,
   "id": "feede3f6",
   "metadata": {},
   "outputs": [
    {
     "name": "stdout",
     "output_type": "stream",
     "text": [
      "Area                   0\n",
      "Year                   0\n",
      "Value_x                0\n",
      "Domain Code            0\n",
      "Domain                 0\n",
      "Area Code (M49)        0\n",
      "Element Code           0\n",
      "Element                0\n",
      "Item Code (CPC)        0\n",
      "Item                   0\n",
      "Year Code              0\n",
      "Unit                   0\n",
      "Value_y                0\n",
      "Flag                   0\n",
      "Flag Description       0\n",
      "Value                  0\n",
      "Value_employment       0\n",
      "Value_exchange_rate    0\n",
      "Value_fertilizers      0\n",
      "Value_food_balances    0\n",
      "Value_food_security    0\n",
      "Value_fdi              0\n",
      "Value_temp_change      0\n",
      "Value_land_use         0\n",
      "Value_pesticides       0\n",
      "dtype: int64\n"
     ]
    }
   ],
   "source": [
    "# Impute missing values for 'Value_temp_change' using the median\n",
    "temp_change_median = X['Value_temp_change'].median()\n",
    "X['Value_temp_change'].fillna(temp_change_median, inplace=True)\n",
    "\n",
    "# Check if any more missing values\n",
    "print(X.isnull().sum())"
   ]
  },
  {
   "cell_type": "markdown",
   "id": "2ebbd47e",
   "metadata": {},
   "source": [
    "### Standardisation\n",
    "The description statistics has shown that our merged dataset includes very different scales (e.g., `Value_food_trade` in the tens of millions vs. other smaller scale features). We will apply normalisation and standardisation techniques to adjust the scales of the data features."
   ]
  },
  {
   "cell_type": "code",
   "execution_count": 37,
   "id": "7b417ce8",
   "metadata": {},
   "outputs": [
    {
     "name": "stdout",
     "output_type": "stream",
     "text": [
      "      Area      Year   Value_x Domain Code                        Domain  \\\n",
      "0  Albania -1.347129 -0.567161         QCL  Crops and livestock products   \n",
      "1  Albania -1.347129 -0.567161         QCL  Crops and livestock products   \n",
      "2  Albania -1.347129 -0.567161         QCL  Crops and livestock products   \n",
      "3  Albania -1.347129 -0.567161         QCL  Crops and livestock products   \n",
      "4  Albania -1.347129 -0.567161         QCL  Crops and livestock products   \n",
      "\n",
      "   Area Code (M49)  Element Code Element Item Code (CPC)              Item  \\\n",
      "0        -1.648091           0.0   Yield           F1717  Cereals, primary   \n",
      "1        -1.648091           0.0   Yield           F1717  Cereals, primary   \n",
      "2        -1.648091           0.0   Yield           F1717  Cereals, primary   \n",
      "3        -1.648091           0.0   Yield           F1717  Cereals, primary   \n",
      "4        -1.648091           0.0   Yield           F1717  Cereals, primary   \n",
      "\n",
      "   ...     Value Value_employment  Value_exchange_rate Value_fertilizers  \\\n",
      "0  ... -0.261171        -0.233183            -0.178958         -0.363806   \n",
      "1  ... -0.261171        -0.233183            -0.178958         -0.363806   \n",
      "2  ... -0.261171        -0.233183            -0.178958         -0.363806   \n",
      "3  ... -0.261171        -0.233183            -0.178958         -0.363806   \n",
      "4  ... -0.261171        -0.233183            -0.178958         -0.363806   \n",
      "\n",
      "  Value_food_balances  Value_food_security  Value_fdi  Value_temp_change  \\\n",
      "0           -0.481086             0.796057  -0.194444          -0.133958   \n",
      "1           -0.481086             0.796057  -0.194444          -0.133958   \n",
      "2           -0.481086             0.796057  -0.194444          -0.133958   \n",
      "3           -0.481086             0.796057  -0.194444          -0.133958   \n",
      "4           -0.481086             0.796057  -0.194444          -0.133958   \n",
      "\n",
      "   Value_land_use  Value_pesticides  \n",
      "0       -0.238785          -0.39909  \n",
      "1       -0.240222          -0.39909  \n",
      "2       -0.256606          -0.39909  \n",
      "3       -0.256606          -0.39909  \n",
      "4       -0.261987          -0.39909  \n",
      "\n",
      "[5 rows x 25 columns]\n"
     ]
    }
   ],
   "source": [
    "# Initialize the scalers\n",
    "scaler = StandardScaler()\n",
    "#scaler = MinMaxScaler()\n",
    "\n",
    "# Select numeric columns for scaling\n",
    "numeric_cols = X.select_dtypes(include=['float64', 'int64'])\n",
    "\n",
    "# Fit and transform the data\n",
    "X[numeric_cols.columns] = scaler.fit_transform(numeric_cols)\n",
    "\n",
    "# Check the transformation\n",
    "print(X.head())"
   ]
  },
  {
   "cell_type": "markdown",
   "id": "ee371f0a",
   "metadata": {},
   "source": [
    "### Normalization\n",
    "#### Check for Skewed Data"
   ]
  },
  {
   "cell_type": "code",
   "execution_count": 38,
   "id": "22ef7fe5",
   "metadata": {},
   "outputs": [
    {
     "name": "stdout",
     "output_type": "stream",
     "text": [
      "Year                   0.201227\n",
      "Value_x                4.916149\n",
      "Area Code (M49)        0.167977\n",
      "Element Code           0.000000\n",
      "Year Code              0.201227\n",
      "Value_y                2.325492\n",
      "Value                  7.299230\n",
      "Value_employment       6.311004\n",
      "Value_exchange_rate    7.579044\n",
      "Value_fertilizers      4.025897\n",
      "Value_food_balances    3.765680\n",
      "Value_food_security   -0.242437\n",
      "Value_fdi              9.623884\n",
      "Value_temp_change      1.226659\n",
      "Value_land_use         7.416693\n",
      "Value_pesticides       3.726900\n",
      "dtype: float64\n"
     ]
    }
   ],
   "source": [
    "# Calculate skewness for each numeric feature\n",
    "numeric_cols = X.select_dtypes(include=[np.number])  # Ensure only numeric columns are considered\n",
    "skewness = numeric_cols.skew()\n",
    "print(skewness)"
   ]
  },
  {
   "cell_type": "markdown",
   "id": "713eb54d",
   "metadata": {},
   "source": [
    "The skewness results show that most of the features are significantly skewed. The skewness values above +1 or below -1 suggest that the data distribution is far from normal and could potentially affect the performance of the model.\n",
    "\n",
    "\n",
    "### Outlier Detection and Handling:\n",
    " Here, we applied outlier detection and handling techniques (_i.e.,_ winsorizing) to reduce the effect of outliers."
   ]
  },
  {
   "cell_type": "code",
   "execution_count": 39,
   "id": "c287a064",
   "metadata": {},
   "outputs": [
    {
     "name": "stdout",
     "output_type": "stream",
     "text": [
      "New skewness values after Yeo-Johnson transformation:\n",
      " Year                   0.056615\n",
      "Value_x               -0.022171\n",
      "Area Code (M49)        0.015801\n",
      "Element Code           0.000000\n",
      "Year Code              0.056615\n",
      "Value_y                0.443827\n",
      "Value                  0.776932\n",
      "Value_employment       0.650349\n",
      "Value_exchange_rate    0.747770\n",
      "Value_fertilizers      0.594664\n",
      "Value_food_balances    0.532072\n",
      "Value_food_security   -0.020539\n",
      "Value_fdi             -0.001312\n",
      "Value_temp_change      0.048663\n",
      "Value_land_use         0.685198\n",
      "Value_pesticides       0.647509\n",
      "dtype: float64\n"
     ]
    }
   ],
   "source": [
    "# Select only the numeric columns from the DataFrame\n",
    "numeric_cols = X.select_dtypes(include=['number'])\n",
    "\n",
    "# Calculate the quantiles for numeric columns\n",
    "Q1 = numeric_cols.quantile(0.25)\n",
    "Q3 = numeric_cols.quantile(0.75)\n",
    "IQR = Q3 - Q1\n",
    "\n",
    "# Identifying outliers\n",
    "is_outlier = (numeric_cols < (Q1 - 1.5 * IQR)) | (numeric_cols > (Q3 + 1.5 * IQR))\n",
    "\n",
    "# Handling outliers, for example, by capping\n",
    "for column in numeric_cols.columns:\n",
    "    lower_bound = Q1[column] - 1.5 * IQR[column]\n",
    "    upper_bound = Q3[column] + 1.5 * IQR[column]\n",
    "    numeric_cols[column] = np.where(numeric_cols[column] < lower_bound, lower_bound, numeric_cols[column])\n",
    "    numeric_cols[column] = np.where(numeric_cols[column] > upper_bound, upper_bound, numeric_cols[column])\n",
    "\n",
    "\n",
    "# Filling NaNs created by capping with the median\n",
    "numeric_cols.fillna(numeric_cols.median(), inplace=True)\n",
    "\n",
    "\n",
    "# Initialize the PowerTransformer with the Yeo-Johnson method\n",
    "pt = PowerTransformer(method='yeo-johnson')\n",
    "\n",
    "# Fit and transform the cleaned numeric columns\n",
    "transformed_columns = pt.fit_transform(numeric_cols)\n",
    "X.update(pd.DataFrame(transformed_columns, columns=numeric_cols.columns))\n",
    "\n",
    "# Check the new skewness values\n",
    "new_skewness = pd.DataFrame(transformed_columns, columns=numeric_cols.columns).skew()\n",
    "print(\"New skewness values after Yeo-Johnson transformation:\\n\", new_skewness)"
   ]
  },
  {
   "cell_type": "markdown",
   "id": "4004db95",
   "metadata": {},
   "source": [
    "The new skewness values after applying the Yeo-Johnson transformation indicate significant improvement across all the features. The skewness for most variables is now much closer to zero, which suggests that the data distributions have been effectively normalized. "
   ]
  },
  {
   "cell_type": "code",
   "execution_count": 40,
   "id": "1cdfa030",
   "metadata": {},
   "outputs": [
    {
     "data": {
      "image/png": "[encoded data removed]",
      "text/plain": [
       "<Figure size 800x400 with 1 Axes>"
      ]
     },
     "metadata": {},
     "output_type": "display_data"
    },
    {
     "data": {
      "image/png": "[encoded data removed]",
      "text/plain": [
       "<Figure size 800x400 with 1 Axes>"
      ]
     },
     "metadata": {},
     "output_type": "display_data"
    },
    {
     "data": {
      "image/png": "[encoded data removed]",
      "text/plain": [
       "<Figure size 800x400 with 1 Axes>"
      ]
     },
     "metadata": {},
     "output_type": "display_data"
    },
    {
     "data": {
      "image/png": "[encoded data removed]",
      "text/plain": [
       "<Figure size 800x400 with 1 Axes>"
      ]
     },
     "metadata": {},
     "output_type": "display_data"
    },
    {
     "data": {
      "image/png": "[encoded data removed]",
      "text/plain": [
       "<Figure size 800x400 with 1 Axes>"
      ]
     },
     "metadata": {},
     "output_type": "display_data"
    }
   ],
   "source": [
    "# Visualise the distribution of features with persistent skewness\n",
    "features_to_plot = ['Value', 'Value_employment','Value_exchange_rate', 'Value_land_use', 'Value_fdi']\n",
    "for feature in features_to_plot:\n",
    "    plt.figure(figsize=(8, 4))\n",
    "    sns.histplot(X[feature], kde=True)\n",
    "    plt.title(f'Distribution of {feature} after Yeo-Johnson Transformation')\n",
    "    plt.xlabel(feature)\n",
    "    plt.ylabel('Density')\n",
    "    plt.show()"
   ]
  },
  {
   "cell_type": "markdown",
   "id": "687da4dc",
   "metadata": {},
   "source": [
    "These distributions show that the transformation has reduced skewness, but they still are not symmetric as some have multiple modes like and others long tails. This may indicate complex underlying distributions or the presence of outliers within the data.\n",
    "\n",
    "\n"
   ]
  },
  {
   "cell_type": "markdown",
   "id": "b5cb5cb5",
   "metadata": {},
   "source": [
    "### Encoding Categorical Variables"
   ]
  },
  {
   "cell_type": "code",
   "execution_count": 41,
   "id": "a2cb5240",
   "metadata": {},
   "outputs": [
    {
     "name": "stdout",
     "output_type": "stream",
     "text": [
      "Area                    object\n",
      "Year                   float64\n",
      "Value_x                float64\n",
      "Domain Code             object\n",
      "Domain                  object\n",
      "Area Code (M49)        float64\n",
      "Element Code           float64\n",
      "Element                 object\n",
      "Item Code (CPC)         object\n",
      "Item                    object\n",
      "Year Code              float64\n",
      "Unit                    object\n",
      "Value_y                float64\n",
      "Flag                    object\n",
      "Flag Description        object\n",
      "Value                  float64\n",
      "Value_employment       float64\n",
      "Value_exchange_rate    float64\n",
      "Value_fertilizers      float64\n",
      "Value_food_balances    float64\n",
      "Value_food_security    float64\n",
      "Value_fdi              float64\n",
      "Value_temp_change      float64\n",
      "Value_land_use         float64\n",
      "Value_pesticides       float64\n",
      "dtype: object\n"
     ]
    }
   ],
   "source": [
    "# Print columns and their data types to help identify categorical columns\n",
    "print(X.dtypes)"
   ]
  },
  {
   "cell_type": "markdown",
   "id": "0084fdd8",
   "metadata": {},
   "source": [
    "- **Presence of Categorical Data**: The dataset includes categorical columns like `Area`, `Item Code (CPC)` etc, which appear to be nominal data. These are encoded to ensure that they can be appropriately handled by machine learning algorithms.\n",
    "- **Encoding Method**:\n",
    "  - **One-Hot Encoding** is adopted here as it is preferred for nominal data where no ordinal relationship exist as is he case for `Area` and `Item Code (CPC)` features."
   ]
  },
  {
   "cell_type": "code",
   "execution_count": 42,
   "id": "887785c2",
   "metadata": {},
   "outputs": [
    {
     "name": "stdout",
     "output_type": "stream",
     "text": [
      "            Year   Value_x  Area Code (M49)  Element Code  Year Code  \\\n",
      "0      -1.417272 -0.992531        -1.755220           0.0  -1.417272   \n",
      "1      -1.417272 -0.992531        -1.755220           0.0  -1.417272   \n",
      "2      -1.417272 -0.992531        -1.755220           0.0  -1.417272   \n",
      "3      -1.417272 -0.992531        -1.755220           0.0  -1.417272   \n",
      "4      -1.417272 -0.992531        -1.755220           0.0  -1.417272   \n",
      "...          ...       ...              ...           ...        ...   \n",
      "380642  0.944754  1.866184         1.152256           0.0   0.944754   \n",
      "380643  0.944754  1.866184         1.152256           0.0   0.944754   \n",
      "380644  0.944754  1.866184         1.152256           0.0   0.944754   \n",
      "380645  0.944754  1.866184         1.152256           0.0   0.944754   \n",
      "380646  0.944754  1.866184         1.152256           0.0   0.944754   \n",
      "\n",
      "         Value_y     Value  Value_employment  Value_exchange_rate  \\\n",
      "0      -0.353658 -0.770449         -0.591438             1.177563   \n",
      "1      -0.353658 -0.770449         -0.591438             1.177563   \n",
      "2      -0.353658 -0.770449         -0.591438             1.177563   \n",
      "3      -0.353658 -0.770449         -0.591438             1.177563   \n",
      "4      -0.353658 -0.770449         -0.591438             1.177563   \n",
      "...          ...       ...               ...                  ...   \n",
      "380642 -0.089266 -0.840088          0.986648             1.663267   \n",
      "380643 -0.089266 -0.840088          0.986648             1.663267   \n",
      "380644 -0.089266 -0.840088          0.986648             1.663267   \n",
      "380645 -0.089266 -0.840088          0.986648             1.663267   \n",
      "380646 -0.089266 -0.840088          0.986648             1.663267   \n",
      "\n",
      "        Value_fertilizers  ...  Area_Uganda  Area_Ukraine  \\\n",
      "0               -0.952005  ...        False         False   \n",
      "1               -0.952005  ...        False         False   \n",
      "2               -0.952005  ...        False         False   \n",
      "3               -0.952005  ...        False         False   \n",
      "4               -0.952005  ...        False         False   \n",
      "...                   ...  ...          ...           ...   \n",
      "380642          -1.084235  ...        False         False   \n",
      "380643          -1.084235  ...        False         False   \n",
      "380644          -1.084235  ...        False         False   \n",
      "380645          -1.084235  ...        False         False   \n",
      "380646          -1.084235  ...        False         False   \n",
      "\n",
      "        Area_United Republic of Tanzania  Area_United States of America  \\\n",
      "0                                  False                          False   \n",
      "1                                  False                          False   \n",
      "2                                  False                          False   \n",
      "3                                  False                          False   \n",
      "4                                  False                          False   \n",
      "...                                  ...                            ...   \n",
      "380642                             False                          False   \n",
      "380643                             False                          False   \n",
      "380644                             False                          False   \n",
      "380645                             False                          False   \n",
      "380646                             False                          False   \n",
      "\n",
      "        Area_Uruguay  Area_Venezuela (Bolivarian Republic of)  Area_Viet Nam  \\\n",
      "0              False                                    False          False   \n",
      "1              False                                    False          False   \n",
      "2              False                                    False          False   \n",
      "3              False                                    False          False   \n",
      "4              False                                    False          False   \n",
      "...              ...                                      ...            ...   \n",
      "380642         False                                    False          False   \n",
      "380643         False                                    False          False   \n",
      "380644         False                                    False          False   \n",
      "380645         False                                    False          False   \n",
      "380646         False                                    False          False   \n",
      "\n",
      "        Area_Yemen  Area_Zambia  Area_Zimbabwe  \n",
      "0            False        False          False  \n",
      "1            False        False          False  \n",
      "2            False        False          False  \n",
      "3            False        False          False  \n",
      "4            False        False          False  \n",
      "...            ...          ...            ...  \n",
      "380642       False        False           True  \n",
      "380643       False        False           True  \n",
      "380644       False        False           True  \n",
      "380645       False        False           True  \n",
      "380646       False        False           True  \n",
      "\n",
      "[380647 rows x 187 columns]\n"
     ]
    }
   ],
   "source": [
    "# Selecting only the object columns that need to be encoded\n",
    "categorical_cols = ['Domain Code', 'Domain', 'Element', 'Item Code (CPC)', 'Item', 'Unit', 'Flag', 'Flag Description', 'Area']\n",
    "\n",
    "# Applying one-hot encoding to these columns\n",
    "X = pd.get_dummies(X, columns=categorical_cols)\n",
    "\n",
    "# Display the first few rows of the updated dataframe to verify the changes\n",
    "print(X)"
   ]
  },
  {
   "cell_type": "markdown",
   "id": "0b456f86",
   "metadata": {},
   "source": [
    "### Dimensionality Reduction:\n",
    "- **Dimensionality**: It is obvious that after applying one-hot encoding, the number of features in the dataset have significantly increased. This can lead to overfitting or/and increased computational demand.\n",
    "  \n",
    "- **Dimensionality Reduction**: PCA is applied to the data after encoding to reduce the number of features to a manageable size while retaining most of the variability information in the dataset."
   ]
  },
  {
   "cell_type": "markdown",
   "id": "d999def7",
   "metadata": {},
   "source": [
    "**Implementation of PCA Using Variance Explained Criterion:**\n",
    "\n",
    "1. **Cumulative Variance Analysis:** We calculated the cumulative variance explained by the components to determine how many were needed to account for at least 95% of the total variance.\n",
    "\n",
    "2. **Scree Plot Visualization:** A scree plot was created to visually determine the optimal number of components, with lines marking where 95% of the variance is explained.\n",
    "\n",
    "3. **PCA Application:** We then applied PCA again, this time specifying the number of components necessary to capture 95% of the variance, effectively reducing the dataset's complexity."
   ]
  },
  {
   "cell_type": "code",
   "execution_count": 43,
   "id": "78e6ec9e",
   "metadata": {},
   "outputs": [
    {
     "name": "stdout",
     "output_type": "stream",
     "text": [
      "Number of components to retain 95% of the variance: 11\n"
     ]
    },
    {
     "data": {
      "image/png": "[encoded data removed]",
      "text/plain": [
       "<Figure size 1000x500 with 1 Axes>"
      ]
     },
     "metadata": {},
     "output_type": "display_data"
    }
   ],
   "source": [
    "# Initialize PCA with no reduction to compute total variance explained\n",
    "pca_full = PCA()\n",
    "pca_full.fit(X.select_dtypes(include=[np.number]))\n",
    "\n",
    "# Cumulative variance explained\n",
    "cumulative_variance = pca_full.explained_variance_ratio_.cumsum()\n",
    "\n",
    "# Determine the number of components to explain at least 95% of the variance\n",
    "n_components_95 = (cumulative_variance < 0.95).sum() + 1\n",
    "\n",
    "print(f\"Number of components to retain 95% of the variance: {n_components_95}\")\n",
    "\n",
    "# Plotting the scree plot\n",
    "plt.figure(figsize=(10, 5))\n",
    "plt.plot(cumulative_variance, marker='o')\n",
    "plt.xlabel('Number of Components')\n",
    "plt.ylabel('Cumulative Explained Variance')\n",
    "plt.title('Scree Plot')\n",
    "plt.axhline(y=0.95, color='r', linestyle='--')\n",
    "plt.axvline(x=n_components_95, color='r', linestyle='--')\n",
    "plt.show()\n",
    "\n",
    "# Applying PCA with the chosen number of components\n",
    "pca = PCA(n_components=n_components_95)\n",
    "reduced_data = pca.fit_transform(X.select_dtypes(include=[np.number]))\n",
    "\n",
    "# Create a DataFrame for the reduced PCA data\n",
    "pca_columns = ['PCA_Component_' + str(i+1) for i in range(n_components_95)]\n",
    "reduced_df = pd.DataFrame(reduced_data, columns=pca_columns)"
   ]
  },
  {
   "cell_type": "code",
   "execution_count": 44,
   "id": "deb3a0f8",
   "metadata": {},
   "outputs": [
    {
     "data": {
      "text/html": [
       "<div>\n",
       "<style scoped>\n",
       "    .dataframe tbody tr th:only-of-type {\n",
       "        vertical-align: middle;\n",
       "    }\n",
       "\n",
       "    .dataframe tbody tr th {\n",
       "        vertical-align: top;\n",
       "    }\n",
       "\n",
       "    .dataframe thead th {\n",
       "        text-align: right;\n",
       "    }\n",
       "</style>\n",
       "<table border=\"1\" class=\"dataframe\">\n",
       "  <thead>\n",
       "    <tr style=\"text-align: right;\">\n",
       "      <th></th>\n",
       "      <th>PCA_Component_1</th>\n",
       "      <th>PCA_Component_2</th>\n",
       "      <th>PCA_Component_3</th>\n",
       "      <th>PCA_Component_4</th>\n",
       "      <th>PCA_Component_5</th>\n",
       "      <th>PCA_Component_6</th>\n",
       "      <th>PCA_Component_7</th>\n",
       "      <th>PCA_Component_8</th>\n",
       "      <th>PCA_Component_9</th>\n",
       "      <th>PCA_Component_10</th>\n",
       "      <th>PCA_Component_11</th>\n",
       "    </tr>\n",
       "  </thead>\n",
       "  <tbody>\n",
       "    <tr>\n",
       "      <th>0</th>\n",
       "      <td>-2.344621</td>\n",
       "      <td>2.228660</td>\n",
       "      <td>0.796298</td>\n",
       "      <td>-1.504219</td>\n",
       "      <td>-0.259579</td>\n",
       "      <td>-0.039945</td>\n",
       "      <td>0.620542</td>\n",
       "      <td>-0.493506</td>\n",
       "      <td>-0.851343</td>\n",
       "      <td>-0.042139</td>\n",
       "      <td>-0.122074</td>\n",
       "    </tr>\n",
       "    <tr>\n",
       "      <th>1</th>\n",
       "      <td>-2.354941</td>\n",
       "      <td>2.226579</td>\n",
       "      <td>0.791117</td>\n",
       "      <td>-1.509367</td>\n",
       "      <td>-0.260187</td>\n",
       "      <td>-0.042009</td>\n",
       "      <td>0.615118</td>\n",
       "      <td>-0.482641</td>\n",
       "      <td>-0.842409</td>\n",
       "      <td>-0.063788</td>\n",
       "      <td>-0.114447</td>\n",
       "    </tr>\n",
       "    <tr>\n",
       "      <th>2</th>\n",
       "      <td>-2.483197</td>\n",
       "      <td>2.200715</td>\n",
       "      <td>0.726735</td>\n",
       "      <td>-1.573336</td>\n",
       "      <td>-0.267744</td>\n",
       "      <td>-0.067651</td>\n",
       "      <td>0.547704</td>\n",
       "      <td>-0.347617</td>\n",
       "      <td>-0.731383</td>\n",
       "      <td>-0.332828</td>\n",
       "      <td>-0.019661</td>\n",
       "    </tr>\n",
       "    <tr>\n",
       "      <th>3</th>\n",
       "      <td>-2.483197</td>\n",
       "      <td>2.200715</td>\n",
       "      <td>0.726735</td>\n",
       "      <td>-1.573336</td>\n",
       "      <td>-0.267744</td>\n",
       "      <td>-0.067651</td>\n",
       "      <td>0.547704</td>\n",
       "      <td>-0.347617</td>\n",
       "      <td>-0.731383</td>\n",
       "      <td>-0.332828</td>\n",
       "      <td>-0.019661</td>\n",
       "    </tr>\n",
       "    <tr>\n",
       "      <th>4</th>\n",
       "      <td>-2.529878</td>\n",
       "      <td>2.191302</td>\n",
       "      <td>0.703302</td>\n",
       "      <td>-1.596618</td>\n",
       "      <td>-0.270495</td>\n",
       "      <td>-0.076984</td>\n",
       "      <td>0.523168</td>\n",
       "      <td>-0.298473</td>\n",
       "      <td>-0.690974</td>\n",
       "      <td>-0.430748</td>\n",
       "      <td>0.014838</td>\n",
       "    </tr>\n",
       "  </tbody>\n",
       "</table>\n",
       "</div>"
      ],
      "text/plain": [
       "   PCA_Component_1  PCA_Component_2  PCA_Component_3  PCA_Component_4  \\\n",
       "0        -2.344621         2.228660         0.796298        -1.504219   \n",
       "1        -2.354941         2.226579         0.791117        -1.509367   \n",
       "2        -2.483197         2.200715         0.726735        -1.573336   \n",
       "3        -2.483197         2.200715         0.726735        -1.573336   \n",
       "4        -2.529878         2.191302         0.703302        -1.596618   \n",
       "\n",
       "   PCA_Component_5  PCA_Component_6  PCA_Component_7  PCA_Component_8  \\\n",
       "0        -0.259579        -0.039945         0.620542        -0.493506   \n",
       "1        -0.260187        -0.042009         0.615118        -0.482641   \n",
       "2        -0.267744        -0.067651         0.547704        -0.347617   \n",
       "3        -0.267744        -0.067651         0.547704        -0.347617   \n",
       "4        -0.270495        -0.076984         0.523168        -0.298473   \n",
       "\n",
       "   PCA_Component_9  PCA_Component_10  PCA_Component_11  \n",
       "0        -0.851343         -0.042139         -0.122074  \n",
       "1        -0.842409         -0.063788         -0.114447  \n",
       "2        -0.731383         -0.332828         -0.019661  \n",
       "3        -0.731383         -0.332828         -0.019661  \n",
       "4        -0.690974         -0.430748          0.014838  "
      ]
     },
     "execution_count": 44,
     "metadata": {},
     "output_type": "execute_result"
    }
   ],
   "source": [
    "reduced_df.head()"
   ]
  },
  {
   "cell_type": "code",
   "execution_count": 45,
   "id": "ee4810e9",
   "metadata": {},
   "outputs": [
    {
     "name": "stdout",
     "output_type": "stream",
     "text": [
      "Index(['Year', 'Area', 'PCA_Component_1', 'PCA_Component_2', 'PCA_Component_3',\n",
      "       'PCA_Component_4', 'PCA_Component_5', 'PCA_Component_6',\n",
      "       'PCA_Component_7', 'PCA_Component_8', 'PCA_Component_9',\n",
      "       'PCA_Component_10', 'PCA_Component_11'],\n",
      "      dtype='object')\n"
     ]
    }
   ],
   "source": [
    "# Essential features 'Year' and 'Area' from unmodified dataset:\n",
    "essential_features = original_X[['Year', 'Area']]  # Extract from the original, unmodified dataset\n",
    "\n",
    "# Supplementing essential features 'Year' and 'Area' alongside PCA components:\n",
    "full_data_for_modeling = pd.concat([essential_features.reset_index(drop=True), reduced_df], axis=1)\n",
    "print(full_data_for_modeling.columns)"
   ]
  },
  {
   "cell_type": "code",
   "execution_count": 46,
   "id": "faca19dd",
   "metadata": {},
   "outputs": [],
   "source": [
    "# Check if y contains more than one unique value\n",
    "if y.nunique() == 1:\n",
    "    print(\"All values in y are the same. Standardization will result in NaNs.\")\n",
    "else:\n",
    "    # Initialize the StandardScaler\n",
    "    scaler = StandardScaler()\n",
    "\n",
    "    # Reshape y to 2D array as required by StandardScaler\n",
    "    y_reshaped = y.values.reshape(-1, 1)\n",
    "\n",
    "    # Fit and transform the data\n",
    "    y_standardized = scaler.fit_transform(y_reshaped)\n",
    "\n",
    "    # Convert back to a pandas Series\n",
    "    y_standardized = pd.Series(y_standardized.flatten(), name='Total_Export_Value_Standardized')"
   ]
  },
  {
   "cell_type": "markdown",
   "id": "57cedada",
   "metadata": {},
   "source": [
    "### Split Data\n",
    "\n",
    "Split the data into training, validation, and test sets to ensure the effectiveness of the training and validation process:"
   ]
  },
  {
   "cell_type": "code",
   "execution_count": 47,
   "id": "3393fd2a",
   "metadata": {},
   "outputs": [
    {
     "name": "stdout",
     "output_type": "stream",
     "text": [
      "x_train shape: (266452, 11)\n",
      "y_train shape: (266452, 1)\n",
      "x_val shape: (57097, 11)\n",
      "y_val shape: (57097, 1)\n",
      "x_test shape: (57098, 11)\n",
      "y_test shape: (57098, 1)\n"
     ]
    }
   ],
   "source": [
    "# Initialize the StandardScaler for the target\n",
    "target_scaler = StandardScaler()\n",
    "\n",
    "# Splitting the data into training, validation, and testing sets\n",
    "x_train_reduced, x_temp_reduced, y_train_reduced, y_temp_reduced = train_test_split(\n",
    "    reduced_df, \n",
    "    y, \n",
    "    test_size=0.3, \n",
    "    random_state=42\n",
    ")\n",
    "\n",
    "x_val_reduced, x_test_reduced, y_val_reduced, y_test_reduced = train_test_split(\n",
    "    x_temp_reduced, \n",
    "    y_temp_reduced, \n",
    "    test_size=0.5, \n",
    "    random_state=42\n",
    ")\n",
    "\n",
    "# Convert pandas Series to NumPy array and reshape\n",
    "y_train_reduced = y_train_reduced.to_numpy().reshape(-1, 1)\n",
    "y_val_reduced = y_val_reduced.to_numpy().reshape(-1, 1)\n",
    "y_test_reduced = y_test_reduced.to_numpy().reshape(-1, 1)\n",
    "\n",
    "# Fit and transform the target variable for training data\n",
    "y_train_scaled = target_scaler.fit_transform(y_train_reduced)\n",
    "\n",
    "# Transform the target variable for validation and test data\n",
    "y_val_scaled = target_scaler.transform(y_val_reduced)\n",
    "y_test_scaled = target_scaler.transform(y_test_reduced)\n",
    "\n",
    "# Verify shapes\n",
    "print(f\"x_train shape: {x_train_reduced.shape}\")\n",
    "print(f\"y_train shape: {y_train_scaled.shape}\")\n",
    "print(f\"x_val shape: {x_val_reduced.shape}\")\n",
    "print(f\"y_val shape: {y_val_scaled.shape}\")\n",
    "print(f\"x_test shape: {x_test_reduced.shape}\")\n",
    "print(f\"y_test shape: {y_test_scaled.shape}\")"
   ]
  },
  {
   "cell_type": "markdown",
   "id": "ca193595",
   "metadata": {},
   "source": [
    "## Model Building"
   ]
  },
  {
   "cell_type": "code",
   "execution_count": 48,
   "id": "d600532a",
   "metadata": {},
   "outputs": [],
   "source": [
    "optimizer = Adam(learning_rate=0.001)\n",
    "\n",
    "def create_model(input_dim):\n",
    "    model = Sequential([\n",
    "        Input(shape=(input_dim,)), \n",
    "        Dense(256, activation='relu', kernel_regularizer=l2(0.001)),\n",
    "        Dropout(0.1),\n",
    "        Dense(128, activation='relu', kernel_regularizer=l2(0.001)),\n",
    "        Dropout(0.1),\n",
    "        Dense(64, activation='relu', kernel_regularizer=l2(0.001)),\n",
    "        Dropout(0.1),\n",
    "        Dense(32, activation='relu', kernel_regularizer=l2(0.001)),\n",
    "        Dropout(0.1),\n",
    "        Dense(1, activation='linear')   # Output layer for regression\n",
    "    ])\n",
    "    model.compile(optimizer=optimizer, loss='mse', metrics=['mae'])\n",
    "    return model\n",
    "\n",
    "# Create the model\n",
    "model = create_model(x_train_reduced.shape[1])"
   ]
  },
  {
   "cell_type": "markdown",
   "id": "2406417b",
   "metadata": {},
   "source": [
    "### Train Model"
   ]
  },
  {
   "cell_type": "code",
   "execution_count": 49,
   "id": "4ee72e3e",
   "metadata": {},
   "outputs": [
    {
     "name": "stdout",
     "output_type": "stream",
     "text": [
      "\n",
      "Epoch 1: LearningRateScheduler setting learning rate to 0.0010000000474974513.\n",
      "Epoch 1/100\n",
      "\u001b[1m8327/8327\u001b[0m \u001b[32m━━━━━━━━━━━━━━━━━━━━\u001b[0m\u001b[37m\u001b[0m \u001b[1m23s\u001b[0m 2ms/step - loss: 0.1791 - mae: 0.1423 - val_loss: 0.0321 - val_mae: 0.0650 - learning_rate: 0.0010\n",
      "\n",
      "Epoch 2: LearningRateScheduler setting learning rate to 0.0010000000474974513.\n",
      "Epoch 2/100\n",
      "\u001b[1m8327/8327\u001b[0m \u001b[32m━━━━━━━━━━━━━━━━━━━━\u001b[0m\u001b[37m\u001b[0m \u001b[1m20s\u001b[0m 2ms/step - loss: 0.0463 - mae: 0.0981 - val_loss: 0.0323 - val_mae: 0.0774 - learning_rate: 0.0010\n",
      "\n",
      "Epoch 3: LearningRateScheduler setting learning rate to 0.0010000000474974513.\n",
      "Epoch 3/100\n",
      "\u001b[1m8327/8327\u001b[0m \u001b[32m━━━━━━━━━━━━━━━━━━━━\u001b[0m\u001b[37m\u001b[0m \u001b[1m21s\u001b[0m 3ms/step - loss: 0.0434 - mae: 0.0974 - val_loss: 0.0293 - val_mae: 0.0748 - learning_rate: 0.0010\n",
      "\n",
      "Epoch 4: LearningRateScheduler setting learning rate to 0.0010000000474974513.\n",
      "Epoch 4/100\n",
      "\u001b[1m8327/8327\u001b[0m \u001b[32m━━━━━━━━━━━━━━━━━━━━\u001b[0m\u001b[37m\u001b[0m \u001b[1m21s\u001b[0m 2ms/step - loss: 0.0418 - mae: 0.0962 - val_loss: 0.0271 - val_mae: 0.0661 - learning_rate: 0.0010\n",
      "\n",
      "Epoch 5: LearningRateScheduler setting learning rate to 0.0010000000474974513.\n",
      "Epoch 5/100\n",
      "\u001b[1m8327/8327\u001b[0m \u001b[32m━━━━━━━━━━━━━━━━━━━━\u001b[0m\u001b[37m\u001b[0m \u001b[1m21s\u001b[0m 2ms/step - loss: 0.0400 - mae: 0.0947 - val_loss: 0.0351 - val_mae: 0.0839 - learning_rate: 0.0010\n",
      "\n",
      "Epoch 6: LearningRateScheduler setting learning rate to 0.0010000000474974513.\n",
      "Epoch 6/100\n",
      "\u001b[1m8327/8327\u001b[0m \u001b[32m━━━━━━━━━━━━━━━━━━━━\u001b[0m\u001b[37m\u001b[0m \u001b[1m21s\u001b[0m 2ms/step - loss: 0.0395 - mae: 0.0931 - val_loss: 0.0246 - val_mae: 0.0686 - learning_rate: 0.0010\n",
      "\n",
      "Epoch 7: LearningRateScheduler setting learning rate to 0.0010000000474974513.\n",
      "Epoch 7/100\n",
      "\u001b[1m8327/8327\u001b[0m \u001b[32m━━━━━━━━━━━━━━━━━━━━\u001b[0m\u001b[37m\u001b[0m \u001b[1m21s\u001b[0m 2ms/step - loss: 0.0390 - mae: 0.0927 - val_loss: 0.0243 - val_mae: 0.0641 - learning_rate: 0.0010\n",
      "\n",
      "Epoch 8: LearningRateScheduler setting learning rate to 0.0010000000474974513.\n",
      "Epoch 8/100\n",
      "\u001b[1m8327/8327\u001b[0m \u001b[32m━━━━━━━━━━━━━━━━━━━━\u001b[0m\u001b[37m\u001b[0m \u001b[1m20s\u001b[0m 2ms/step - loss: 0.0381 - mae: 0.0924 - val_loss: 0.0255 - val_mae: 0.0819 - learning_rate: 0.0010\n",
      "\n",
      "Epoch 9: LearningRateScheduler setting learning rate to 0.0010000000474974513.\n",
      "Epoch 9/100\n",
      "\u001b[1m8327/8327\u001b[0m \u001b[32m━━━━━━━━━━━━━━━━━━━━\u001b[0m\u001b[37m\u001b[0m \u001b[1m20s\u001b[0m 2ms/step - loss: 0.0373 - mae: 0.0914 - val_loss: 0.0231 - val_mae: 0.0678 - learning_rate: 0.0010\n",
      "\n",
      "Epoch 10: LearningRateScheduler setting learning rate to 0.0010000000474974513.\n",
      "Epoch 10/100\n",
      "\u001b[1m8327/8327\u001b[0m \u001b[32m━━━━━━━━━━━━━━━━━━━━\u001b[0m\u001b[37m\u001b[0m \u001b[1m21s\u001b[0m 2ms/step - loss: 0.0369 - mae: 0.0911 - val_loss: 0.0246 - val_mae: 0.0654 - learning_rate: 0.0010\n",
      "\n",
      "Epoch 11: LearningRateScheduler setting learning rate to 0.0009048374725009398.\n",
      "Epoch 11/100\n",
      "\u001b[1m8327/8327\u001b[0m \u001b[32m━━━━━━━━━━━━━━━━━━━━\u001b[0m\u001b[37m\u001b[0m \u001b[1m41s\u001b[0m 2ms/step - loss: 0.0361 - mae: 0.0902 - val_loss: 0.0241 - val_mae: 0.0646 - learning_rate: 9.0484e-04\n",
      "\n",
      "Epoch 12: LearningRateScheduler setting learning rate to 0.0008187307911418952.\n",
      "Epoch 12/100\n",
      "\u001b[1m8327/8327\u001b[0m \u001b[32m━━━━━━━━━━━━━━━━━━━━\u001b[0m\u001b[37m\u001b[0m \u001b[1m21s\u001b[0m 2ms/step - loss: 0.0343 - mae: 0.0887 - val_loss: 0.0230 - val_mae: 0.0617 - learning_rate: 8.1873e-04\n",
      "\n",
      "Epoch 13: LearningRateScheduler setting learning rate to 0.0007408182703889377.\n",
      "Epoch 13/100\n",
      "\u001b[1m8327/8327\u001b[0m \u001b[32m━━━━━━━━━━━━━━━━━━━━\u001b[0m\u001b[37m\u001b[0m \u001b[1m20s\u001b[0m 2ms/step - loss: 0.0333 - mae: 0.0873 - val_loss: 0.0196 - val_mae: 0.0657 - learning_rate: 7.4082e-04\n",
      "\n",
      "Epoch 14: LearningRateScheduler setting learning rate to 0.0006703201008711086.\n",
      "Epoch 14/100\n",
      "\u001b[1m8327/8327\u001b[0m \u001b[32m━━━━━━━━━━━━━━━━━━━━\u001b[0m\u001b[37m\u001b[0m \u001b[1m20s\u001b[0m 2ms/step - loss: 0.0327 - mae: 0.0868 - val_loss: 0.0209 - val_mae: 0.0593 - learning_rate: 6.7032e-04\n",
      "\n",
      "Epoch 15: LearningRateScheduler setting learning rate to 0.0006065307357605437.\n",
      "Epoch 15/100\n",
      "\u001b[1m8327/8327\u001b[0m \u001b[32m━━━━━━━━━━━━━━━━━━━━\u001b[0m\u001b[37m\u001b[0m \u001b[1m20s\u001b[0m 2ms/step - loss: 0.0316 - mae: 0.0853 - val_loss: 0.0195 - val_mae: 0.0564 - learning_rate: 6.0653e-04\n",
      "\n",
      "Epoch 16: LearningRateScheduler setting learning rate to 0.0005488117278605147.\n",
      "Epoch 16/100\n",
      "\u001b[1m8327/8327\u001b[0m \u001b[32m━━━━━━━━━━━━━━━━━━━━\u001b[0m\u001b[37m\u001b[0m \u001b[1m20s\u001b[0m 2ms/step - loss: 0.0306 - mae: 0.0839 - val_loss: 0.0174 - val_mae: 0.0504 - learning_rate: 5.4881e-04\n",
      "\n",
      "Epoch 17: LearningRateScheduler setting learning rate to 0.0004965854093889957.\n",
      "Epoch 17/100\n",
      "\u001b[1m8327/8327\u001b[0m \u001b[32m━━━━━━━━━━━━━━━━━━━━\u001b[0m\u001b[37m\u001b[0m \u001b[1m20s\u001b[0m 2ms/step - loss: 0.0300 - mae: 0.0832 - val_loss: 0.0178 - val_mae: 0.0601 - learning_rate: 4.9659e-04\n",
      "\n",
      "Epoch 18: LearningRateScheduler setting learning rate to 0.00044932904577846267.\n",
      "Epoch 18/100\n",
      "\u001b[1m8327/8327\u001b[0m \u001b[32m━━━━━━━━━━━━━━━━━━━━\u001b[0m\u001b[37m\u001b[0m \u001b[1m20s\u001b[0m 2ms/step - loss: 0.0292 - mae: 0.0821 - val_loss: 0.0166 - val_mae: 0.0472 - learning_rate: 4.4933e-04\n",
      "\n",
      "Epoch 19: LearningRateScheduler setting learning rate to 0.0004065697268342758.\n",
      "Epoch 19/100\n",
      "\u001b[1m8327/8327\u001b[0m \u001b[32m━━━━━━━━━━━━━━━━━━━━\u001b[0m\u001b[37m\u001b[0m \u001b[1m19s\u001b[0m 2ms/step - loss: 0.0287 - mae: 0.0814 - val_loss: 0.0156 - val_mae: 0.0458 - learning_rate: 4.0657e-04\n",
      "\n",
      "Epoch 20: LearningRateScheduler setting learning rate to 0.00036787949490117884.\n",
      "Epoch 20/100\n",
      "\u001b[1m8327/8327\u001b[0m \u001b[32m━━━━━━━━━━━━━━━━━━━━\u001b[0m\u001b[37m\u001b[0m \u001b[1m19s\u001b[0m 2ms/step - loss: 0.0282 - mae: 0.0807 - val_loss: 0.0154 - val_mae: 0.0500 - learning_rate: 3.6788e-04\n",
      "\n",
      "Epoch 21: LearningRateScheduler setting learning rate to 0.00033287113138567685.\n",
      "Epoch 21/100\n",
      "\u001b[1m8327/8327\u001b[0m \u001b[32m━━━━━━━━━━━━━━━━━━━━\u001b[0m\u001b[37m\u001b[0m \u001b[1m19s\u001b[0m 2ms/step - loss: 0.0276 - mae: 0.0798 - val_loss: 0.0140 - val_mae: 0.0412 - learning_rate: 3.3287e-04\n",
      "\n",
      "Epoch 22: LearningRateScheduler setting learning rate to 0.00030119425928923534.\n",
      "Epoch 22/100\n",
      "\u001b[1m8327/8327\u001b[0m \u001b[32m━━━━━━━━━━━━━━━━━━━━\u001b[0m\u001b[37m\u001b[0m \u001b[1m19s\u001b[0m 2ms/step - loss: 0.0272 - mae: 0.0790 - val_loss: 0.0144 - val_mae: 0.0428 - learning_rate: 3.0119e-04\n",
      "\n",
      "Epoch 23: LearningRateScheduler setting learning rate to 0.00027253184075500675.\n",
      "Epoch 23/100\n",
      "\u001b[1m8327/8327\u001b[0m \u001b[32m━━━━━━━━━━━━━━━━━━━━\u001b[0m\u001b[37m\u001b[0m \u001b[1m19s\u001b[0m 2ms/step - loss: 0.0269 - mae: 0.0790 - val_loss: 0.0150 - val_mae: 0.0468 - learning_rate: 2.7253e-04\n",
      "\n",
      "Epoch 24: LearningRateScheduler setting learning rate to 0.0002465970169596137.\n",
      "Epoch 24/100\n",
      "\u001b[1m8327/8327\u001b[0m \u001b[32m━━━━━━━━━━━━━━━━━━━━\u001b[0m\u001b[37m\u001b[0m \u001b[1m19s\u001b[0m 2ms/step - loss: 0.0266 - mae: 0.0784 - val_loss: 0.0138 - val_mae: 0.0414 - learning_rate: 2.4660e-04\n",
      "\n",
      "Epoch 25: LearningRateScheduler setting learning rate to 0.00022313021134728363.\n",
      "Epoch 25/100\n",
      "\u001b[1m8327/8327\u001b[0m \u001b[32m━━━━━━━━━━━━━━━━━━━━\u001b[0m\u001b[37m\u001b[0m \u001b[1m20s\u001b[0m 2ms/step - loss: 0.0263 - mae: 0.0781 - val_loss: 0.0154 - val_mae: 0.0512 - learning_rate: 2.2313e-04\n",
      "\n",
      "Epoch 26: LearningRateScheduler setting learning rate to 0.00020189656204192257.\n",
      "Epoch 26/100\n",
      "\u001b[1m8327/8327\u001b[0m \u001b[32m━━━━━━━━━━━━━━━━━━━━\u001b[0m\u001b[37m\u001b[0m \u001b[1m20s\u001b[0m 2ms/step - loss: 0.0260 - mae: 0.0775 - val_loss: 0.0135 - val_mae: 0.0441 - learning_rate: 2.0190e-04\n",
      "\n",
      "Epoch 27: LearningRateScheduler setting learning rate to 0.00018268356493307027.\n",
      "Epoch 27/100\n",
      "\u001b[1m8327/8327\u001b[0m \u001b[32m━━━━━━━━━━━━━━━━━━━━\u001b[0m\u001b[37m\u001b[0m \u001b[1m19s\u001b[0m 2ms/step - loss: 0.0259 - mae: 0.0774 - val_loss: 0.0137 - val_mae: 0.0420 - learning_rate: 1.8268e-04\n",
      "\n",
      "Epoch 28: LearningRateScheduler setting learning rate to 0.0001652989274357362.\n",
      "Epoch 28/100\n",
      "\u001b[1m8327/8327\u001b[0m \u001b[32m━━━━━━━━━━━━━━━━━━━━\u001b[0m\u001b[37m\u001b[0m \u001b[1m19s\u001b[0m 2ms/step - loss: 0.0254 - mae: 0.0768 - val_loss: 0.0131 - val_mae: 0.0443 - learning_rate: 1.6530e-04\n",
      "\n",
      "Epoch 29: LearningRateScheduler setting learning rate to 0.000149568659258352.\n",
      "Epoch 29/100\n",
      "\u001b[1m8327/8327\u001b[0m \u001b[32m━━━━━━━━━━━━━━━━━━━━\u001b[0m\u001b[37m\u001b[0m \u001b[1m20s\u001b[0m 2ms/step - loss: 0.0253 - mae: 0.0766 - val_loss: 0.0142 - val_mae: 0.0422 - learning_rate: 1.4957e-04\n",
      "\n",
      "Epoch 30: LearningRateScheduler setting learning rate to 0.00013533532117613462.\n",
      "Epoch 30/100\n",
      "\u001b[1m8327/8327\u001b[0m \u001b[32m━━━━━━━━━━━━━━━━━━━━\u001b[0m\u001b[37m\u001b[0m \u001b[1m20s\u001b[0m 2ms/step - loss: 0.0251 - mae: 0.0762 - val_loss: 0.0124 - val_mae: 0.0377 - learning_rate: 1.3534e-04\n",
      "\n",
      "Epoch 31: LearningRateScheduler setting learning rate to 0.00012245645814409553.\n",
      "Epoch 31/100\n",
      "\u001b[1m8327/8327\u001b[0m \u001b[32m━━━━━━━━━━━━━━━━━━━━\u001b[0m\u001b[37m\u001b[0m \u001b[1m19s\u001b[0m 2ms/step - loss: 0.0251 - mae: 0.0762 - val_loss: 0.0130 - val_mae: 0.0416 - learning_rate: 1.2246e-04\n"
     ]
    },
    {
     "name": "stdout",
     "output_type": "stream",
     "text": [
      "\n",
      "Epoch 32: LearningRateScheduler setting learning rate to 0.00011080319041546077.\n",
      "Epoch 32/100\n",
      "\u001b[1m8327/8327\u001b[0m \u001b[32m━━━━━━━━━━━━━━━━━━━━\u001b[0m\u001b[37m\u001b[0m \u001b[1m20s\u001b[0m 2ms/step - loss: 0.0245 - mae: 0.0751 - val_loss: 0.0135 - val_mae: 0.0434 - learning_rate: 1.1080e-04\n",
      "\n",
      "Epoch 33: LearningRateScheduler setting learning rate to 0.00010025887707923757.\n",
      "Epoch 33/100\n",
      "\u001b[1m8327/8327\u001b[0m \u001b[32m━━━━━━━━━━━━━━━━━━━━\u001b[0m\u001b[37m\u001b[0m \u001b[1m20s\u001b[0m 2ms/step - loss: 0.0244 - mae: 0.0754 - val_loss: 0.0129 - val_mae: 0.0402 - learning_rate: 1.0026e-04\n",
      "\n",
      "Epoch 34: LearningRateScheduler setting learning rate to 9.071798368810334e-05.\n",
      "Epoch 34/100\n",
      "\u001b[1m8327/8327\u001b[0m \u001b[32m━━━━━━━━━━━━━━━━━━━━\u001b[0m\u001b[37m\u001b[0m \u001b[1m18s\u001b[0m 2ms/step - loss: 0.0245 - mae: 0.0750 - val_loss: 0.0122 - val_mae: 0.0367 - learning_rate: 9.0718e-05\n",
      "\n",
      "Epoch 35: LearningRateScheduler setting learning rate to 8.20850288890001e-05.\n",
      "Epoch 35/100\n",
      "\u001b[1m8327/8327\u001b[0m \u001b[32m━━━━━━━━━━━━━━━━━━━━\u001b[0m\u001b[37m\u001b[0m \u001b[1m18s\u001b[0m 2ms/step - loss: 0.0242 - mae: 0.0743 - val_loss: 0.0120 - val_mae: 0.0376 - learning_rate: 8.2085e-05\n",
      "\n",
      "Epoch 36: LearningRateScheduler setting learning rate to 7.427360347287554e-05.\n",
      "Epoch 36/100\n",
      "\u001b[1m8327/8327\u001b[0m \u001b[32m━━━━━━━━━━━━━━━━━━━━\u001b[0m\u001b[37m\u001b[0m \u001b[1m19s\u001b[0m 2ms/step - loss: 0.0243 - mae: 0.0747 - val_loss: 0.0122 - val_mae: 0.0371 - learning_rate: 7.4274e-05\n",
      "\n",
      "Epoch 37: LearningRateScheduler setting learning rate to 6.720553426271727e-05.\n",
      "Epoch 37/100\n",
      "\u001b[1m8327/8327\u001b[0m \u001b[32m━━━━━━━━━━━━━━━━━━━━\u001b[0m\u001b[37m\u001b[0m \u001b[1m20s\u001b[0m 2ms/step - loss: 0.0245 - mae: 0.0745 - val_loss: 0.0124 - val_mae: 0.0390 - learning_rate: 6.7206e-05\n",
      "\n",
      "Epoch 38: LearningRateScheduler setting learning rate to 6.081008091938112e-05.\n",
      "Epoch 38/100\n",
      "\u001b[1m8327/8327\u001b[0m \u001b[32m━━━━━━━━━━━━━━━━━━━━\u001b[0m\u001b[37m\u001b[0m \u001b[1m20s\u001b[0m 2ms/step - loss: 0.0237 - mae: 0.0740 - val_loss: 0.0121 - val_mae: 0.0391 - learning_rate: 6.0810e-05\n",
      "\n",
      "Epoch 39: LearningRateScheduler setting learning rate to 5.502323808435992e-05.\n",
      "Epoch 39/100\n",
      "\u001b[1m8327/8327\u001b[0m \u001b[32m━━━━━━━━━━━━━━━━━━━━\u001b[0m\u001b[37m\u001b[0m \u001b[1m21s\u001b[0m 2ms/step - loss: 0.0238 - mae: 0.0742 - val_loss: 0.0119 - val_mae: 0.0385 - learning_rate: 5.5023e-05\n",
      "\n",
      "Epoch 40: LearningRateScheduler setting learning rate to 4.978708689924315e-05.\n",
      "Epoch 40/100\n",
      "\u001b[1m8327/8327\u001b[0m \u001b[32m━━━━━━━━━━━━━━━━━━━━\u001b[0m\u001b[37m\u001b[0m \u001b[1m21s\u001b[0m 2ms/step - loss: 0.0238 - mae: 0.0741 - val_loss: 0.0116 - val_mae: 0.0356 - learning_rate: 4.9787e-05\n",
      "\n",
      "Epoch 41: LearningRateScheduler setting learning rate to 4.5049218944323306e-05.\n",
      "Epoch 41/100\n",
      "\u001b[1m8327/8327\u001b[0m \u001b[32m━━━━━━━━━━━━━━━━━━━━\u001b[0m\u001b[37m\u001b[0m \u001b[1m21s\u001b[0m 2ms/step - loss: 0.0238 - mae: 0.0740 - val_loss: 0.0117 - val_mae: 0.0377 - learning_rate: 4.5049e-05\n",
      "\n",
      "Epoch 42: LearningRateScheduler setting learning rate to 4.0762219429231255e-05.\n",
      "Epoch 42/100\n",
      "\u001b[1m8327/8327\u001b[0m \u001b[32m━━━━━━━━━━━━━━━━━━━━\u001b[0m\u001b[37m\u001b[0m \u001b[1m21s\u001b[0m 2ms/step - loss: 0.0237 - mae: 0.0736 - val_loss: 0.0117 - val_mae: 0.0370 - learning_rate: 4.0762e-05\n",
      "\n",
      "Epoch 43: LearningRateScheduler setting learning rate to 3.688318330136555e-05.\n",
      "Epoch 43/100\n",
      "\u001b[1m8327/8327\u001b[0m \u001b[32m━━━━━━━━━━━━━━━━━━━━\u001b[0m\u001b[37m\u001b[0m \u001b[1m20s\u001b[0m 2ms/step - loss: 0.0235 - mae: 0.0735 - val_loss: 0.0117 - val_mae: 0.0361 - learning_rate: 3.6883e-05\n",
      "\n",
      "Epoch 44: LearningRateScheduler setting learning rate to 3.3373284022792e-05.\n",
      "Epoch 44/100\n",
      "\u001b[1m8327/8327\u001b[0m \u001b[32m━━━━━━━━━━━━━━━━━━━━\u001b[0m\u001b[37m\u001b[0m \u001b[1m20s\u001b[0m 2ms/step - loss: 0.0232 - mae: 0.0730 - val_loss: 0.0118 - val_mae: 0.0376 - learning_rate: 3.3373e-05\n",
      "\n",
      "Epoch 45: LearningRateScheduler setting learning rate to 3.019739501561357e-05.\n",
      "Epoch 45/100\n",
      "\u001b[1m8327/8327\u001b[0m \u001b[32m━━━━━━━━━━━━━━━━━━━━\u001b[0m\u001b[37m\u001b[0m \u001b[1m20s\u001b[0m 2ms/step - loss: 0.0235 - mae: 0.0732 - val_loss: 0.0114 - val_mae: 0.0352 - learning_rate: 3.0197e-05\n",
      "\n",
      "Epoch 46: LearningRateScheduler setting learning rate to 2.7323732503906268e-05.\n",
      "Epoch 46/100\n",
      "\u001b[1m8327/8327\u001b[0m \u001b[32m━━━━━━━━━━━━━━━━━━━━\u001b[0m\u001b[37m\u001b[0m \u001b[1m20s\u001b[0m 2ms/step - loss: 0.0237 - mae: 0.0737 - val_loss: 0.0116 - val_mae: 0.0361 - learning_rate: 2.7324e-05\n",
      "\n",
      "Epoch 47: LearningRateScheduler setting learning rate to 2.4723536211118083e-05.\n",
      "Epoch 47/100\n",
      "\u001b[1m8327/8327\u001b[0m \u001b[32m━━━━━━━━━━━━━━━━━━━━\u001b[0m\u001b[37m\u001b[0m \u001b[1m20s\u001b[0m 2ms/step - loss: 0.0233 - mae: 0.0733 - val_loss: 0.0114 - val_mae: 0.0352 - learning_rate: 2.4724e-05\n",
      "\n",
      "Epoch 48: LearningRateScheduler setting learning rate to 2.237078132937215e-05.\n",
      "Epoch 48/100\n",
      "\u001b[1m8327/8327\u001b[0m \u001b[32m━━━━━━━━━━━━━━━━━━━━\u001b[0m\u001b[37m\u001b[0m \u001b[1m20s\u001b[0m 2ms/step - loss: 0.0235 - mae: 0.0733 - val_loss: 0.0114 - val_mae: 0.0351 - learning_rate: 2.2371e-05\n",
      "\n",
      "Epoch 49: LearningRateScheduler setting learning rate to 2.0241920114784438e-05.\n",
      "Epoch 49/100\n",
      "\u001b[1m8327/8327\u001b[0m \u001b[32m━━━━━━━━━━━━━━━━━━━━\u001b[0m\u001b[37m\u001b[0m \u001b[1m19s\u001b[0m 2ms/step - loss: 0.0237 - mae: 0.0734 - val_loss: 0.0113 - val_mae: 0.0350 - learning_rate: 2.0242e-05\n",
      "\n",
      "Epoch 50: LearningRateScheduler setting learning rate to 1.8315646525237186e-05.\n",
      "Epoch 50/100\n",
      "\u001b[1m8327/8327\u001b[0m \u001b[32m━━━━━━━━━━━━━━━━━━━━\u001b[0m\u001b[37m\u001b[0m \u001b[1m19s\u001b[0m 2ms/step - loss: 0.0235 - mae: 0.0733 - val_loss: 0.0116 - val_mae: 0.0366 - learning_rate: 1.8316e-05\n",
      "\n",
      "Epoch 51: LearningRateScheduler setting learning rate to 1.6572682254718395e-05.\n",
      "Epoch 51/100\n",
      "\u001b[1m8327/8327\u001b[0m \u001b[32m━━━━━━━━━━━━━━━━━━━━\u001b[0m\u001b[37m\u001b[0m \u001b[1m20s\u001b[0m 2ms/step - loss: 0.0236 - mae: 0.0733 - val_loss: 0.0116 - val_mae: 0.0358 - learning_rate: 1.6573e-05\n",
      "\n",
      "Epoch 52: LearningRateScheduler setting learning rate to 1.4995582518337672e-05.\n",
      "Epoch 52/100\n",
      "\u001b[1m8327/8327\u001b[0m \u001b[32m━━━━━━━━━━━━━━━━━━━━\u001b[0m\u001b[37m\u001b[0m \u001b[1m20s\u001b[0m 2ms/step - loss: 0.0234 - mae: 0.0731 - val_loss: 0.0113 - val_mae: 0.0356 - learning_rate: 1.4996e-05\n",
      "\n",
      "Epoch 53: LearningRateScheduler setting learning rate to 1.3568564056852972e-05.\n",
      "Epoch 53/100\n",
      "\u001b[1m8327/8327\u001b[0m \u001b[32m━━━━━━━━━━━━━━━━━━━━\u001b[0m\u001b[37m\u001b[0m \u001b[1m20s\u001b[0m 2ms/step - loss: 0.0235 - mae: 0.0733 - val_loss: 0.0114 - val_mae: 0.0353 - learning_rate: 1.3569e-05\n",
      "\n",
      "Epoch 54: LearningRateScheduler setting learning rate to 1.2277344662425219e-05.\n",
      "Epoch 54/100\n",
      "\u001b[1m8327/8327\u001b[0m \u001b[32m━━━━━━━━━━━━━━━━━━━━\u001b[0m\u001b[37m\u001b[0m \u001b[1m20s\u001b[0m 2ms/step - loss: 0.0232 - mae: 0.0730 - val_loss: 0.0113 - val_mae: 0.0351 - learning_rate: 1.2277e-05\n",
      "\n",
      "Epoch 55: LearningRateScheduler setting learning rate to 1.1109000809159575e-05.\n",
      "Epoch 55/100\n",
      "\u001b[1m8327/8327\u001b[0m \u001b[32m━━━━━━━━━━━━━━━━━━━━\u001b[0m\u001b[37m\u001b[0m \u001b[1m20s\u001b[0m 2ms/step - loss: 0.0235 - mae: 0.0732 - val_loss: 0.0116 - val_mae: 0.0370 - learning_rate: 1.1109e-05\n",
      "\n",
      "Epoch 56: LearningRateScheduler setting learning rate to 1.0051840096653988e-05.\n",
      "Epoch 56/100\n",
      "\u001b[1m8327/8327\u001b[0m \u001b[32m━━━━━━━━━━━━━━━━━━━━\u001b[0m\u001b[37m\u001b[0m \u001b[1m20s\u001b[0m 2ms/step - loss: 0.0233 - mae: 0.0729 - val_loss: 0.0112 - val_mae: 0.0342 - learning_rate: 1.0052e-05\n",
      "\n",
      "Epoch 57: LearningRateScheduler setting learning rate to 9.095281100051365e-06.\n",
      "Epoch 57/100\n",
      "\u001b[1m8327/8327\u001b[0m \u001b[32m━━━━━━━━━━━━━━━━━━━━\u001b[0m\u001b[37m\u001b[0m \u001b[1m19s\u001b[0m 2ms/step - loss: 0.0231 - mae: 0.0726 - val_loss: 0.0113 - val_mae: 0.0357 - learning_rate: 9.0953e-06\n",
      "\n",
      "Epoch 58: LearningRateScheduler setting learning rate to 8.229750501933554e-06.\n",
      "Epoch 58/100\n",
      "\u001b[1m8327/8327\u001b[0m \u001b[32m━━━━━━━━━━━━━━━━━━━━\u001b[0m\u001b[37m\u001b[0m \u001b[1m19s\u001b[0m 2ms/step - loss: 0.0233 - mae: 0.0726 - val_loss: 0.0113 - val_mae: 0.0355 - learning_rate: 8.2298e-06\n",
      "\n",
      "Epoch 59: LearningRateScheduler setting learning rate to 7.446585984829273e-06.\n",
      "Epoch 59/100\n",
      "\u001b[1m8327/8327\u001b[0m \u001b[32m━━━━━━━━━━━━━━━━━━━━\u001b[0m\u001b[37m\u001b[0m \u001b[1m19s\u001b[0m 2ms/step - loss: 0.0232 - mae: 0.0729 - val_loss: 0.0114 - val_mae: 0.0360 - learning_rate: 7.4466e-06\n",
      "\n",
      "Epoch 60: LearningRateScheduler setting learning rate to 6.737949822005051e-06.\n",
      "Epoch 60/100\n",
      "\u001b[1m8327/8327\u001b[0m \u001b[32m━━━━━━━━━━━━━━━━━━━━\u001b[0m\u001b[37m\u001b[0m \u001b[1m19s\u001b[0m 2ms/step - loss: 0.0233 - mae: 0.0728 - val_loss: 0.0113 - val_mae: 0.0351 - learning_rate: 6.7379e-06\n",
      "\n",
      "Epoch 61: LearningRateScheduler setting learning rate to 6.096749051814963e-06.\n",
      "Epoch 61/100\n",
      "\u001b[1m8327/8327\u001b[0m \u001b[32m━━━━━━━━━━━━━━━━━━━━\u001b[0m\u001b[37m\u001b[0m \u001b[1m20s\u001b[0m 2ms/step - loss: 0.0231 - mae: 0.0732 - val_loss: 0.0113 - val_mae: 0.0349 - learning_rate: 6.0967e-06\n",
      "\n",
      "Epoch 62: LearningRateScheduler setting learning rate to 5.5165667618058145e-06.\n",
      "Epoch 62/100\n",
      "\u001b[1m8327/8327\u001b[0m \u001b[32m━━━━━━━━━━━━━━━━━━━━\u001b[0m\u001b[37m\u001b[0m \u001b[1m20s\u001b[0m 2ms/step - loss: 0.0231 - mae: 0.0729 - val_loss: 0.0113 - val_mae: 0.0354 - learning_rate: 5.5166e-06\n"
     ]
    },
    {
     "name": "stdout",
     "output_type": "stream",
     "text": [
      "\n",
      "Epoch 63: LearningRateScheduler setting learning rate to 4.991596253129288e-06.\n",
      "Epoch 63/100\n",
      "\u001b[1m8327/8327\u001b[0m \u001b[32m━━━━━━━━━━━━━━━━━━━━\u001b[0m\u001b[37m\u001b[0m \u001b[1m20s\u001b[0m 2ms/step - loss: 0.0232 - mae: 0.0728 - val_loss: 0.0112 - val_mae: 0.0351 - learning_rate: 4.9916e-06\n",
      "\n",
      "Epoch 64: LearningRateScheduler setting learning rate to 4.5165830229301545e-06.\n",
      "Epoch 64/100\n",
      "\u001b[1m8327/8327\u001b[0m \u001b[32m━━━━━━━━━━━━━━━━━━━━\u001b[0m\u001b[37m\u001b[0m \u001b[1m19s\u001b[0m 2ms/step - loss: 0.0233 - mae: 0.0729 - val_loss: 0.0113 - val_mae: 0.0354 - learning_rate: 4.5166e-06\n",
      "\n",
      "Epoch 65: LearningRateScheduler setting learning rate to 4.086773330293263e-06.\n",
      "Epoch 65/100\n",
      "\u001b[1m8327/8327\u001b[0m \u001b[32m━━━━━━━━━━━━━━━━━━━━\u001b[0m\u001b[37m\u001b[0m \u001b[1m18s\u001b[0m 2ms/step - loss: 0.0232 - mae: 0.0727 - val_loss: 0.0114 - val_mae: 0.0357 - learning_rate: 4.0868e-06\n",
      "\n",
      "Epoch 66: LearningRateScheduler setting learning rate to 3.6978656424975043e-06.\n",
      "Epoch 66/100\n",
      "\u001b[1m8327/8327\u001b[0m \u001b[32m━━━━━━━━━━━━━━━━━━━━\u001b[0m\u001b[37m\u001b[0m \u001b[1m18s\u001b[0m 2ms/step - loss: 0.0231 - mae: 0.0728 - val_loss: 0.0113 - val_mae: 0.0349 - learning_rate: 3.6979e-06\n",
      "Epoch 66: early stopping\n",
      "Restoring model weights from the end of the best epoch: 56.\n"
     ]
    }
   ],
   "source": [
    "# Function to update the learning rate\n",
    "def scheduler(epoch, lr):\n",
    "    if epoch < 10:\n",
    "        return float(lr)  # Keep the initial learning rate for the first 10 epochs\n",
    "    else:\n",
    "        return float(lr * tf.math.exp(-0.1).numpy())\n",
    "    \n",
    "    \n",
    "# Set up the early stopping\n",
    "early_stopping = EarlyStopping(\n",
    "    monitor='val_loss',\n",
    "    patience=10,\n",
    "    verbose=1,\n",
    "    restore_best_weights=True\n",
    ")\n",
    "\n",
    "# Set up the learning rate scheduler\n",
    "lr_scheduler = LearningRateScheduler(scheduler, verbose=1)\n",
    "\n",
    "# Train the model with both early stopping and learning rate scheduler callbacks\n",
    "history = model.fit(\n",
    "    x_train_reduced, y_train_scaled,\n",
    "    epochs=100,\n",
    "    batch_size=32,\n",
    "    validation_data=(x_val_reduced, y_val_scaled),\n",
    "    verbose=1,\n",
    "    callbacks=[early_stopping, lr_scheduler]\n",
    ")"
   ]
  },
  {
   "cell_type": "markdown",
   "id": "a3990879",
   "metadata": {},
   "source": [
    "### Evaluate the Model and Inverse Scaling"
   ]
  },
  {
   "cell_type": "code",
   "execution_count": 50,
   "id": "40d4ca07",
   "metadata": {},
   "outputs": [
    {
     "name": "stdout",
     "output_type": "stream",
     "text": [
      "\u001b[1m1785/1785\u001b[0m \u001b[32m━━━━━━━━━━━━━━━━━━━━\u001b[0m\u001b[37m\u001b[0m \u001b[1m2s\u001b[0m 1ms/step - loss: 0.0113 - mae: 0.0345\n",
      "Test Loss: 0.011285601183772087, Test MAE: 0.03443204239010811\n",
      "\u001b[1m1785/1785\u001b[0m \u001b[32m━━━━━━━━━━━━━━━━━━━━\u001b[0m\u001b[37m\u001b[0m \u001b[1m2s\u001b[0m 1ms/step\n",
      "        Actual    Predicted\n",
      "0  10184486.00   7849718.50\n",
      "1   1536844.00   2658702.75\n",
      "2   6358878.17   5914624.00\n",
      "3   1357368.33   1472863.75\n",
      "4  24524324.85  25602662.00\n"
     ]
    }
   ],
   "source": [
    "# Evaluate the model\n",
    "test_loss, test_mae = model.evaluate(x_test_reduced, y_test_scaled)\n",
    "print(f\"Test Loss: {test_loss}, Test MAE: {test_mae}\")\n",
    "\n",
    "# Make predictions\n",
    "y_pred_scaled = model.predict(x_test_reduced)\n",
    "\n",
    "# Inverse transform the predictions to original scale\n",
    "y_pred_original = target_scaler.inverse_transform(y_pred_scaled)\n",
    "\n",
    "# Compare predictions with actual values\n",
    "comparison_df = pd.DataFrame({'Actual': y_test_reduced.flatten(), 'Predicted': y_pred_original.flatten()})\n",
    "print(comparison_df.head())"
   ]
  },
  {
   "cell_type": "markdown",
   "id": "d3f99d3b",
   "metadata": {},
   "source": [
    "### Plot Learning Curve for both training and validation loss"
   ]
  },
  {
   "cell_type": "code",
   "execution_count": 52,
   "id": "56d71f52",
   "metadata": {},
   "outputs": [
    {
     "data": {
      "image/png": "[encoded data removed]",
      "text/plain": [
       "<Figure size 1200x600 with 1 Axes>"
      ]
     },
     "metadata": {},
     "output_type": "display_data"
    }
   ],
   "source": [
    "def plot_learning_curves(history, title='Model Learning Curves'):\n",
    "    \"\"\"\n",
    "    This function plots the learning curves for training and validation loss from the training history.\n",
    "\n",
    "    Args:\n",
    "    history : A History object from Keras. Contains the loss values and metrics across epochs.\n",
    "    title (optional): Title of the plot.\n",
    "    \"\"\"\n",
    "    loss = history.history['loss']\n",
    "    val_loss = history.history['val_loss']\n",
    "    epochs = range(1, len(loss) + 1)\n",
    "\n",
    "    plt.figure(figsize=(12, 6))\n",
    "    plt.plot(epochs, loss, 'bo-', label='Training loss')\n",
    "    plt.plot(epochs, val_loss, 'ro-', label='Validation loss')\n",
    "    plt.title(title)\n",
    "    plt.xlabel('Epochs')\n",
    "    plt.ylabel('Loss')\n",
    "    plt.legend()\n",
    "\n",
    "    plt.show()\n",
    "\n",
    "# 'history_reduced' is the training history object from the reduced model\n",
    "plot_learning_curves(history, \"Learning Curves for Reduced Model\")"
   ]
  },
  {
   "cell_type": "code",
   "execution_count": 53,
   "id": "b8afa773",
   "metadata": {},
   "outputs": [
    {
     "data": {
      "image/png": "[encoded data removed]",
      "text/plain": [
       "<Figure size 1000x600 with 1 Axes>"
      ]
     },
     "metadata": {},
     "output_type": "display_data"
    },
    {
     "data": {
      "image/png": "[encoded data removed]",
      "text/plain": [
       "<Figure size 1000x600 with 1 Axes>"
      ]
     },
     "metadata": {},
     "output_type": "display_data"
    }
   ],
   "source": [
    "# Plot actual vs. predicted values\n",
    "plt.figure(figsize=(10, 6))\n",
    "plt.scatter(y_test_reduced, y_pred_original, alpha=0.3)\n",
    "plt.title('Actual vs. Predicted Values')\n",
    "plt.xlabel('Actual Values')\n",
    "plt.ylabel('Predicted Values')\n",
    "plt.plot([min(y_test_reduced), max(y_test_reduced)], [min(y_test_reduced), max(y_test_reduced)], 'r--')\n",
    "plt.show()\n",
    "\n",
    "# Plotting the error distribution\n",
    "errors = y_pred_original - y_test_reduced\n",
    "plt.figure(figsize=(10, 6))\n",
    "plt.hist(errors, bins=50)\n",
    "plt.title('Distribution of Prediction Errors')\n",
    "plt.xlabel('Prediction Error')\n",
    "plt.ylabel('Frequency')\n",
    "plt.show()"
   ]
  },
  {
   "cell_type": "code",
   "execution_count": 54,
   "id": "f84d4df9",
   "metadata": {},
   "outputs": [
    {
     "data": {
      "image/png": "[encoded data removed]",
      "text/plain": [
       "<Figure size 1000x600 with 1 Axes>"
      ]
     },
     "metadata": {},
     "output_type": "display_data"
    }
   ],
   "source": [
    "# Calculate residuals\n",
    "residuals = y_test_reduced - y_pred_original\n",
    "\n",
    "# Plotting the residuals\n",
    "plt.figure(figsize=(10, 6))\n",
    "plt.scatter(y_test_reduced, residuals)\n",
    "plt.title('Residual Plot')\n",
    "plt.xlabel('Actual Values')\n",
    "plt.ylabel('Residuals')\n",
    "plt.axhline(y=0, color='r', linestyle='--')\n",
    "plt.show()"
   ]
  },
  {
   "cell_type": "code",
   "execution_count": 55,
   "id": "9c6f0cb9",
   "metadata": {},
   "outputs": [
    {
     "name": "stdout",
     "output_type": "stream",
     "text": [
      "\u001b[1m1785/1785\u001b[0m \u001b[32m━━━━━━━━━━━━━━━━━━━━\u001b[0m\u001b[37m\u001b[0m \u001b[1m2s\u001b[0m 1ms/step\n",
      "   Year               Area   True_Label  Predicted_Label\n",
      "0  2010            Ireland  10184486.00       7849718.50\n",
      "1  2013            Tunisia   1536844.00       2658702.75\n",
      "2  2015  Republic of Korea   6358878.17       5914624.00\n",
      "3  2021             Jordan   1357368.33       1472863.75\n",
      "4  2019        New Zealand  24524324.85      25602662.00\n"
     ]
    }
   ],
   "source": [
    "# Predicting using the model on the test set\n",
    "y_pred_scaled = model.predict(x_test_reduced)\n",
    "\n",
    "# Inversely transforming the predictions to the original scale\n",
    "y_pred_original = target_scaler.inverse_transform(y_pred_scaled)\n",
    "\n",
    "# Create a simple range sequence corresponding to each instance in x_test_reduced\n",
    "data_instance_ids = np.arange(len(y_pred_original))\n",
    "\n",
    "# Essential features 'Year' and 'Area' from unmodified dataset\n",
    "# Split using the same indices as the test set\n",
    "_, essential_features_temp, _, _ = train_test_split(\n",
    "    essential_features, \n",
    "    y, \n",
    "    test_size=0.3, \n",
    "    random_state=42\n",
    ")\n",
    "\n",
    "_, essential_features_test, _, _ = train_test_split(\n",
    "    essential_features_temp, \n",
    "    y_temp_reduced, \n",
    "    test_size=0.5, \n",
    "    random_state=42\n",
    ")\n",
    "\n",
    "# Creating a DataFrame to hold the results\n",
    "results_df = pd.DataFrame({\n",
    "    'Data_Instance_ID': data_instance_ids,\n",
    "    'True_Label': y_test_reduced.flatten(),  # Flattened in case the data is 2D\n",
    "    'Predicted_Label': y_pred_original.flatten()  # Flatten predictions to ensure they are 1D\n",
    "})\n",
    "\n",
    "# Set Data_Instance_ID as the index\n",
    "results_df.set_index('Data_Instance_ID', inplace=True)\n",
    "\n",
    "# Concatenate the essential features with the results DataFrame\n",
    "results_df = pd.concat([essential_features_test.reset_index(drop=True), results_df], axis=1)\n",
    "\n",
    "# Save the DataFrame to a CSV file\n",
    "results_df.to_csv('model_predictions.csv')\n",
    "\n",
    "# Print the DataFrame to verify contents\n",
    "print(results_df.head())"
   ]
  }
 ],
 "metadata": {
  "kernelspec": {
   "display_name": "Python 3 (ipykernel)",
   "language": "python",
   "name": "python3"
  },
  "language_info": {
   "codemirror_mode": {
    "name": "ipython",
    "version": 3
   },
   "file_extension": ".py",
   "mimetype": "text/x-python",
   "name": "python",
   "nbconvert_exporter": "python",
   "pygments_lexer": "ipython3",
   "version": "3.11.5"
  }
 },
 "nbformat": 4,
 "nbformat_minor": 5
}
